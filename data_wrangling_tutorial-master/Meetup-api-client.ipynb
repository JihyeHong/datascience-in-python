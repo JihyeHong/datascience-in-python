{
 "cells": [
  {
   "cell_type": "code",
   "execution_count": 2,
   "metadata": {},
   "outputs": [],
   "source": [
    "import meetup.api\n",
    "\n",
    "client = meetup.api.Client()\n",
    "client.api_key = \"4b35874521e552b1a363f156132259\" # Access the key from the config file"
   ]
  },
  {
   "cell_type": "code",
   "execution_count": 3,
   "metadata": {},
   "outputs": [
    {
     "name": "stdout",
     "output_type": "stream",
     "text": [
      "29/30 (10 seconds remaining)\n",
      "[{'utc_offset': 0, 'venue': {'country': 'gb', 'localized_country_name': 'United Kingdom', 'city': 'London', 'address_1': '230 City Road, EC1V 2QY', 'name': 'Monzo', 'lon': -0.093078, 'id': 25562918, 'lat': 51.528488, 'repinned': False}, 'rsvp_limit': 4, 'headcount': 0, 'visibility': 'public', 'waitlist_count': 5, 'created': 1508774741000, 'maybe_rsvp_count': 0, 'description': '<p><b>*****NOTE the now updated DAY &amp; VENUE for this event!! The workshop is now on Thurs 9th at Old St.</b> (instead of Wed 8th at Victoria due to issues with the original hosts)<b>*****</b></p> <p><b>-----------\\xa0<br/></b></p> <p>Data Engineering Head Alison Wells\\xa0will first explain what is an API, give examples of APIs and Python packages that make using them simple, and then she\\'ll go through authentication. The second part will be a hands-on workshop where we\\'ll work on pulling data from some popular APIs.</p> <p>-----------\\xa0</p> <p><b>Requirements</b>:</p> <p>- bring a fully charged laptop</p> <p>-----------</p> <p><b>Schedule</b>:</p> <p>6.00pm Doors open</p> <p>6.30pm Talk/Workshop</p> <p>8.00pm Refreshment/Networking</p> <p>-----------</p> <p><b>New way of getting a spot</b>:</p> <p>You will notice that you will be on the waiting list when you register. We will move you to the main list if we believe you are less likely to be a no-show/someone who cancels last minute without sending/posting a message and prevents those on the waiting list from attending.</p> <p>In addition, you won\\'t be promoted to the main list if you don\\'t answer the question when you RSVP.</p> <p>We are experimenting with this new scheme as we have noticed some increasingly irresponsible meetup behaviour from some of our members. It is not respectful for our work, and puts our relationship with our sponsors at risk. You need to play your part to enable us to run these free &amp; highly impactful events,\\xa0SO PLEASE CO-OPERATE!!</p> <p>-----------</p> <p><b>Many thanks to Venue Sponsors:</b></p> <p><img src=\"https://secure.meetupstatic.com/photos/event/9/1/a/9/600_465457289.jpeg\" /></p>', 'event_url': 'https://www.meetup.com/ai-club/events/244457090/', 'yes_rsvp_count': 31, 'duration': 9000000, 'name': 'Intro to APIs workshop!', 'id': '244457090', 'time': 1510250400000, 'updated': 1509884976000, 'group': {'join_mode': 'approval', 'created': 1498916879000, 'name': 'Artificial Intelligence (AI) Club for Gender Minorities!', 'group_lon': -0.10000000149011612, 'id': 24782625, 'urlname': 'ai-club', 'group_lat': 51.52000045776367, 'who': 'Techies'}, 'status': 'upcoming'}, {'utc_offset': 0, 'venue': {'country': 'gb', 'localized_country_name': 'United Kingdom', 'city': 'London', 'address_1': 'London', 'name': \"Venue near King's Cross\", 'lon': -0.127758, 'id': 25602788, 'lat': 51.507351, 'repinned': False}, 'rsvp_limit': 2, 'headcount': 0, 'visibility': 'public', 'waitlist_count': 5, 'created': 1510248275000, 'maybe_rsvp_count': 0, 'event_url': 'https://www.meetup.com/ai-club/events/244968049/', 'yes_rsvp_count': 2, 'duration': 10800000, 'name': 'Deep Learning with Keras~Tensorflow Study Group - beginners', 'id': '244968049', 'time': 1510768800000, 'updated': 1510248328000, 'group': {'join_mode': 'approval', 'created': 1498916879000, 'name': 'Artificial Intelligence (AI) Club for Gender Minorities!', 'group_lon': -0.10000000149011612, 'id': 24782625, 'urlname': 'ai-club', 'group_lat': 51.52000045776367, 'who': 'Techies'}, 'status': 'upcoming'}, {'utc_offset': 0, 'venue': {'country': 'gb', 'localized_country_name': 'United Kingdom', 'city': 'London', 'phone': '020 7758 4110', 'address_1': 'Tibits, 12-14 Heddon Street, W1B 4DA', 'name': 'Tibits', 'lon': -0.139337, 'id': 6723652, 'lat': 51.511457, 'repinned': False}, 'rsvp_limit': 15, 'headcount': 0, 'visibility': 'public', 'waitlist_count': 18, 'created': 1509476039000, 'maybe_rsvp_count': 0, 'description': '<p><b>Are you keen to ramp up your R or Python coding skills in a supportive environment?\\xa0</b></p> <p><b>This is the session for you!\\xa0</b></p> <p>This will be an informal, friendly and relaxed study group session. We will work in pairs or threes of similar ability to solve \\'kata\\' from the popular Code Wars website:</p> <p>\\xa0<a href=\"https://www.codewars.com/\"><a href=\"https://www.codewars.com/\" class=\"linkified\">https://www.codewars.com/</a></a>\\xa0</p> <p>Kata are coding challenges of gradually progressing difficulty, which are designed to help you improve on some of the fundamental aspects of your chosen language.</p> <p>As well as solving challenges yourself, you can view solutions written by other players, which is a great way to learn more efficient ways to write code.</p> <p><b>Location</b>: We will return to Tibits, the lovely restaurant in which Chiin hosted our last study group session.\\xa0</p> <p><i>Please note that the table booked is accessed via set of stairs, if this presents a mobility challenge for you, please do let me know and I will find something more suitable.\\xa0</i></p> <p><i>If you RSVP to this event and have recently \\'no-showed\\' to another of our events,\\xa0 you will be moved to the waiting list and may attend if a space becomes available.\\xa0</i></p>', 'event_url': 'https://www.meetup.com/ai-club/events/244693031/', 'yes_rsvp_count': 16, 'duration': 7200000, 'name': 'Code Wars Jam Session: Improve your Python or R Skills Fast!', 'id': '244693031', 'time': 1511112600000, 'updated': 1509806229000, 'group': {'join_mode': 'approval', 'created': 1498916879000, 'name': 'Artificial Intelligence (AI) Club for Gender Minorities!', 'group_lon': -0.10000000149011612, 'id': 24782625, 'urlname': 'ai-club', 'group_lat': 51.52000045776367, 'who': 'Techies'}, 'status': 'upcoming'}, {'utc_offset': 0, 'venue': {'country': 'gb', 'localized_country_name': 'United Kingdom', 'city': 'London', 'address_1': ' 4-5 Bonhill St, Shoreditch London EC2A 4BX ', 'name': 'Campus London  ', 'lon': -0.085634, 'id': 25222677, 'lat': 51.522663, 'repinned': False}, 'headcount': 0, 'visibility': 'public', 'waitlist_count': 0, 'created': 1510175976000, 'maybe_rsvp_count': 0, 'description': '<p>Our friends from the Google Developers Group (GDG) Cloud community have very kindly invited us to join them at their exciting upcoming gender minority-friendly event on the 30th November:</p> <p><br/><b>Gender Minorities in Cloud - Actions on Google + VR Reality - for beginners</b></p> <p>This is a fantastic opportunity to get an insight into cutting edge technology, using Google Cloud to build conversational chat bots.</p> <p>As if that were not enough, our very own Uve will be delivering a talk on virtual reality and telling us how we can build our very own web VR experiences!</p> <p><b>\\xa0Please sign up for this event via the GDG Cloud page directly:</b><br/><a href=\"https://www.meetup.com/gdgcloud/events/242030388/\" class=\"linkified\">https://www.meetup.com/gdgcloud/events/242030388/</a></p> <p>We look forward to seeing you there!</p>', 'event_url': 'https://www.meetup.com/ai-club/events/244942053/', 'yes_rsvp_count': 20, 'duration': 7200000, 'name': 'AI Club & Google Developer Group Cloud Collaboration Event: Chat Bots & Web VR!', 'id': '244942053', 'time': 1512066600000, 'updated': 1510176461000, 'group': {'join_mode': 'approval', 'created': 1498916879000, 'name': 'Artificial Intelligence (AI) Club for Gender Minorities!', 'group_lon': -0.10000000149011612, 'id': 24782625, 'urlname': 'ai-club', 'group_lat': 51.52000045776367, 'who': 'Techies'}, 'status': 'upcoming'}, {'utc_offset': 0, 'venue': {'country': 'gb', 'localized_country_name': 'United Kingdom', 'city': 'London', 'address_1': ' 2 Shepherdess Walk, N1 7LB', 'name': 'The Eagle Pub, Hoxton', 'lon': -0.091489, 'id': 25593651, 'lat': 51.528992, 'repinned': False}, 'rsvp_limit': 18, 'headcount': 0, 'visibility': 'public', 'waitlist_count': 0, 'created': 1509892635000, 'maybe_rsvp_count': 0, 'description': '<p>Join us for our end of year social at The Eagle pub in Hoxton, for their Wednesday night pub quiz.</p> <p><a href=\"https://www.theeaglehoxton.co.uk/offers\" class=\"linkified\">https://www.theeaglehoxton.co.uk/offers</a>\\xa0</p> <p>This is a chance to get to know each other better, celebrate the success and impressive growth of the AI Club since its inception in July, and give our brains a new kind of challenge!</p> <p>We have 3 tables booked, and so will split into 3 teams of 6 people to play.<b> Entry is £2 per person, which you will pay on the day.\\xa0</b></p> <p>The pub quiz starts at 7.30pm, and we will meet from 6.30pm for a drink (alcoholic or otherwise!) before the games begin.\\xa0</p> <p>Everybody is welcome, whether you are brand new to the club, or a regular fixture at events.</p>', 'event_url': 'https://www.meetup.com/ai-club/events/244838342/', 'yes_rsvp_count': 13, 'name': 'AI Club Christmas 2017 Quiz Social!', 'id': '244838342', 'time': 1512585000000, 'updated': 1509893135000, 'group': {'join_mode': 'approval', 'created': 1498916879000, 'name': 'Artificial Intelligence (AI) Club for Gender Minorities!', 'group_lon': -0.10000000149011612, 'id': 24782625, 'urlname': 'ai-club', 'group_lat': 51.52000045776367, 'who': 'Techies'}, 'status': 'upcoming'}]\n"
     ]
    }
   ],
   "source": [
    "events = client.GetEvents(group_urlname='ai-club') # Get all the events for AI Club\n",
    "print(events.results)"
   ]
  },
  {
   "cell_type": "code",
   "execution_count": 4,
   "metadata": {},
   "outputs": [
    {
     "name": "stdout",
     "output_type": "stream",
     "text": [
      "Intro to APIs workshop!\n",
      "Deep Learning with Keras~Tensorflow Study Group - beginners\n",
      "Code Wars Jam Session: Improve your Python or R Skills Fast!\n",
      "AI Club & Google Developer Group Cloud Collaboration Event: Chat Bots & Web VR!\n",
      "AI Club Christmas 2017 Quiz Social!\n"
     ]
    }
   ],
   "source": [
    "for event in events.results:\n",
    "  print(event['name'])"
   ]
  },
  {
   "cell_type": "code",
   "execution_count": 8,
   "metadata": {},
   "outputs": [
    {
     "name": "stdout",
     "output_type": "stream",
     "text": [
      "Intro to APIs workshop!\n",
      "31\n",
      "Deep Learning with Keras~Tensorflow Study Group - beginners\n",
      "2\n",
      "Code Wars Jam Session: Improve your Python or R Skills Fast!\n",
      "16\n",
      "AI Club & Google Developer Group Cloud Collaboration Event: Chat Bots & Web VR!\n",
      "20\n",
      "AI Club Christmas 2017 Quiz Social!\n",
      "13\n"
     ]
    }
   ],
   "source": [
    "for event in events.results:\n",
    "  if 'name' in event:\n",
    "    print(event['name'] )\n",
    "    print(event['yes_rsvp_count'])\n",
    "  else:\n",
    "    print(\"No name for this event\")"
   ]
  },
  {
   "cell_type": "code",
   "execution_count": 14,
   "metadata": {},
   "outputs": [
    {
     "name": "stdout",
     "output_type": "stream",
     "text": [
      "29/30 (10 seconds remaining)\n",
      "R Lightening Talks by R-Ladies\n",
      "1\n"
     ]
    }
   ],
   "source": [
    "events = client.GetEvents(group_urlname='rladies-london') # Get all the events for AI Club\n",
    "\n",
    "for event in events.results:\n",
    "  if 'name' in event:\n",
    "    print(event['name'] )\n",
    "    print(event['yes_rsvp_count'])\n",
    "  else:\n",
    "    print(\"No name for this event\")"
   ]
  },
  {
   "cell_type": "code",
   "execution_count": 24,
   "metadata": {},
   "outputs": [
    {
     "name": "stdout",
     "output_type": "stream",
     "text": [
      "19:30, 28 November 2017\n"
     ]
    }
   ],
   "source": [
    "from datetime import datetime\n",
    "changeDatetime(event['time'])"
   ]
  },
  {
   "cell_type": "code",
   "execution_count": 23,
   "metadata": {
    "collapsed": true
   },
   "outputs": [],
   "source": [
    "def changeDatetime(time):\n",
    "    # Turn the timestamp from a string to an integer\n",
    "    #intTime = int(event['time'])\n",
    "    intTime = int(time)\n",
    "    # Turn the timestamp into seconds rather than milliseconds.\n",
    "    timeInSeconds = intTime/1000\n",
    "    # Convert to datetime object\n",
    "    datetimeObject = datetime.fromtimestamp(timeInSeconds)\n",
    "    # Format to ISO format\n",
    "    #18:30, 9 November 2017\n",
    "    #formattedDate = datetimeObject.strftime('%Y-%m-%d T%H:%M:%S')\n",
    "    formattedDate = datetimeObject.strftime('%H:%M, %d %B %Y')\n",
    "    print(formattedDate)\n",
    "    "
   ]
  },
  {
   "cell_type": "code",
   "execution_count": 25,
   "metadata": {},
   "outputs": [
    {
     "name": "stdout",
     "output_type": "stream",
     "text": [
      "29/30 (10 seconds remaining)\n"
     ]
    },
    {
     "data": {
      "text/plain": [
       "<meetup.api.MeetupObject at 0x25db8384dd8>"
      ]
     },
     "execution_count": 25,
     "metadata": {},
     "output_type": "execute_result"
    }
   ],
   "source": [
    "client.CreateEventComment(comment='I used the Meetup API to post this comment!', event_id='244457090')"
   ]
  },
  {
   "cell_type": "code",
   "execution_count": null,
   "metadata": {
    "collapsed": true
   },
   "outputs": [],
   "source": []
  }
 ],
 "metadata": {
  "kernelspec": {
   "display_name": "Python [conda env:cryptocurrency-analysis]",
   "language": "python",
   "name": "conda-env-cryptocurrency-analysis-py"
  },
  "language_info": {
   "codemirror_mode": {
    "name": "ipython",
    "version": 3
   },
   "file_extension": ".py",
   "mimetype": "text/x-python",
   "name": "python",
   "nbconvert_exporter": "python",
   "pygments_lexer": "ipython3",
   "version": "3.6.3"
  }
 },
 "nbformat": 4,
 "nbformat_minor": 2
}
