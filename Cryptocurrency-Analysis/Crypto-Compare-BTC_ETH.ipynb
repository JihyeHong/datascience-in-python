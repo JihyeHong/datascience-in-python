{
 "cells": [
  {
   "cell_type": "code",
   "execution_count": 1,
   "metadata": {},
   "outputs": [
    {
     "data": {
      "text/html": [
       "<script>requirejs.config({paths: { 'plotly': ['https://cdn.plot.ly/plotly-latest.min']},});if(!window.Plotly) {{require(['plotly'],function(plotly) {window.Plotly=plotly;});}}</script>"
      ],
      "text/vnd.plotly.v1+html": [
       "<script>requirejs.config({paths: { 'plotly': ['https://cdn.plot.ly/plotly-latest.min']},});if(!window.Plotly) {{require(['plotly'],function(plotly) {window.Plotly=plotly;});}}</script>"
      ]
     },
     "metadata": {},
     "output_type": "display_data"
    }
   ],
   "source": [
    "# Crypto prices' analysis\n",
    "import requests\n",
    "import json\n",
    "import pandas as pd\n",
    "\n",
    "import plotly.offline as py\n",
    "import plotly.graph_objs as go\n",
    "import plotly.figure_factory as ff\n",
    "py.init_notebook_mode(connected=True)"
   ]
  },
  {
   "cell_type": "code",
   "execution_count": 2,
   "metadata": {
    "collapsed": true
   },
   "outputs": [],
   "source": [
    "# Function for CryptoCompare HistoMinute API request\n",
    "\n",
    "def get_histominute_data(exchange):\n",
    "    url = 'https://min-api.cryptocompare.com/data/histominute?fsym=ETH&tsym=BTC&limit=1440&aggregate=1&e={}'\n",
    "    response = requests.post(url.format(exchange))\n",
    "    data = json.loads(response.content)\n",
    "    df = pd.DataFrame.from_dict(data[\"Data\"], orient=\"columns\")\n",
    "    \n",
    "    \n",
    "    return pd.DataFrame(df)"
   ]
  },
  {
   "cell_type": "code",
   "execution_count": 44,
   "metadata": {
    "collapsed": true
   },
   "outputs": [],
   "source": [
    "# json list to pandas dataframe\n",
    "exchange_data = {}\n",
    "#exchanges = ['BITFINEX', 'BITTREX', 'POLONIEX', 'HITBTC', 'BINANCE', 'BITFLYER', 'GEMINI', 'YOBIT', 'LIVECOIN', 'EXMO', 'CRYPTOPIA']\n",
    "#exchanges = ['BINANCE', 'BITFINEX', 'BITFLYER', 'BITTREX', 'CRYPTOPIA', 'EXMO', 'GEMINI', 'HITBTC', 'KRAKEN', 'POLONIEX', 'YOBIT'] #btc_eth\n",
    "exchanges = ['POLONIEX', 'BITTREX', 'GDAX', 'KRAKEN', 'GEMINI']\n",
    "for exchange in exchanges:\n",
    "    exchange_data[exchange] = get_histominute_data(exchange)\n",
    "\n"
   ]
  },
  {
   "cell_type": "code",
   "execution_count": 45,
   "metadata": {},
   "outputs": [
    {
     "data": {
      "text/html": [
       "<div>\n",
       "<style>\n",
       "    .dataframe thead tr:only-child th {\n",
       "        text-align: right;\n",
       "    }\n",
       "\n",
       "    .dataframe thead th {\n",
       "        text-align: left;\n",
       "    }\n",
       "\n",
       "    .dataframe tbody tr th {\n",
       "        vertical-align: top;\n",
       "    }\n",
       "</style>\n",
       "<table border=\"1\" class=\"dataframe\">\n",
       "  <thead>\n",
       "    <tr style=\"text-align: right;\">\n",
       "      <th></th>\n",
       "      <th>close</th>\n",
       "      <th>high</th>\n",
       "      <th>low</th>\n",
       "      <th>open</th>\n",
       "      <th>time</th>\n",
       "      <th>volumefrom</th>\n",
       "      <th>volumeto</th>\n",
       "    </tr>\n",
       "  </thead>\n",
       "  <tbody>\n",
       "    <tr>\n",
       "      <th>0</th>\n",
       "      <td>0.04754</td>\n",
       "      <td>0.04761</td>\n",
       "      <td>0.04754</td>\n",
       "      <td>0.04755</td>\n",
       "      <td>1510587960</td>\n",
       "      <td>61.48</td>\n",
       "      <td>2.92</td>\n",
       "    </tr>\n",
       "    <tr>\n",
       "      <th>1</th>\n",
       "      <td>0.04742</td>\n",
       "      <td>0.04759</td>\n",
       "      <td>0.04733</td>\n",
       "      <td>0.04754</td>\n",
       "      <td>1510588020</td>\n",
       "      <td>163.07</td>\n",
       "      <td>7.74</td>\n",
       "    </tr>\n",
       "    <tr>\n",
       "      <th>2</th>\n",
       "      <td>0.04733</td>\n",
       "      <td>0.04742</td>\n",
       "      <td>0.04728</td>\n",
       "      <td>0.04742</td>\n",
       "      <td>1510588080</td>\n",
       "      <td>203.02</td>\n",
       "      <td>9.61</td>\n",
       "    </tr>\n",
       "    <tr>\n",
       "      <th>3</th>\n",
       "      <td>0.04721</td>\n",
       "      <td>0.04733</td>\n",
       "      <td>0.04721</td>\n",
       "      <td>0.04733</td>\n",
       "      <td>1510588140</td>\n",
       "      <td>159.39</td>\n",
       "      <td>7.53</td>\n",
       "    </tr>\n",
       "    <tr>\n",
       "      <th>4</th>\n",
       "      <td>0.04728</td>\n",
       "      <td>0.04728</td>\n",
       "      <td>0.04721</td>\n",
       "      <td>0.04721</td>\n",
       "      <td>1510588200</td>\n",
       "      <td>142.40</td>\n",
       "      <td>6.73</td>\n",
       "    </tr>\n",
       "  </tbody>\n",
       "</table>\n",
       "</div>"
      ],
      "text/plain": [
       "     close     high      low     open        time  volumefrom  volumeto\n",
       "0  0.04754  0.04761  0.04754  0.04755  1510587960       61.48      2.92\n",
       "1  0.04742  0.04759  0.04733  0.04754  1510588020      163.07      7.74\n",
       "2  0.04733  0.04742  0.04728  0.04742  1510588080      203.02      9.61\n",
       "3  0.04721  0.04733  0.04721  0.04733  1510588140      159.39      7.53\n",
       "4  0.04728  0.04728  0.04721  0.04721  1510588200      142.40      6.73"
      ]
     },
     "execution_count": 45,
     "metadata": {},
     "output_type": "execute_result"
    }
   ],
   "source": [
    "exchange_data['POLONIEX'].head()"
   ]
  },
  {
   "cell_type": "code",
   "execution_count": 46,
   "metadata": {
    "collapsed": true
   },
   "outputs": [],
   "source": [
    "# Function to merge dataframes into a single dataframe\n",
    "def merge_dfs_on_column(dataframes, labels, col):\n",
    "    '''Merge a single column of each dataframe into a new combined dataframe'''\n",
    "    series_dict = {}\n",
    "    for index in range(len(dataframes)):\n",
    "        series_dict[labels[index]] = dataframes[index][col]\n",
    "        \n",
    "    return pd.DataFrame(series_dict)"
   ]
  },
  {
   "cell_type": "code",
   "execution_count": 47,
   "metadata": {
    "collapsed": true
   },
   "outputs": [],
   "source": [
    "btc_usd_datasets = merge_dfs_on_column(list(exchange_data.values()), list(exchange_data.keys()), 'close')"
   ]
  },
  {
   "cell_type": "code",
   "execution_count": 48,
   "metadata": {},
   "outputs": [
    {
     "data": {
      "text/html": [
       "<div>\n",
       "<style>\n",
       "    .dataframe thead tr:only-child th {\n",
       "        text-align: right;\n",
       "    }\n",
       "\n",
       "    .dataframe thead th {\n",
       "        text-align: left;\n",
       "    }\n",
       "\n",
       "    .dataframe tbody tr th {\n",
       "        vertical-align: top;\n",
       "    }\n",
       "</style>\n",
       "<table border=\"1\" class=\"dataframe\">\n",
       "  <thead>\n",
       "    <tr style=\"text-align: right;\">\n",
       "      <th></th>\n",
       "      <th>BITTREX</th>\n",
       "      <th>GDAX</th>\n",
       "      <th>GEMINI</th>\n",
       "      <th>KRAKEN</th>\n",
       "      <th>POLONIEX</th>\n",
       "    </tr>\n",
       "  </thead>\n",
       "  <tbody>\n",
       "    <tr>\n",
       "      <th>0</th>\n",
       "      <td>0.04751</td>\n",
       "      <td>0.04747</td>\n",
       "      <td>0.04741</td>\n",
       "      <td>0.04727</td>\n",
       "      <td>0.04754</td>\n",
       "    </tr>\n",
       "    <tr>\n",
       "      <th>1</th>\n",
       "      <td>0.04750</td>\n",
       "      <td>0.04740</td>\n",
       "      <td>0.04765</td>\n",
       "      <td>0.04733</td>\n",
       "      <td>0.04742</td>\n",
       "    </tr>\n",
       "    <tr>\n",
       "      <th>2</th>\n",
       "      <td>0.04751</td>\n",
       "      <td>0.04740</td>\n",
       "      <td>0.04765</td>\n",
       "      <td>0.04733</td>\n",
       "      <td>0.04733</td>\n",
       "    </tr>\n",
       "    <tr>\n",
       "      <th>3</th>\n",
       "      <td>0.04737</td>\n",
       "      <td>0.04726</td>\n",
       "      <td>0.04727</td>\n",
       "      <td>0.04725</td>\n",
       "      <td>0.04721</td>\n",
       "    </tr>\n",
       "    <tr>\n",
       "      <th>4</th>\n",
       "      <td>0.04732</td>\n",
       "      <td>0.04725</td>\n",
       "      <td>0.04727</td>\n",
       "      <td>0.04724</td>\n",
       "      <td>0.04728</td>\n",
       "    </tr>\n",
       "  </tbody>\n",
       "</table>\n",
       "</div>"
      ],
      "text/plain": [
       "   BITTREX     GDAX   GEMINI   KRAKEN  POLONIEX\n",
       "0  0.04751  0.04747  0.04741  0.04727   0.04754\n",
       "1  0.04750  0.04740  0.04765  0.04733   0.04742\n",
       "2  0.04751  0.04740  0.04765  0.04733   0.04733\n",
       "3  0.04737  0.04726  0.04727  0.04725   0.04721\n",
       "4  0.04732  0.04725  0.04727  0.04724   0.04728"
      ]
     },
     "execution_count": 48,
     "metadata": {},
     "output_type": "execute_result"
    }
   ],
   "source": [
    "btc_usd_datasets.head()"
   ]
  },
  {
   "cell_type": "code",
   "execution_count": 49,
   "metadata": {
    "collapsed": true
   },
   "outputs": [],
   "source": [
    "# Add DateTime Column\n",
    "btc_usd_datasets[\"DATE\"] = exchange_data['BITTREX']['time']"
   ]
  },
  {
   "cell_type": "code",
   "execution_count": 50,
   "metadata": {
    "collapsed": true
   },
   "outputs": [],
   "source": [
    "# Calculating difference series price data\n",
    "sum = 0;\n",
    "for exchange in exchanges:\n",
    "    sum = sum+btc_usd_datasets[exchange]\n"
   ]
  },
  {
   "cell_type": "code",
   "execution_count": 51,
   "metadata": {
    "collapsed": true
   },
   "outputs": [],
   "source": [
    "# Calculating difference series price data\n",
    "sum = 0;\n",
    "for exchange in exchanges:\n",
    "    sum = sum+btc_usd_datasets[exchange]\n"
   ]
  },
  {
   "cell_type": "code",
   "execution_count": 52,
   "metadata": {},
   "outputs": [
    {
     "data": {
      "text/html": [
       "<div>\n",
       "<style>\n",
       "    .dataframe thead tr:only-child th {\n",
       "        text-align: right;\n",
       "    }\n",
       "\n",
       "    .dataframe thead th {\n",
       "        text-align: left;\n",
       "    }\n",
       "\n",
       "    .dataframe tbody tr th {\n",
       "        vertical-align: top;\n",
       "    }\n",
       "</style>\n",
       "<table border=\"1\" class=\"dataframe\">\n",
       "  <thead>\n",
       "    <tr style=\"text-align: right;\">\n",
       "      <th></th>\n",
       "      <th>BITTREX</th>\n",
       "      <th>GDAX</th>\n",
       "      <th>GEMINI</th>\n",
       "      <th>KRAKEN</th>\n",
       "      <th>POLONIEX</th>\n",
       "      <th>DATE</th>\n",
       "    </tr>\n",
       "  </thead>\n",
       "  <tbody>\n",
       "    <tr>\n",
       "      <th>0</th>\n",
       "      <td>0.04751</td>\n",
       "      <td>0.04747</td>\n",
       "      <td>0.04741</td>\n",
       "      <td>0.04727</td>\n",
       "      <td>0.04754</td>\n",
       "      <td>2017-11-13 15:46:00</td>\n",
       "    </tr>\n",
       "    <tr>\n",
       "      <th>1</th>\n",
       "      <td>0.04750</td>\n",
       "      <td>0.04740</td>\n",
       "      <td>0.04765</td>\n",
       "      <td>0.04733</td>\n",
       "      <td>0.04742</td>\n",
       "      <td>2017-11-13 15:47:00</td>\n",
       "    </tr>\n",
       "    <tr>\n",
       "      <th>2</th>\n",
       "      <td>0.04751</td>\n",
       "      <td>0.04740</td>\n",
       "      <td>0.04765</td>\n",
       "      <td>0.04733</td>\n",
       "      <td>0.04733</td>\n",
       "      <td>2017-11-13 15:48:00</td>\n",
       "    </tr>\n",
       "    <tr>\n",
       "      <th>3</th>\n",
       "      <td>0.04737</td>\n",
       "      <td>0.04726</td>\n",
       "      <td>0.04727</td>\n",
       "      <td>0.04725</td>\n",
       "      <td>0.04721</td>\n",
       "      <td>2017-11-13 15:49:00</td>\n",
       "    </tr>\n",
       "    <tr>\n",
       "      <th>4</th>\n",
       "      <td>0.04732</td>\n",
       "      <td>0.04725</td>\n",
       "      <td>0.04727</td>\n",
       "      <td>0.04724</td>\n",
       "      <td>0.04728</td>\n",
       "      <td>2017-11-13 15:50:00</td>\n",
       "    </tr>\n",
       "  </tbody>\n",
       "</table>\n",
       "</div>"
      ],
      "text/plain": [
       "   BITTREX     GDAX   GEMINI   KRAKEN  POLONIEX                DATE\n",
       "0  0.04751  0.04747  0.04741  0.04727   0.04754 2017-11-13 15:46:00\n",
       "1  0.04750  0.04740  0.04765  0.04733   0.04742 2017-11-13 15:47:00\n",
       "2  0.04751  0.04740  0.04765  0.04733   0.04733 2017-11-13 15:48:00\n",
       "3  0.04737  0.04726  0.04727  0.04725   0.04721 2017-11-13 15:49:00\n",
       "4  0.04732  0.04725  0.04727  0.04724   0.04728 2017-11-13 15:50:00"
      ]
     },
     "execution_count": 52,
     "metadata": {},
     "output_type": "execute_result"
    }
   ],
   "source": [
    "dt_new = btc_usd_datasets\n",
    "dt_new['DATE'] = pd.to_datetime(dt_new['DATE'],unit='s')\n",
    "dt_new.head()"
   ]
  },
  {
   "cell_type": "code",
   "execution_count": 53,
   "metadata": {},
   "outputs": [
    {
     "data": {
      "text/html": [
       "<div>\n",
       "<style>\n",
       "    .dataframe thead tr:only-child th {\n",
       "        text-align: right;\n",
       "    }\n",
       "\n",
       "    .dataframe thead th {\n",
       "        text-align: left;\n",
       "    }\n",
       "\n",
       "    .dataframe tbody tr th {\n",
       "        vertical-align: top;\n",
       "    }\n",
       "</style>\n",
       "<table border=\"1\" class=\"dataframe\">\n",
       "  <thead>\n",
       "    <tr style=\"text-align: right;\">\n",
       "      <th></th>\n",
       "      <th>BITTREX</th>\n",
       "      <th>GDAX</th>\n",
       "      <th>GEMINI</th>\n",
       "      <th>KRAKEN</th>\n",
       "      <th>POLONIEX</th>\n",
       "      <th>DATE</th>\n",
       "      <th>AVG</th>\n",
       "    </tr>\n",
       "  </thead>\n",
       "  <tbody>\n",
       "    <tr>\n",
       "      <th>1436</th>\n",
       "      <td>0.05056</td>\n",
       "      <td>0.05050</td>\n",
       "      <td>0.05060</td>\n",
       "      <td>0.0503</td>\n",
       "      <td>0.05050</td>\n",
       "      <td>2017-11-14 15:42:00</td>\n",
       "      <td>0.050492</td>\n",
       "    </tr>\n",
       "    <tr>\n",
       "      <th>1437</th>\n",
       "      <td>0.05062</td>\n",
       "      <td>0.05050</td>\n",
       "      <td>0.05060</td>\n",
       "      <td>0.0503</td>\n",
       "      <td>0.05054</td>\n",
       "      <td>2017-11-14 15:43:00</td>\n",
       "      <td>0.050512</td>\n",
       "    </tr>\n",
       "    <tr>\n",
       "      <th>1438</th>\n",
       "      <td>0.05062</td>\n",
       "      <td>0.05050</td>\n",
       "      <td>0.05060</td>\n",
       "      <td>0.0503</td>\n",
       "      <td>0.05060</td>\n",
       "      <td>2017-11-14 15:44:00</td>\n",
       "      <td>0.050524</td>\n",
       "    </tr>\n",
       "    <tr>\n",
       "      <th>1439</th>\n",
       "      <td>0.05063</td>\n",
       "      <td>0.05057</td>\n",
       "      <td>0.05068</td>\n",
       "      <td>0.0503</td>\n",
       "      <td>0.05060</td>\n",
       "      <td>2017-11-14 15:45:00</td>\n",
       "      <td>0.050556</td>\n",
       "    </tr>\n",
       "    <tr>\n",
       "      <th>1440</th>\n",
       "      <td>0.05063</td>\n",
       "      <td>0.05057</td>\n",
       "      <td>0.05068</td>\n",
       "      <td>0.0503</td>\n",
       "      <td>0.05060</td>\n",
       "      <td>2017-11-14 15:46:00</td>\n",
       "      <td>0.050556</td>\n",
       "    </tr>\n",
       "  </tbody>\n",
       "</table>\n",
       "</div>"
      ],
      "text/plain": [
       "      BITTREX     GDAX   GEMINI  KRAKEN  POLONIEX                DATE  \\\n",
       "1436  0.05056  0.05050  0.05060  0.0503   0.05050 2017-11-14 15:42:00   \n",
       "1437  0.05062  0.05050  0.05060  0.0503   0.05054 2017-11-14 15:43:00   \n",
       "1438  0.05062  0.05050  0.05060  0.0503   0.05060 2017-11-14 15:44:00   \n",
       "1439  0.05063  0.05057  0.05068  0.0503   0.05060 2017-11-14 15:45:00   \n",
       "1440  0.05063  0.05057  0.05068  0.0503   0.05060 2017-11-14 15:46:00   \n",
       "\n",
       "           AVG  \n",
       "1436  0.050492  \n",
       "1437  0.050512  \n",
       "1438  0.050524  \n",
       "1439  0.050556  \n",
       "1440  0.050556  "
      ]
     },
     "execution_count": 53,
     "metadata": {},
     "output_type": "execute_result"
    }
   ],
   "source": [
    "dt_new['AVG'] = sum/(len(dt_new.columns)-1)\n",
    "dt_new.tail()"
   ]
  },
  {
   "cell_type": "code",
   "execution_count": 54,
   "metadata": {},
   "outputs": [
    {
     "data": {
      "text/plain": [
       "{'BITTREX': 1.6176943789035428e-08,\n",
       " 'GDAX': 9.6306703678001677e-09,\n",
       " 'GEMINI': 1.5613557251908387e-08,\n",
       " 'KRAKEN': 9.2320927133934686e-08,\n",
       " 'POLONIEX': 1.3169990284524662e-08}"
      ]
     },
     "execution_count": 54,
     "metadata": {},
     "output_type": "execute_result"
    }
   ],
   "source": [
    "# calculating MSE\n",
    "dict_mse = {}\n",
    "\n",
    "for exchange in exchanges:\n",
    "    dict_mse[exchange] = ((dt_new[exchange] - dt_new['AVG']) ** 2).mean(axis=0)\n",
    "\n",
    "dict_mse"
   ]
  },
  {
   "cell_type": "code",
   "execution_count": 55,
   "metadata": {
    "collapsed": true
   },
   "outputs": [],
   "source": [
    "# MSE Dictionary to Dataframe\n",
    "df_mse = pd.DataFrame.from_dict(dict_mse, orient='index')"
   ]
  },
  {
   "cell_type": "code",
   "execution_count": 56,
   "metadata": {
    "scrolled": true
   },
   "outputs": [
    {
     "data": {
      "text/html": [
       "<div>\n",
       "<style>\n",
       "    .dataframe thead tr:only-child th {\n",
       "        text-align: right;\n",
       "    }\n",
       "\n",
       "    .dataframe thead th {\n",
       "        text-align: left;\n",
       "    }\n",
       "\n",
       "    .dataframe tbody tr th {\n",
       "        vertical-align: top;\n",
       "    }\n",
       "</style>\n",
       "<table border=\"1\" class=\"dataframe\">\n",
       "  <thead>\n",
       "    <tr style=\"text-align: right;\">\n",
       "      <th></th>\n",
       "      <th>error</th>\n",
       "    </tr>\n",
       "  </thead>\n",
       "  <tbody>\n",
       "    <tr>\n",
       "      <th>POLONIEX</th>\n",
       "      <td>1.316999e-08</td>\n",
       "    </tr>\n",
       "    <tr>\n",
       "      <th>BITTREX</th>\n",
       "      <td>1.617694e-08</td>\n",
       "    </tr>\n",
       "    <tr>\n",
       "      <th>GDAX</th>\n",
       "      <td>9.630670e-09</td>\n",
       "    </tr>\n",
       "    <tr>\n",
       "      <th>KRAKEN</th>\n",
       "      <td>9.232093e-08</td>\n",
       "    </tr>\n",
       "    <tr>\n",
       "      <th>GEMINI</th>\n",
       "      <td>1.561356e-08</td>\n",
       "    </tr>\n",
       "  </tbody>\n",
       "</table>\n",
       "</div>"
      ],
      "text/plain": [
       "                 error\n",
       "POLONIEX  1.316999e-08\n",
       "BITTREX   1.617694e-08\n",
       "GDAX      9.630670e-09\n",
       "KRAKEN    9.232093e-08\n",
       "GEMINI    1.561356e-08"
      ]
     },
     "execution_count": 56,
     "metadata": {},
     "output_type": "execute_result"
    }
   ],
   "source": [
    "df_mse.rename(columns={0:'error'})"
   ]
  },
  {
   "cell_type": "code",
   "execution_count": 57,
   "metadata": {
    "scrolled": true
   },
   "outputs": [],
   "source": [
    "df_mse = df_mse.rename(columns={0:'error'})"
   ]
  },
  {
   "cell_type": "code",
   "execution_count": 58,
   "metadata": {
    "collapsed": true
   },
   "outputs": [],
   "source": [
    "#Normalisation\n",
    "\n",
    "max_value = df_mse['error'].max()\n",
    "min_value = df_mse['error'].min()\n",
    "df_mse['normError']=(df_mse['error'] - min_value) / (max_value - min_value)\n"
   ]
  },
  {
   "cell_type": "code",
   "execution_count": 59,
   "metadata": {
    "scrolled": true
   },
   "outputs": [
    {
     "data": {
      "text/plain": [
       "<matplotlib.collections.PathCollection at 0x1abc8e4eb70>"
      ]
     },
     "execution_count": 59,
     "metadata": {},
     "output_type": "execute_result"
    },
    {
     "data": {
      "image/png": "[encoded data removed]",
      "text/plain": [
       "<matplotlib.figure.Figure at 0x1abc8e16c88>"
      ]
     },
     "metadata": {},
     "output_type": "display_data"
    }
   ],
   "source": [
    "import matplotlib\n",
    "import matplotlib.pyplot as plt\n",
    "%matplotlib inline\n",
    "\n",
    "matplotlib.rcParams['figure.figsize'] = (12.0, 8.0)\n",
    "\n",
    "plt.scatter(df_mse.index, df_mse['normError'])"
   ]
  },
  {
   "cell_type": "code",
   "execution_count": null,
   "metadata": {
    "collapsed": true
   },
   "outputs": [],
   "source": []
  },
  {
   "cell_type": "code",
   "execution_count": null,
   "metadata": {
    "collapsed": true
   },
   "outputs": [],
   "source": []
  }
 ],
 "metadata": {
  "kernelspec": {
   "display_name": "Python [conda env:cryptocurrency-analysis]",
   "language": "python",
   "name": "conda-env-cryptocurrency-analysis-py"
  },
  "language_info": {
   "codemirror_mode": {
    "name": "ipython",
    "version": 3
   },
   "file_extension": ".py",
   "mimetype": "text/x-python",
   "name": "python",
   "nbconvert_exporter": "python",
   "pygments_lexer": "ipython3",
   "version": "3.6.3"
  }
 },
 "nbformat": 4,
 "nbformat_minor": 2
}
