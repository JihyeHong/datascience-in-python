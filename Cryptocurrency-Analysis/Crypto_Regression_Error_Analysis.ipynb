{
 "cells": [
  {
   "cell_type": "code",
   "execution_count": 1,
   "metadata": {
    "collapsed": true
   },
   "outputs": [],
   "source": [
    "# import\n",
    "import requests\n",
    "import json\n",
    "import pandas as pd\n",
    "\n",
    "import matplotlib\n",
    "import matplotlib.pyplot as plt\n",
    "%matplotlib inline\n"
   ]
  },
  {
   "cell_type": "code",
   "execution_count": 6,
   "metadata": {
    "collapsed": true
   },
   "outputs": [],
   "source": [
    "# Function for CryptoCompare HistoMinute API request\n",
    "\n",
    "def get_histominute_data(exchange):\n",
    "    url = 'https://min-api.cryptocompare.com/data/histominute?fsym=BTC&tsym=USD&limit=1440&aggregate=1&e={}'\n",
    "    response = requests.post(url.format(exchange))\n",
    "    data = json.loads(response.content)\n",
    "    df = pd.DataFrame.from_dict(data[\"Data\"], orient=\"columns\")\n",
    "    \n",
    "    return pd.DataFrame(df)"
   ]
  },
  {
   "cell_type": "code",
   "execution_count": 7,
   "metadata": {
    "collapsed": true
   },
   "outputs": [],
   "source": [
    "# get data for each exchange\n",
    "exchange_data = {}\n",
    "exchanges = ['GDAX', 'BITSTAMP', 'GEMINI', 'OKCOIN', 'KRAKEN']\n",
    "for exchange in exchanges:\n",
    "    exchange_data[exchange] = get_histominute_data(exchange)\n"
   ]
  },
  {
   "cell_type": "code",
   "execution_count": 11,
   "metadata": {},
   "outputs": [
    {
     "data": {
      "text/html": [
       "<div>\n",
       "<style>\n",
       "    .dataframe thead tr:only-child th {\n",
       "        text-align: right;\n",
       "    }\n",
       "\n",
       "    .dataframe thead th {\n",
       "        text-align: left;\n",
       "    }\n",
       "\n",
       "    .dataframe tbody tr th {\n",
       "        vertical-align: top;\n",
       "    }\n",
       "</style>\n",
       "<table border=\"1\" class=\"dataframe\">\n",
       "  <thead>\n",
       "    <tr style=\"text-align: right;\">\n",
       "      <th></th>\n",
       "      <th>close</th>\n",
       "      <th>high</th>\n",
       "      <th>low</th>\n",
       "      <th>open</th>\n",
       "      <th>time</th>\n",
       "      <th>volumefrom</th>\n",
       "      <th>volumeto</th>\n",
       "    </tr>\n",
       "  </thead>\n",
       "  <tbody>\n",
       "    <tr>\n",
       "      <th>0</th>\n",
       "      <td>6549.43</td>\n",
       "      <td>6549.44</td>\n",
       "      <td>6549.43</td>\n",
       "      <td>6549.43</td>\n",
       "      <td>1510676880</td>\n",
       "      <td>3.55000</td>\n",
       "      <td>23261.53</td>\n",
       "    </tr>\n",
       "    <tr>\n",
       "      <th>1</th>\n",
       "      <td>6546.52</td>\n",
       "      <td>6549.44</td>\n",
       "      <td>6546.52</td>\n",
       "      <td>6549.43</td>\n",
       "      <td>1510676940</td>\n",
       "      <td>7.93000</td>\n",
       "      <td>51918.16</td>\n",
       "    </tr>\n",
       "    <tr>\n",
       "      <th>2</th>\n",
       "      <td>6546.52</td>\n",
       "      <td>6546.52</td>\n",
       "      <td>6546.52</td>\n",
       "      <td>6546.52</td>\n",
       "      <td>1510677000</td>\n",
       "      <td>5.00000</td>\n",
       "      <td>32732.67</td>\n",
       "    </tr>\n",
       "    <tr>\n",
       "      <th>3</th>\n",
       "      <td>6546.45</td>\n",
       "      <td>6546.52</td>\n",
       "      <td>6546.45</td>\n",
       "      <td>6546.52</td>\n",
       "      <td>1510677060</td>\n",
       "      <td>0.72710</td>\n",
       "      <td>4759.68</td>\n",
       "    </tr>\n",
       "    <tr>\n",
       "      <th>4</th>\n",
       "      <td>6546.46</td>\n",
       "      <td>6546.46</td>\n",
       "      <td>6546.45</td>\n",
       "      <td>6546.45</td>\n",
       "      <td>1510677120</td>\n",
       "      <td>0.07927</td>\n",
       "      <td>518.95</td>\n",
       "    </tr>\n",
       "  </tbody>\n",
       "</table>\n",
       "</div>"
      ],
      "text/plain": [
       "     close     high      low     open        time  volumefrom  volumeto\n",
       "0  6549.43  6549.44  6549.43  6549.43  1510676880     3.55000  23261.53\n",
       "1  6546.52  6549.44  6546.52  6549.43  1510676940     7.93000  51918.16\n",
       "2  6546.52  6546.52  6546.52  6546.52  1510677000     5.00000  32732.67\n",
       "3  6546.45  6546.52  6546.45  6546.52  1510677060     0.72710   4759.68\n",
       "4  6546.46  6546.46  6546.45  6546.45  1510677120     0.07927    518.95"
      ]
     },
     "execution_count": 11,
     "metadata": {},
     "output_type": "execute_result"
    }
   ],
   "source": [
    "exchange_data['GEMINI'].head()"
   ]
  },
  {
   "cell_type": "code",
   "execution_count": 12,
   "metadata": {
    "collapsed": true
   },
   "outputs": [],
   "source": [
    "# Function to merge dataframes into a single dataframe\n",
    "def merge_dfs_on_column(dataframes, labels, col):\n",
    "    '''Merge a single column of each dataframe into a new combined dataframe'''\n",
    "    series_dict = {}\n",
    "    for index in range(len(dataframes)):\n",
    "        series_dict[labels[index]] = dataframes[index][col]\n",
    "        \n",
    "    return pd.DataFrame(series_dict)"
   ]
  },
  {
   "cell_type": "code",
   "execution_count": 13,
   "metadata": {
    "collapsed": true
   },
   "outputs": [],
   "source": [
    "btc_usd_datasets = merge_dfs_on_column(list(exchange_data.values()), list(exchange_data.keys()), 'close')"
   ]
  },
  {
   "cell_type": "code",
   "execution_count": 14,
   "metadata": {},
   "outputs": [
    {
     "data": {
      "text/html": [
       "<div>\n",
       "<style>\n",
       "    .dataframe thead tr:only-child th {\n",
       "        text-align: right;\n",
       "    }\n",
       "\n",
       "    .dataframe thead th {\n",
       "        text-align: left;\n",
       "    }\n",
       "\n",
       "    .dataframe tbody tr th {\n",
       "        vertical-align: top;\n",
       "    }\n",
       "</style>\n",
       "<table border=\"1\" class=\"dataframe\">\n",
       "  <thead>\n",
       "    <tr style=\"text-align: right;\">\n",
       "      <th></th>\n",
       "      <th>BITSTAMP</th>\n",
       "      <th>GDAX</th>\n",
       "      <th>GEMINI</th>\n",
       "      <th>KRAKEN</th>\n",
       "      <th>OKCOIN</th>\n",
       "    </tr>\n",
       "  </thead>\n",
       "  <tbody>\n",
       "    <tr>\n",
       "      <th>0</th>\n",
       "      <td>6552.83</td>\n",
       "      <td>6551.14</td>\n",
       "      <td>6549.43</td>\n",
       "      <td>6609.0</td>\n",
       "      <td>6629.34</td>\n",
       "    </tr>\n",
       "    <tr>\n",
       "      <th>1</th>\n",
       "      <td>6552.21</td>\n",
       "      <td>6555.78</td>\n",
       "      <td>6546.52</td>\n",
       "      <td>6608.5</td>\n",
       "      <td>6687.11</td>\n",
       "    </tr>\n",
       "    <tr>\n",
       "      <th>2</th>\n",
       "      <td>6540.54</td>\n",
       "      <td>6552.00</td>\n",
       "      <td>6546.52</td>\n",
       "      <td>6595.7</td>\n",
       "      <td>6636.12</td>\n",
       "    </tr>\n",
       "    <tr>\n",
       "      <th>3</th>\n",
       "      <td>6542.24</td>\n",
       "      <td>6552.01</td>\n",
       "      <td>6546.45</td>\n",
       "      <td>6609.7</td>\n",
       "      <td>6636.57</td>\n",
       "    </tr>\n",
       "    <tr>\n",
       "      <th>4</th>\n",
       "      <td>6541.49</td>\n",
       "      <td>6552.01</td>\n",
       "      <td>6546.46</td>\n",
       "      <td>6596.8</td>\n",
       "      <td>6636.57</td>\n",
       "    </tr>\n",
       "  </tbody>\n",
       "</table>\n",
       "</div>"
      ],
      "text/plain": [
       "   BITSTAMP     GDAX   GEMINI  KRAKEN   OKCOIN\n",
       "0   6552.83  6551.14  6549.43  6609.0  6629.34\n",
       "1   6552.21  6555.78  6546.52  6608.5  6687.11\n",
       "2   6540.54  6552.00  6546.52  6595.7  6636.12\n",
       "3   6542.24  6552.01  6546.45  6609.7  6636.57\n",
       "4   6541.49  6552.01  6546.46  6596.8  6636.57"
      ]
     },
     "execution_count": 14,
     "metadata": {},
     "output_type": "execute_result"
    }
   ],
   "source": [
    "btc_usd_datasets.head()"
   ]
  },
  {
   "cell_type": "code",
   "execution_count": 20,
   "metadata": {
    "collapsed": true
   },
   "outputs": [],
   "source": [
    "# Function to merge dataframes into a single dataframe\n",
    "def merge_dfs_on_column2(dataframes, labels, col):\n",
    "    '''Merge a single column of each dataframe into a new combined dataframe'''\n",
    "    series_dict = {}\n",
    "    \n",
    "    \n",
    "    for index in range(len(dataframes)):\n",
    "        index = index + \"_VOLUME\"\n",
    "        series_dict[labels[index]] = dataframes[index][col]\n",
    "        \n",
    "    return pd.DataFrame(series_dict)"
   ]
  },
  {
   "cell_type": "code",
   "execution_count": 15,
   "metadata": {
    "collapsed": true
   },
   "outputs": [],
   "source": [
    "btc_usd_volumes = merge_dfs_on_column(list(exchange_data.values()), list(exchange_data.keys()), 'volumefrom')"
   ]
  },
  {
   "cell_type": "code",
   "execution_count": 18,
   "metadata": {
    "collapsed": true
   },
   "outputs": [],
   "source": [
    "# Concat two dataframe colme-wise\n",
    "df = pd.concat([btc_usd_datasets,btc_usd_volumes],axis=1).copy()"
   ]
  },
  {
   "cell_type": "code",
   "execution_count": 23,
   "metadata": {},
   "outputs": [
    {
     "data": {
      "text/html": [
       "<div>\n",
       "<style>\n",
       "    .dataframe thead tr:only-child th {\n",
       "        text-align: right;\n",
       "    }\n",
       "\n",
       "    .dataframe thead th {\n",
       "        text-align: left;\n",
       "    }\n",
       "\n",
       "    .dataframe tbody tr th {\n",
       "        vertical-align: top;\n",
       "    }\n",
       "</style>\n",
       "<table border=\"1\" class=\"dataframe\">\n",
       "  <thead>\n",
       "    <tr style=\"text-align: right;\">\n",
       "      <th></th>\n",
       "      <th>BITSTAMP</th>\n",
       "      <th>GDAX</th>\n",
       "      <th>GEMINI</th>\n",
       "      <th>KRAKEN</th>\n",
       "      <th>OKCOIN</th>\n",
       "    </tr>\n",
       "  </thead>\n",
       "  <tbody>\n",
       "    <tr>\n",
       "      <th>0</th>\n",
       "      <td>3.0200</td>\n",
       "      <td>15.64</td>\n",
       "      <td>3.55000</td>\n",
       "      <td>0.514500</td>\n",
       "      <td>0.3592</td>\n",
       "    </tr>\n",
       "    <tr>\n",
       "      <th>1</th>\n",
       "      <td>3.8400</td>\n",
       "      <td>5.89</td>\n",
       "      <td>7.93000</td>\n",
       "      <td>1.940000</td>\n",
       "      <td>0.0200</td>\n",
       "    </tr>\n",
       "    <tr>\n",
       "      <th>2</th>\n",
       "      <td>4.6400</td>\n",
       "      <td>12.65</td>\n",
       "      <td>5.00000</td>\n",
       "      <td>4.320000</td>\n",
       "      <td>0.0510</td>\n",
       "    </tr>\n",
       "    <tr>\n",
       "      <th>3</th>\n",
       "      <td>0.9595</td>\n",
       "      <td>8.85</td>\n",
       "      <td>0.72710</td>\n",
       "      <td>2.490000</td>\n",
       "      <td>0.0200</td>\n",
       "    </tr>\n",
       "    <tr>\n",
       "      <th>4</th>\n",
       "      <td>1.0300</td>\n",
       "      <td>7.74</td>\n",
       "      <td>0.07927</td>\n",
       "      <td>0.003717</td>\n",
       "      <td>0.0000</td>\n",
       "    </tr>\n",
       "  </tbody>\n",
       "</table>\n",
       "</div>"
      ],
      "text/plain": [
       "   BITSTAMP   GDAX   GEMINI    KRAKEN  OKCOIN\n",
       "0    3.0200  15.64  3.55000  0.514500  0.3592\n",
       "1    3.8400   5.89  7.93000  1.940000  0.0200\n",
       "2    4.6400  12.65  5.00000  4.320000  0.0510\n",
       "3    0.9595   8.85  0.72710  2.490000  0.0200\n",
       "4    1.0300   7.74  0.07927  0.003717  0.0000"
      ]
     },
     "execution_count": 23,
     "metadata": {},
     "output_type": "execute_result"
    }
   ],
   "source": [
    "btc_usd_volumes.head()"
   ]
  },
  {
   "cell_type": "code",
   "execution_count": 28,
   "metadata": {},
   "outputs": [],
   "source": [
    "# Calculate Weighted Price by volumefrom\n",
    "v1 = btc_usd_datasets.copy()\n",
    "v2 = btc_usd_volumes.copy()\n",
    "df = pd.DataFrame(v1 * v2, index=v1.index, columns=['BITSTAMP', 'GDAX', 'GEMINI', 'KRAKEN', 'OKCOIN'])"
   ]
  },
  {
   "cell_type": "code",
   "execution_count": 32,
   "metadata": {
    "scrolled": true
   },
   "outputs": [
    {
     "data": {
      "text/html": [
       "<div>\n",
       "<style>\n",
       "    .dataframe thead tr:only-child th {\n",
       "        text-align: right;\n",
       "    }\n",
       "\n",
       "    .dataframe thead th {\n",
       "        text-align: left;\n",
       "    }\n",
       "\n",
       "    .dataframe tbody tr th {\n",
       "        vertical-align: top;\n",
       "    }\n",
       "</style>\n",
       "<table border=\"1\" class=\"dataframe\">\n",
       "  <thead>\n",
       "    <tr style=\"text-align: right;\">\n",
       "      <th></th>\n",
       "      <th>BITSTAMP</th>\n",
       "      <th>GDAX</th>\n",
       "      <th>GEMINI</th>\n",
       "      <th>KRAKEN</th>\n",
       "    </tr>\n",
       "  </thead>\n",
       "  <tbody>\n",
       "    <tr>\n",
       "      <th>1436</th>\n",
       "      <td>565568.4000</td>\n",
       "      <td>235863.3285</td>\n",
       "      <td>79713.8391</td>\n",
       "      <td>29457.6000</td>\n",
       "    </tr>\n",
       "    <tr>\n",
       "      <th>1437</th>\n",
       "      <td>86321.3896</td>\n",
       "      <td>503642.2312</td>\n",
       "      <td>352970.7664</td>\n",
       "      <td>60883.2000</td>\n",
       "    </tr>\n",
       "    <tr>\n",
       "      <th>1438</th>\n",
       "      <td>80782.2000</td>\n",
       "      <td>416952.0000</td>\n",
       "      <td>85788.9000</td>\n",
       "      <td>34097.2800</td>\n",
       "    </tr>\n",
       "    <tr>\n",
       "      <th>1439</th>\n",
       "      <td>86982.1337</td>\n",
       "      <td>411543.6831</td>\n",
       "      <td>53671.9500</td>\n",
       "      <td>31190.4000</td>\n",
       "    </tr>\n",
       "    <tr>\n",
       "      <th>1440</th>\n",
       "      <td>0.0000</td>\n",
       "      <td>9987.1361</td>\n",
       "      <td>11187.4152</td>\n",
       "      <td>2261.5502</td>\n",
       "    </tr>\n",
       "  </tbody>\n",
       "</table>\n",
       "</div>"
      ],
      "text/plain": [
       "         BITSTAMP         GDAX       GEMINI      KRAKEN\n",
       "1436  565568.4000  235863.3285   79713.8391  29457.6000\n",
       "1437   86321.3896  503642.2312  352970.7664  60883.2000\n",
       "1438   80782.2000  416952.0000   85788.9000  34097.2800\n",
       "1439   86982.1337  411543.6831   53671.9500  31190.4000\n",
       "1440       0.0000    9987.1361   11187.4152   2261.5502"
      ]
     },
     "execution_count": 32,
     "metadata": {},
     "output_type": "execute_result"
    }
   ],
   "source": [
    "df.tail()"
   ]
  },
  {
   "cell_type": "code",
   "execution_count": 41,
   "metadata": {},
   "outputs": [],
   "source": [
    "# Remove any rows with 0\n",
    "dfnew = df.loc[(df.T!=0.0000).any()]"
   ]
  },
  {
   "cell_type": "code",
   "execution_count": 42,
   "metadata": {
    "scrolled": true
   },
   "outputs": [
    {
     "data": {
      "text/html": [
       "<div>\n",
       "<style>\n",
       "    .dataframe thead tr:only-child th {\n",
       "        text-align: right;\n",
       "    }\n",
       "\n",
       "    .dataframe thead th {\n",
       "        text-align: left;\n",
       "    }\n",
       "\n",
       "    .dataframe tbody tr th {\n",
       "        vertical-align: top;\n",
       "    }\n",
       "</style>\n",
       "<table border=\"1\" class=\"dataframe\">\n",
       "  <thead>\n",
       "    <tr style=\"text-align: right;\">\n",
       "      <th></th>\n",
       "      <th>BITSTAMP</th>\n",
       "      <th>GDAX</th>\n",
       "      <th>GEMINI</th>\n",
       "      <th>KRAKEN</th>\n",
       "    </tr>\n",
       "  </thead>\n",
       "  <tbody>\n",
       "    <tr>\n",
       "      <th>1436</th>\n",
       "      <td>565568.4000</td>\n",
       "      <td>235863.3285</td>\n",
       "      <td>79713.8391</td>\n",
       "      <td>29457.6000</td>\n",
       "    </tr>\n",
       "    <tr>\n",
       "      <th>1437</th>\n",
       "      <td>86321.3896</td>\n",
       "      <td>503642.2312</td>\n",
       "      <td>352970.7664</td>\n",
       "      <td>60883.2000</td>\n",
       "    </tr>\n",
       "    <tr>\n",
       "      <th>1438</th>\n",
       "      <td>80782.2000</td>\n",
       "      <td>416952.0000</td>\n",
       "      <td>85788.9000</td>\n",
       "      <td>34097.2800</td>\n",
       "    </tr>\n",
       "    <tr>\n",
       "      <th>1439</th>\n",
       "      <td>86982.1337</td>\n",
       "      <td>411543.6831</td>\n",
       "      <td>53671.9500</td>\n",
       "      <td>31190.4000</td>\n",
       "    </tr>\n",
       "    <tr>\n",
       "      <th>1440</th>\n",
       "      <td>0.0000</td>\n",
       "      <td>9987.1361</td>\n",
       "      <td>11187.4152</td>\n",
       "      <td>2261.5502</td>\n",
       "    </tr>\n",
       "  </tbody>\n",
       "</table>\n",
       "</div>"
      ],
      "text/plain": [
       "         BITSTAMP         GDAX       GEMINI      KRAKEN\n",
       "1436  565568.4000  235863.3285   79713.8391  29457.6000\n",
       "1437   86321.3896  503642.2312  352970.7664  60883.2000\n",
       "1438   80782.2000  416952.0000   85788.9000  34097.2800\n",
       "1439   86982.1337  411543.6831   53671.9500  31190.4000\n",
       "1440       0.0000    9987.1361   11187.4152   2261.5502"
      ]
     },
     "execution_count": 42,
     "metadata": {},
     "output_type": "execute_result"
    }
   ],
   "source": [
    "dfnew.tail()"
   ]
  },
  {
   "cell_type": "code",
   "execution_count": 60,
   "metadata": {},
   "outputs": [],
   "source": [
    "avg = 0;\n",
    "\n",
    "for exchange in exchanges:\n",
    "    avg =  avg + btc_usd_datasets[exchange]\n",
    "    \n",
    "avg = avg/len(btc_usd_datasets.columns)"
   ]
  },
  {
   "cell_type": "code",
   "execution_count": 47,
   "metadata": {},
   "outputs": [],
   "source": [
    "# Add 'Average' price into the dataframe\n",
    "btc_usd_datasets['AVG']=avg"
   ]
  },
  {
   "cell_type": "code",
   "execution_count": 58,
   "metadata": {},
   "outputs": [
    {
     "data": {
      "text/plain": [
       "1       6590.024\n",
       "2       6574.176\n",
       "3       6577.394\n",
       "4       6574.666\n",
       "5       6579.578\n",
       "6       6579.558\n",
       "7       6596.668\n",
       "8       6593.340\n",
       "9       6599.216\n",
       "10      6613.268\n",
       "11      6616.332\n",
       "12      6621.302\n",
       "13      6623.722\n",
       "14      6614.020\n",
       "15      6619.676\n",
       "16      6634.994\n",
       "17      6629.446\n",
       "18      6645.468\n",
       "19      6627.086\n",
       "20      6625.544\n",
       "21      6621.220\n",
       "22      6621.828\n",
       "23      6621.746\n",
       "24      6632.556\n",
       "25      6608.376\n",
       "26      6612.926\n",
       "27      6633.632\n",
       "28      6630.788\n",
       "29      6634.022\n",
       "30      6632.510\n",
       "          ...   \n",
       "1411    8843.372\n",
       "1412    8842.962\n",
       "1413    8838.290\n",
       "1414    8830.650\n",
       "1415    8825.806\n",
       "1416    8815.344\n",
       "1417    8828.862\n",
       "1418    8823.352\n",
       "1419    8830.826\n",
       "1420    8821.808\n",
       "1421    8828.112\n",
       "1422    8819.956\n",
       "1423    8825.488\n",
       "1424    8823.252\n",
       "1425    8820.006\n",
       "1426    8822.466\n",
       "1427    8819.558\n",
       "1428    8829.948\n",
       "1429    8825.502\n",
       "1430    8818.668\n",
       "1431    8814.262\n",
       "1432    8813.710\n",
       "1433    8804.800\n",
       "1434    8790.686\n",
       "1435    8779.322\n",
       "1436    8774.616\n",
       "1437    8790.260\n",
       "1438    8788.128\n",
       "1439    8783.936\n",
       "1440    8781.420\n",
       "Length: 1440, dtype: float64"
      ]
     },
     "execution_count": 58,
     "metadata": {},
     "output_type": "execute_result"
    }
   ],
   "source": [
    "avg"
   ]
  },
  {
   "cell_type": "code",
   "execution_count": 48,
   "metadata": {
    "collapsed": true
   },
   "outputs": [],
   "source": [
    "# Add DateTime Column\n",
    "btc_usd_datasets[\"DATE\"] = exchange_data['BITSTAMP']['time']\n",
    "btc_usd_datasets['DATE'] = pd.to_datetime(btc_usd_datasets['DATE'],unit='s')"
   ]
  },
  {
   "cell_type": "code",
   "execution_count": 49,
   "metadata": {},
   "outputs": [
    {
     "data": {
      "text/html": [
       "<div>\n",
       "<style>\n",
       "    .dataframe thead tr:only-child th {\n",
       "        text-align: right;\n",
       "    }\n",
       "\n",
       "    .dataframe thead th {\n",
       "        text-align: left;\n",
       "    }\n",
       "\n",
       "    .dataframe tbody tr th {\n",
       "        vertical-align: top;\n",
       "    }\n",
       "</style>\n",
       "<table border=\"1\" class=\"dataframe\">\n",
       "  <thead>\n",
       "    <tr style=\"text-align: right;\">\n",
       "      <th></th>\n",
       "      <th>BITSTAMP</th>\n",
       "      <th>GDAX</th>\n",
       "      <th>GEMINI</th>\n",
       "      <th>KRAKEN</th>\n",
       "      <th>OKCOIN</th>\n",
       "      <th>AVG</th>\n",
       "      <th>DATE</th>\n",
       "    </tr>\n",
       "  </thead>\n",
       "  <tbody>\n",
       "    <tr>\n",
       "      <th>0</th>\n",
       "      <td>6552.83</td>\n",
       "      <td>6551.14</td>\n",
       "      <td>6549.43</td>\n",
       "      <td>6609.0</td>\n",
       "      <td>6629.34</td>\n",
       "      <td>6578.348</td>\n",
       "      <td>2017-11-14 16:28:00</td>\n",
       "    </tr>\n",
       "    <tr>\n",
       "      <th>1</th>\n",
       "      <td>6552.21</td>\n",
       "      <td>6555.78</td>\n",
       "      <td>6546.52</td>\n",
       "      <td>6608.5</td>\n",
       "      <td>6687.11</td>\n",
       "      <td>6590.024</td>\n",
       "      <td>2017-11-14 16:29:00</td>\n",
       "    </tr>\n",
       "    <tr>\n",
       "      <th>2</th>\n",
       "      <td>6540.54</td>\n",
       "      <td>6552.00</td>\n",
       "      <td>6546.52</td>\n",
       "      <td>6595.7</td>\n",
       "      <td>6636.12</td>\n",
       "      <td>6574.176</td>\n",
       "      <td>2017-11-14 16:30:00</td>\n",
       "    </tr>\n",
       "    <tr>\n",
       "      <th>3</th>\n",
       "      <td>6542.24</td>\n",
       "      <td>6552.01</td>\n",
       "      <td>6546.45</td>\n",
       "      <td>6609.7</td>\n",
       "      <td>6636.57</td>\n",
       "      <td>6577.394</td>\n",
       "      <td>2017-11-14 16:31:00</td>\n",
       "    </tr>\n",
       "    <tr>\n",
       "      <th>4</th>\n",
       "      <td>6541.49</td>\n",
       "      <td>6552.01</td>\n",
       "      <td>6546.46</td>\n",
       "      <td>6596.8</td>\n",
       "      <td>6636.57</td>\n",
       "      <td>6574.666</td>\n",
       "      <td>2017-11-14 16:32:00</td>\n",
       "    </tr>\n",
       "  </tbody>\n",
       "</table>\n",
       "</div>"
      ],
      "text/plain": [
       "   BITSTAMP     GDAX   GEMINI  KRAKEN   OKCOIN       AVG                DATE\n",
       "0   6552.83  6551.14  6549.43  6609.0  6629.34  6578.348 2017-11-14 16:28:00\n",
       "1   6552.21  6555.78  6546.52  6608.5  6687.11  6590.024 2017-11-14 16:29:00\n",
       "2   6540.54  6552.00  6546.52  6595.7  6636.12  6574.176 2017-11-14 16:30:00\n",
       "3   6542.24  6552.01  6546.45  6609.7  6636.57  6577.394 2017-11-14 16:31:00\n",
       "4   6541.49  6552.01  6546.46  6596.8  6636.57  6574.666 2017-11-14 16:32:00"
      ]
     },
     "execution_count": 49,
     "metadata": {},
     "output_type": "execute_result"
    }
   ],
   "source": [
    "df = btc_usd_datasets.copy()\n",
    "df.head()"
   ]
  },
  {
   "cell_type": "code",
   "execution_count": 52,
   "metadata": {
    "collapsed": true
   },
   "outputs": [],
   "source": [
    "# Remove OKCoin, Too many unreasonable price data. \n",
    "df = df.loc[:,df.columns!='OKCOIN']"
   ]
  },
  {
   "cell_type": "code",
   "execution_count": 59,
   "metadata": {
    "scrolled": true
   },
   "outputs": [
    {
     "data": {
      "text/html": [
       "<div>\n",
       "<style>\n",
       "    .dataframe thead tr:only-child th {\n",
       "        text-align: right;\n",
       "    }\n",
       "\n",
       "    .dataframe thead th {\n",
       "        text-align: left;\n",
       "    }\n",
       "\n",
       "    .dataframe tbody tr th {\n",
       "        vertical-align: top;\n",
       "    }\n",
       "</style>\n",
       "<table border=\"1\" class=\"dataframe\">\n",
       "  <thead>\n",
       "    <tr style=\"text-align: right;\">\n",
       "      <th></th>\n",
       "      <th>BITSTAMP</th>\n",
       "      <th>GDAX</th>\n",
       "      <th>GEMINI</th>\n",
       "      <th>KRAKEN</th>\n",
       "      <th>AVG</th>\n",
       "      <th>DATE</th>\n",
       "    </tr>\n",
       "  </thead>\n",
       "  <tbody>\n",
       "    <tr>\n",
       "      <th>0</th>\n",
       "      <td>6552.83</td>\n",
       "      <td>6551.14</td>\n",
       "      <td>6549.43</td>\n",
       "      <td>6609.0</td>\n",
       "      <td>6578.348</td>\n",
       "      <td>2017-11-14 16:28:00</td>\n",
       "    </tr>\n",
       "    <tr>\n",
       "      <th>1</th>\n",
       "      <td>6552.21</td>\n",
       "      <td>6555.78</td>\n",
       "      <td>6546.52</td>\n",
       "      <td>6608.5</td>\n",
       "      <td>6590.024</td>\n",
       "      <td>2017-11-14 16:29:00</td>\n",
       "    </tr>\n",
       "    <tr>\n",
       "      <th>2</th>\n",
       "      <td>6540.54</td>\n",
       "      <td>6552.00</td>\n",
       "      <td>6546.52</td>\n",
       "      <td>6595.7</td>\n",
       "      <td>6574.176</td>\n",
       "      <td>2017-11-14 16:30:00</td>\n",
       "    </tr>\n",
       "    <tr>\n",
       "      <th>3</th>\n",
       "      <td>6542.24</td>\n",
       "      <td>6552.01</td>\n",
       "      <td>6546.45</td>\n",
       "      <td>6609.7</td>\n",
       "      <td>6577.394</td>\n",
       "      <td>2017-11-14 16:31:00</td>\n",
       "    </tr>\n",
       "    <tr>\n",
       "      <th>4</th>\n",
       "      <td>6541.49</td>\n",
       "      <td>6552.01</td>\n",
       "      <td>6546.46</td>\n",
       "      <td>6596.8</td>\n",
       "      <td>6574.666</td>\n",
       "      <td>2017-11-14 16:32:00</td>\n",
       "    </tr>\n",
       "  </tbody>\n",
       "</table>\n",
       "</div>"
      ],
      "text/plain": [
       "   BITSTAMP     GDAX   GEMINI  KRAKEN       AVG                DATE\n",
       "0   6552.83  6551.14  6549.43  6609.0  6578.348 2017-11-14 16:28:00\n",
       "1   6552.21  6555.78  6546.52  6608.5  6590.024 2017-11-14 16:29:00\n",
       "2   6540.54  6552.00  6546.52  6595.7  6574.176 2017-11-14 16:30:00\n",
       "3   6542.24  6552.01  6546.45  6609.7  6577.394 2017-11-14 16:31:00\n",
       "4   6541.49  6552.01  6546.46  6596.8  6574.666 2017-11-14 16:32:00"
      ]
     },
     "execution_count": 59,
     "metadata": {},
     "output_type": "execute_result"
    }
   ],
   "source": [
    "df.head()"
   ]
  },
  {
   "cell_type": "code",
   "execution_count": 84,
   "metadata": {},
   "outputs": [],
   "source": [
    "exchanges = ['BITSTAMP','GDAX','GEMINI','KRAKEN']\n"
   ]
  },
  {
   "cell_type": "code",
   "execution_count": 102,
   "metadata": {},
   "outputs": [],
   "source": [
    "errors = {}\n",
    "for exchange in exchanges:\n",
    "    errors[exchange] = 0\n",
    "\n",
    "for i in range(1,1440):\n",
    "    for exchange in exchanges:\n",
    "        errors[exchange] = errors[exchange] + df.loc[i+1,'AVG']-df.loc[i,exchange]"
   ]
  },
  {
   "cell_type": "code",
   "execution_count": 103,
   "metadata": {
    "scrolled": true
   },
   "outputs": [
    {
     "data": {
      "text/plain": [
       "{'BITSTAMP': 1613861.1700000009,\n",
       " 'GDAX': 1609529.5400000017,\n",
       " 'GEMINI': 1613283.7400000009,\n",
       " 'KRAKEN': 1578252.4500000025}"
      ]
     },
     "execution_count": 103,
     "metadata": {},
     "output_type": "execute_result"
    }
   ],
   "source": [
    "errors"
   ]
  },
  {
   "cell_type": "code",
   "execution_count": 104,
   "metadata": {},
   "outputs": [
    {
     "data": {
      "text/plain": [
       "['BITSTAMP', 'GDAX', 'GEMINI', 'KRAKEN']"
      ]
     },
     "execution_count": 104,
     "metadata": {},
     "output_type": "execute_result"
    }
   ],
   "source": [
    "exchanges"
   ]
  },
  {
   "cell_type": "code",
   "execution_count": 105,
   "metadata": {},
   "outputs": [],
   "source": [
    "for exchange in exchanges:\n",
    "    errors[exchange] = errors[exchange]/1441"
   ]
  },
  {
   "cell_type": "code",
   "execution_count": 108,
   "metadata": {},
   "outputs": [],
   "source": [
    "errors\n",
    "\n",
    "# MSE Dictionary to Dataframe\n",
    "df_errors = pd.DataFrame.from_dict(errors, orient='index')"
   ]
  },
  {
   "cell_type": "code",
   "execution_count": 115,
   "metadata": {},
   "outputs": [],
   "source": [
    "df_errors = df_errors.rename(columns={0:'error'})"
   ]
  },
  {
   "cell_type": "code",
   "execution_count": 191,
   "metadata": {},
   "outputs": [
    {
     "data": {
      "text/html": [
       "<div>\n",
       "<style>\n",
       "    .dataframe thead tr:only-child th {\n",
       "        text-align: right;\n",
       "    }\n",
       "\n",
       "    .dataframe thead th {\n",
       "        text-align: left;\n",
       "    }\n",
       "\n",
       "    .dataframe tbody tr th {\n",
       "        vertical-align: top;\n",
       "    }\n",
       "</style>\n",
       "<table border=\"1\" class=\"dataframe\">\n",
       "  <thead>\n",
       "    <tr style=\"text-align: right;\">\n",
       "      <th></th>\n",
       "      <th>error</th>\n",
       "      <th>normError</th>\n",
       "    </tr>\n",
       "  </thead>\n",
       "  <tbody>\n",
       "    <tr>\n",
       "      <th>BITSTAMP</th>\n",
       "      <td>1119.959174</td>\n",
       "      <td>1.000000</td>\n",
       "    </tr>\n",
       "    <tr>\n",
       "      <th>GDAX</th>\n",
       "      <td>1116.953185</td>\n",
       "      <td>0.878355</td>\n",
       "    </tr>\n",
       "    <tr>\n",
       "      <th>GEMINI</th>\n",
       "      <td>1119.558459</td>\n",
       "      <td>0.983784</td>\n",
       "    </tr>\n",
       "    <tr>\n",
       "      <th>KRAKEN</th>\n",
       "      <td>1095.248057</td>\n",
       "      <td>0.000000</td>\n",
       "    </tr>\n",
       "  </tbody>\n",
       "</table>\n",
       "</div>"
      ],
      "text/plain": [
       "                error  normError\n",
       "BITSTAMP  1119.959174   1.000000\n",
       "GDAX      1116.953185   0.878355\n",
       "GEMINI    1119.558459   0.983784\n",
       "KRAKEN    1095.248057   0.000000"
      ]
     },
     "execution_count": 191,
     "metadata": {},
     "output_type": "execute_result"
    }
   ],
   "source": [
    "max_value = df_errors['error'].max()\n",
    "min_value = df_errors['error'].min()\n",
    "df_errors['normError']=(df_errors['error'] - min_value) / (max_value - min_value)\n",
    "df_errors"
   ]
  },
  {
   "cell_type": "code",
   "execution_count": 193,
   "metadata": {},
   "outputs": [
    {
     "data": {
      "text/plain": [
       "<matplotlib.collections.PathCollection at 0x1b8288f62e8>"
      ]
     },
     "execution_count": 193,
     "metadata": {},
     "output_type": "execute_result"
    },
    {
     "data": {
      "image/png": "[encoded data removed]",
      "text/plain": [
       "<matplotlib.figure.Figure at 0x1b8288b7780>"
      ]
     },
     "metadata": {},
     "output_type": "display_data"
    }
   ],
   "source": [
    "# Error visualisation for original price prediction\n",
    "matplotlib.rcParams['figure.figsize'] = (12.0, 8.0)\n",
    "\n",
    "plt.scatter(df_errors.index, df_errors['error'])"
   ]
  },
  {
   "cell_type": "code",
   "execution_count": 217,
   "metadata": {},
   "outputs": [],
   "source": [
    "# Create dataframe for volume weighted price\n",
    "df_price = btc_usd_datasets.loc[:,df_weighted_price.columns!='AVG']"
   ]
  },
  {
   "cell_type": "code",
   "execution_count": 218,
   "metadata": {},
   "outputs": [
    {
     "data": {
      "text/html": [
       "<div>\n",
       "<style>\n",
       "    .dataframe thead tr:only-child th {\n",
       "        text-align: right;\n",
       "    }\n",
       "\n",
       "    .dataframe thead th {\n",
       "        text-align: left;\n",
       "    }\n",
       "\n",
       "    .dataframe tbody tr th {\n",
       "        vertical-align: top;\n",
       "    }\n",
       "</style>\n",
       "<table border=\"1\" class=\"dataframe\">\n",
       "  <thead>\n",
       "    <tr style=\"text-align: right;\">\n",
       "      <th></th>\n",
       "      <th>BITSTAMP</th>\n",
       "      <th>GDAX</th>\n",
       "      <th>GEMINI</th>\n",
       "      <th>KRAKEN</th>\n",
       "    </tr>\n",
       "  </thead>\n",
       "  <tbody>\n",
       "    <tr>\n",
       "      <th>0</th>\n",
       "      <td>6552.83</td>\n",
       "      <td>6551.14</td>\n",
       "      <td>6549.43</td>\n",
       "      <td>6609.0</td>\n",
       "    </tr>\n",
       "    <tr>\n",
       "      <th>1</th>\n",
       "      <td>6552.21</td>\n",
       "      <td>6555.78</td>\n",
       "      <td>6546.52</td>\n",
       "      <td>6608.5</td>\n",
       "    </tr>\n",
       "    <tr>\n",
       "      <th>2</th>\n",
       "      <td>6540.54</td>\n",
       "      <td>6552.00</td>\n",
       "      <td>6546.52</td>\n",
       "      <td>6595.7</td>\n",
       "    </tr>\n",
       "    <tr>\n",
       "      <th>3</th>\n",
       "      <td>6542.24</td>\n",
       "      <td>6552.01</td>\n",
       "      <td>6546.45</td>\n",
       "      <td>6609.7</td>\n",
       "    </tr>\n",
       "    <tr>\n",
       "      <th>4</th>\n",
       "      <td>6541.49</td>\n",
       "      <td>6552.01</td>\n",
       "      <td>6546.46</td>\n",
       "      <td>6596.8</td>\n",
       "    </tr>\n",
       "  </tbody>\n",
       "</table>\n",
       "</div>"
      ],
      "text/plain": [
       "   BITSTAMP     GDAX   GEMINI  KRAKEN\n",
       "0   6552.83  6551.14  6549.43  6609.0\n",
       "1   6552.21  6555.78  6546.52  6608.5\n",
       "2   6540.54  6552.00  6546.52  6595.7\n",
       "3   6542.24  6552.01  6546.45  6609.7\n",
       "4   6541.49  6552.01  6546.46  6596.8"
      ]
     },
     "execution_count": 218,
     "metadata": {},
     "output_type": "execute_result"
    }
   ],
   "source": [
    "df_price.head()"
   ]
  },
  {
   "cell_type": "code",
   "execution_count": 182,
   "metadata": {},
   "outputs": [],
   "source": [
    "#df_norm_price = df_norm_price.div(df_norm_price.sum(axis=1), axis=0)"
   ]
  },
  {
   "cell_type": "code",
   "execution_count": 219,
   "metadata": {
    "scrolled": false
   },
   "outputs": [
    {
     "data": {
      "text/html": [
       "<div>\n",
       "<style>\n",
       "    .dataframe thead tr:only-child th {\n",
       "        text-align: right;\n",
       "    }\n",
       "\n",
       "    .dataframe thead th {\n",
       "        text-align: left;\n",
       "    }\n",
       "\n",
       "    .dataframe tbody tr th {\n",
       "        vertical-align: top;\n",
       "    }\n",
       "</style>\n",
       "<table border=\"1\" class=\"dataframe\">\n",
       "  <thead>\n",
       "    <tr style=\"text-align: right;\">\n",
       "      <th></th>\n",
       "      <th>BITSTAMP</th>\n",
       "      <th>GDAX</th>\n",
       "      <th>GEMINI</th>\n",
       "      <th>KRAKEN</th>\n",
       "    </tr>\n",
       "  </thead>\n",
       "  <tbody>\n",
       "    <tr>\n",
       "      <th>0</th>\n",
       "      <td>3.0200</td>\n",
       "      <td>15.64</td>\n",
       "      <td>3.55000</td>\n",
       "      <td>0.514500</td>\n",
       "    </tr>\n",
       "    <tr>\n",
       "      <th>1</th>\n",
       "      <td>3.8400</td>\n",
       "      <td>5.89</td>\n",
       "      <td>7.93000</td>\n",
       "      <td>1.940000</td>\n",
       "    </tr>\n",
       "    <tr>\n",
       "      <th>2</th>\n",
       "      <td>4.6400</td>\n",
       "      <td>12.65</td>\n",
       "      <td>5.00000</td>\n",
       "      <td>4.320000</td>\n",
       "    </tr>\n",
       "    <tr>\n",
       "      <th>3</th>\n",
       "      <td>0.9595</td>\n",
       "      <td>8.85</td>\n",
       "      <td>0.72710</td>\n",
       "      <td>2.490000</td>\n",
       "    </tr>\n",
       "    <tr>\n",
       "      <th>4</th>\n",
       "      <td>1.0300</td>\n",
       "      <td>7.74</td>\n",
       "      <td>0.07927</td>\n",
       "      <td>0.003717</td>\n",
       "    </tr>\n",
       "  </tbody>\n",
       "</table>\n",
       "</div>"
      ],
      "text/plain": [
       "   BITSTAMP   GDAX   GEMINI    KRAKEN\n",
       "0    3.0200  15.64  3.55000  0.514500\n",
       "1    3.8400   5.89  7.93000  1.940000\n",
       "2    4.6400  12.65  5.00000  4.320000\n",
       "3    0.9595   8.85  0.72710  2.490000\n",
       "4    1.0300   7.74  0.07927  0.003717"
      ]
     },
     "execution_count": 219,
     "metadata": {},
     "output_type": "execute_result"
    }
   ],
   "source": [
    "# Create Dataframe for weighted standardised volume\n",
    "df_volumes = btc_usd_volumes.loc[:,btc_usd_volumes.columns!='OKCOIN']\n",
    "df_volumes.head()"
   ]
  },
  {
   "cell_type": "code",
   "execution_count": 242,
   "metadata": {},
   "outputs": [
    {
     "data": {
      "text/plain": [
       "BITSTAMP    16286.623195\n",
       "GDAX        23708.094300\n",
       "GEMINI       9313.247733\n",
       "KRAKEN       6255.541405\n",
       "dtype: float64"
      ]
     },
     "execution_count": 242,
     "metadata": {},
     "output_type": "execute_result"
    }
   ],
   "source": [
    "df_volumes.sum(axis=0)"
   ]
  },
  {
   "cell_type": "code",
   "execution_count": 220,
   "metadata": {},
   "outputs": [
    {
     "data": {
      "text/plain": [
       "BITSTAMP    16286.623195\n",
       "GDAX        23708.094300\n",
       "GEMINI       9313.247733\n",
       "KRAKEN       6255.541405\n",
       "dtype: float64"
      ]
     },
     "execution_count": 220,
     "metadata": {},
     "output_type": "execute_result"
    }
   ],
   "source": [
    "df_volumes.sum(axis=0)"
   ]
  },
  {
   "cell_type": "code",
   "execution_count": 221,
   "metadata": {
    "collapsed": true
   },
   "outputs": [],
   "source": [
    "v1 = df_price\n",
    "v2 = df_volumes\n",
    "df = pd.DataFrame(v1 * v2, index=v1.index, columns=['BITSTAMP', 'GDAX', 'GEMINI', 'KRAKEN', ])"
   ]
  },
  {
   "cell_type": "code",
   "execution_count": 222,
   "metadata": {
    "scrolled": true
   },
   "outputs": [
    {
     "data": {
      "text/html": [
       "<div>\n",
       "<style>\n",
       "    .dataframe thead tr:only-child th {\n",
       "        text-align: right;\n",
       "    }\n",
       "\n",
       "    .dataframe thead th {\n",
       "        text-align: left;\n",
       "    }\n",
       "\n",
       "    .dataframe tbody tr th {\n",
       "        vertical-align: top;\n",
       "    }\n",
       "</style>\n",
       "<table border=\"1\" class=\"dataframe\">\n",
       "  <thead>\n",
       "    <tr style=\"text-align: right;\">\n",
       "      <th></th>\n",
       "      <th>BITSTAMP</th>\n",
       "      <th>GDAX</th>\n",
       "      <th>GEMINI</th>\n",
       "      <th>KRAKEN</th>\n",
       "    </tr>\n",
       "  </thead>\n",
       "  <tbody>\n",
       "    <tr>\n",
       "      <th>0</th>\n",
       "      <td>19789.54660</td>\n",
       "      <td>102459.8296</td>\n",
       "      <td>23250.476500</td>\n",
       "      <td>3400.330500</td>\n",
       "    </tr>\n",
       "    <tr>\n",
       "      <th>1</th>\n",
       "      <td>25160.48640</td>\n",
       "      <td>38613.5442</td>\n",
       "      <td>51913.903600</td>\n",
       "      <td>12820.490000</td>\n",
       "    </tr>\n",
       "    <tr>\n",
       "      <th>2</th>\n",
       "      <td>30348.10560</td>\n",
       "      <td>82882.8000</td>\n",
       "      <td>32732.600000</td>\n",
       "      <td>28493.424000</td>\n",
       "    </tr>\n",
       "    <tr>\n",
       "      <th>3</th>\n",
       "      <td>6277.27928</td>\n",
       "      <td>57985.2885</td>\n",
       "      <td>4759.923795</td>\n",
       "      <td>16458.153000</td>\n",
       "    </tr>\n",
       "    <tr>\n",
       "      <th>4</th>\n",
       "      <td>6737.73470</td>\n",
       "      <td>50712.5574</td>\n",
       "      <td>518.937884</td>\n",
       "      <td>24.520306</td>\n",
       "    </tr>\n",
       "  </tbody>\n",
       "</table>\n",
       "</div>"
      ],
      "text/plain": [
       "      BITSTAMP         GDAX        GEMINI        KRAKEN\n",
       "0  19789.54660  102459.8296  23250.476500   3400.330500\n",
       "1  25160.48640   38613.5442  51913.903600  12820.490000\n",
       "2  30348.10560   82882.8000  32732.600000  28493.424000\n",
       "3   6277.27928   57985.2885   4759.923795  16458.153000\n",
       "4   6737.73470   50712.5574    518.937884     24.520306"
      ]
     },
     "execution_count": 222,
     "metadata": {},
     "output_type": "execute_result"
    }
   ],
   "source": [
    "# df = price * volume\n",
    "df.head()"
   ]
  },
  {
   "cell_type": "code",
   "execution_count": 236,
   "metadata": {
    "scrolled": true
   },
   "outputs": [],
   "source": [
    "# Volume Weighted Price for each exchange\n",
    "vwp = df.sum(axis=0)/df_volumes.sum(axis=0)"
   ]
  },
  {
   "cell_type": "code",
   "execution_count": 232,
   "metadata": {},
   "outputs": [],
   "source": [
    "average_price = df_price.sum(axis=1)/4\n",
    "average_volume = df_volumes.sum(axis=1)/4"
   ]
  },
  {
   "cell_type": "code",
   "execution_count": 237,
   "metadata": {},
   "outputs": [],
   "source": [
    "#Average Volume Weighted Price\n",
    "avwp = sum(average_price*average_volume)/sum(average_volume)"
   ]
  },
  {
   "cell_type": "code",
   "execution_count": 243,
   "metadata": {},
   "outputs": [],
   "source": [
    "volume_weighted_price_error = abs(vwp-avwp)"
   ]
  },
  {
   "cell_type": "code",
   "execution_count": 253,
   "metadata": {},
   "outputs": [
    {
     "data": {
      "text/plain": [
       "BITSTAMP     9.397488\n",
       "GDAX         5.284567\n",
       "GEMINI      26.255398\n",
       "KRAKEN      58.161461\n",
       "dtype: float64"
      ]
     },
     "execution_count": 253,
     "metadata": {},
     "output_type": "execute_result"
    }
   ],
   "source": [
    "volume_weighted_price_error"
   ]
  },
  {
   "cell_type": "code",
   "execution_count": 254,
   "metadata": {},
   "outputs": [],
   "source": [
    "# MSE Dictionary to Dataframe\n",
    "df_errors2 = pd.DataFrame(volume_weighted_price_error)\n",
    "df_errors2 = df_errors2.rename(columns={0:'error'})"
   ]
  },
  {
   "cell_type": "code",
   "execution_count": 255,
   "metadata": {},
   "outputs": [
    {
     "data": {
      "text/html": [
       "<div>\n",
       "<style>\n",
       "    .dataframe thead tr:only-child th {\n",
       "        text-align: right;\n",
       "    }\n",
       "\n",
       "    .dataframe thead th {\n",
       "        text-align: left;\n",
       "    }\n",
       "\n",
       "    .dataframe tbody tr th {\n",
       "        vertical-align: top;\n",
       "    }\n",
       "</style>\n",
       "<table border=\"1\" class=\"dataframe\">\n",
       "  <thead>\n",
       "    <tr style=\"text-align: right;\">\n",
       "      <th></th>\n",
       "      <th>error</th>\n",
       "    </tr>\n",
       "  </thead>\n",
       "  <tbody>\n",
       "    <tr>\n",
       "      <th>BITSTAMP</th>\n",
       "      <td>9.397488</td>\n",
       "    </tr>\n",
       "    <tr>\n",
       "      <th>GDAX</th>\n",
       "      <td>5.284567</td>\n",
       "    </tr>\n",
       "    <tr>\n",
       "      <th>GEMINI</th>\n",
       "      <td>26.255398</td>\n",
       "    </tr>\n",
       "    <tr>\n",
       "      <th>KRAKEN</th>\n",
       "      <td>58.161461</td>\n",
       "    </tr>\n",
       "  </tbody>\n",
       "</table>\n",
       "</div>"
      ],
      "text/plain": [
       "              error\n",
       "BITSTAMP   9.397488\n",
       "GDAX       5.284567\n",
       "GEMINI    26.255398\n",
       "KRAKEN    58.161461"
      ]
     },
     "execution_count": 255,
     "metadata": {},
     "output_type": "execute_result"
    }
   ],
   "source": [
    "df_errors2"
   ]
  },
  {
   "cell_type": "code",
   "execution_count": 257,
   "metadata": {},
   "outputs": [
    {
     "data": {
      "text/plain": [
       "<matplotlib.collections.PathCollection at 0x1b8289c1b00>"
      ]
     },
     "execution_count": 257,
     "metadata": {},
     "output_type": "execute_result"
    },
    {
     "data": {
      "image/png": "[encoded data removed]",
      "text/plain": [
       "<matplotlib.figure.Figure at 0x1b828989940>"
      ]
     },
     "metadata": {},
     "output_type": "display_data"
    }
   ],
   "source": [
    "# Error visualisation for original price prediction\n",
    "matplotlib.rcParams['figure.figsize'] = (12.0, 8.0)\n",
    "\n",
    "plt.scatter(df_errors2.index, df_errors2['error'])"
   ]
  },
  {
   "cell_type": "code",
   "execution_count": null,
   "metadata": {
    "collapsed": true
   },
   "outputs": [],
   "source": []
  }
 ],
 "metadata": {
  "kernelspec": {
   "display_name": "Python [conda env:cryptocurrency-analysis]",
   "language": "python",
   "name": "conda-env-cryptocurrency-analysis-py"
  },
  "language_info": {
   "codemirror_mode": {
    "name": "ipython",
    "version": 3
   },
   "file_extension": ".py",
   "mimetype": "text/x-python",
   "name": "python",
   "nbconvert_exporter": "python",
   "pygments_lexer": "ipython3",
   "version": "3.6.3"
  }
 },
 "nbformat": 4,
 "nbformat_minor": 2
}
