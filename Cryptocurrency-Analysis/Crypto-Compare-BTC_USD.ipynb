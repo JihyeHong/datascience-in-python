{
 "cells": [
  {
   "cell_type": "code",
   "execution_count": 8,
   "metadata": {},
   "outputs": [
    {
     "data": {
      "text/html": [
       "<script>requirejs.config({paths: { 'plotly': ['https://cdn.plot.ly/plotly-latest.min']},});if(!window.Plotly) {{require(['plotly'],function(plotly) {window.Plotly=plotly;});}}</script>"
      ],
      "text/vnd.plotly.v1+html": [
       "<script>requirejs.config({paths: { 'plotly': ['https://cdn.plot.ly/plotly-latest.min']},});if(!window.Plotly) {{require(['plotly'],function(plotly) {window.Plotly=plotly;});}}</script>"
      ]
     },
     "metadata": {},
     "output_type": "display_data"
    }
   ],
   "source": [
    "# Crypto prices' analysis\n",
    "import requests\n",
    "import json\n",
    "import pandas as pd\n",
    "\n",
    "import plotly.offline as py\n",
    "import plotly.graph_objs as go\n",
    "import plotly.figure_factory as ff\n",
    "py.init_notebook_mode(connected=True)"
   ]
  },
  {
   "cell_type": "code",
   "execution_count": 32,
   "metadata": {
    "collapsed": true
   },
   "outputs": [],
   "source": [
    "# Function for CryptoCompare HistoMinute API request\n",
    "\n",
    "def get_histominute_data(exchange):\n",
    "    url = 'https://min-api.cryptocompare.com/data/histominute?fsym=BTC&tsym=USD&limit=1440&aggregate=1&e={}'\n",
    "    response = requests.post(url.format(exchange))\n",
    "    data = json.loads(response.content)\n",
    "    df = pd.DataFrame.from_dict(data[\"Data\"], orient=\"columns\")\n",
    "    \n",
    "    \n",
    "    return pd.DataFrame(df)"
   ]
  },
  {
   "cell_type": "code",
   "execution_count": 56,
   "metadata": {},
   "outputs": [],
   "source": [
    "# json list to pandas dataframe\n",
    "exchange_data = {}\n",
    "exchanges = ['GDAX', 'BITSTAMP', 'GEMINI', 'OKCOIN', 'KRAKEN']\n",
    "\n",
    "for exchange in exchanges:\n",
    "    exchange_data[exchange] = get_histominute_data(exchange)\n",
    "\n"
   ]
  },
  {
   "cell_type": "code",
   "execution_count": 62,
   "metadata": {},
   "outputs": [
    {
     "data": {
      "text/html": [
       "<div>\n",
       "<style>\n",
       "    .dataframe thead tr:only-child th {\n",
       "        text-align: right;\n",
       "    }\n",
       "\n",
       "    .dataframe thead th {\n",
       "        text-align: left;\n",
       "    }\n",
       "\n",
       "    .dataframe tbody tr th {\n",
       "        vertical-align: top;\n",
       "    }\n",
       "</style>\n",
       "<table border=\"1\" class=\"dataframe\">\n",
       "  <thead>\n",
       "    <tr style=\"text-align: right;\">\n",
       "      <th></th>\n",
       "      <th>close</th>\n",
       "      <th>high</th>\n",
       "      <th>low</th>\n",
       "      <th>open</th>\n",
       "      <th>time</th>\n",
       "      <th>volumefrom</th>\n",
       "      <th>volumeto</th>\n",
       "    </tr>\n",
       "  </thead>\n",
       "  <tbody>\n",
       "    <tr>\n",
       "      <th>0</th>\n",
       "      <td>6560.0</td>\n",
       "      <td>6568.9</td>\n",
       "      <td>6560.0</td>\n",
       "      <td>6562.5</td>\n",
       "      <td>1510586460</td>\n",
       "      <td>2.4600</td>\n",
       "      <td>16153.96</td>\n",
       "    </tr>\n",
       "    <tr>\n",
       "      <th>1</th>\n",
       "      <td>6556.1</td>\n",
       "      <td>6560.0</td>\n",
       "      <td>6556.1</td>\n",
       "      <td>6560.0</td>\n",
       "      <td>1510586520</td>\n",
       "      <td>4.9600</td>\n",
       "      <td>32504.44</td>\n",
       "    </tr>\n",
       "    <tr>\n",
       "      <th>2</th>\n",
       "      <td>6559.3</td>\n",
       "      <td>6560.0</td>\n",
       "      <td>6556.1</td>\n",
       "      <td>6556.1</td>\n",
       "      <td>1510586580</td>\n",
       "      <td>3.8600</td>\n",
       "      <td>25307.33</td>\n",
       "    </tr>\n",
       "    <tr>\n",
       "      <th>3</th>\n",
       "      <td>6560.0</td>\n",
       "      <td>6560.0</td>\n",
       "      <td>6559.3</td>\n",
       "      <td>6559.3</td>\n",
       "      <td>1510586640</td>\n",
       "      <td>0.6739</td>\n",
       "      <td>4420.47</td>\n",
       "    </tr>\n",
       "    <tr>\n",
       "      <th>4</th>\n",
       "      <td>6569.0</td>\n",
       "      <td>6569.0</td>\n",
       "      <td>6560.0</td>\n",
       "      <td>6560.0</td>\n",
       "      <td>1510586700</td>\n",
       "      <td>5.8700</td>\n",
       "      <td>38507.48</td>\n",
       "    </tr>\n",
       "  </tbody>\n",
       "</table>\n",
       "</div>"
      ],
      "text/plain": [
       "    close    high     low    open        time  volumefrom  volumeto\n",
       "0  6560.0  6568.9  6560.0  6562.5  1510586460      2.4600  16153.96\n",
       "1  6556.1  6560.0  6556.1  6560.0  1510586520      4.9600  32504.44\n",
       "2  6559.3  6560.0  6556.1  6556.1  1510586580      3.8600  25307.33\n",
       "3  6560.0  6560.0  6559.3  6559.3  1510586640      0.6739   4420.47\n",
       "4  6569.0  6569.0  6560.0  6560.0  1510586700      5.8700  38507.48"
      ]
     },
     "execution_count": 62,
     "metadata": {},
     "output_type": "execute_result"
    }
   ],
   "source": [
    "exchange_data['KRAKEN'].head()"
   ]
  },
  {
   "cell_type": "code",
   "execution_count": 63,
   "metadata": {
    "collapsed": true
   },
   "outputs": [],
   "source": [
    "# Function to merge dataframes into a single dataframe\n",
    "def merge_dfs_on_column(dataframes, labels, col):\n",
    "    '''Merge a single column of each dataframe into a new combined dataframe'''\n",
    "    series_dict = {}\n",
    "    for index in range(len(dataframes)):\n",
    "        series_dict[labels[index]] = dataframes[index][col]\n",
    "        \n",
    "    return pd.DataFrame(series_dict)"
   ]
  },
  {
   "cell_type": "code",
   "execution_count": 64,
   "metadata": {},
   "outputs": [],
   "source": [
    "btc_usd_datasets = merge_dfs_on_column(list(exchange_data.values()), list(exchange_data.keys()), 'close')"
   ]
  },
  {
   "cell_type": "code",
   "execution_count": 65,
   "metadata": {},
   "outputs": [
    {
     "data": {
      "text/html": [
       "<div>\n",
       "<style>\n",
       "    .dataframe thead tr:only-child th {\n",
       "        text-align: right;\n",
       "    }\n",
       "\n",
       "    .dataframe thead th {\n",
       "        text-align: left;\n",
       "    }\n",
       "\n",
       "    .dataframe tbody tr th {\n",
       "        vertical-align: top;\n",
       "    }\n",
       "</style>\n",
       "<table border=\"1\" class=\"dataframe\">\n",
       "  <thead>\n",
       "    <tr style=\"text-align: right;\">\n",
       "      <th></th>\n",
       "      <th>BITSTAMP</th>\n",
       "      <th>GDAX</th>\n",
       "      <th>GEMINI</th>\n",
       "      <th>KRAKEN</th>\n",
       "      <th>OKCOIN</th>\n",
       "    </tr>\n",
       "  </thead>\n",
       "  <tbody>\n",
       "    <tr>\n",
       "      <th>0</th>\n",
       "      <td>6569.77</td>\n",
       "      <td>6580.01</td>\n",
       "      <td>6542.30</td>\n",
       "      <td>6560.0</td>\n",
       "      <td>6644.67</td>\n",
       "    </tr>\n",
       "    <tr>\n",
       "      <th>1</th>\n",
       "      <td>6584.99</td>\n",
       "      <td>6585.00</td>\n",
       "      <td>6551.19</td>\n",
       "      <td>6556.1</td>\n",
       "      <td>6699.59</td>\n",
       "    </tr>\n",
       "    <tr>\n",
       "      <th>2</th>\n",
       "      <td>6584.12</td>\n",
       "      <td>6609.99</td>\n",
       "      <td>6551.41</td>\n",
       "      <td>6559.3</td>\n",
       "      <td>6700.00</td>\n",
       "    </tr>\n",
       "    <tr>\n",
       "      <th>3</th>\n",
       "      <td>6584.00</td>\n",
       "      <td>6610.00</td>\n",
       "      <td>6558.54</td>\n",
       "      <td>6560.0</td>\n",
       "      <td>6715.86</td>\n",
       "    </tr>\n",
       "    <tr>\n",
       "      <th>4</th>\n",
       "      <td>6599.99</td>\n",
       "      <td>6620.00</td>\n",
       "      <td>6585.32</td>\n",
       "      <td>6569.0</td>\n",
       "      <td>6715.86</td>\n",
       "    </tr>\n",
       "  </tbody>\n",
       "</table>\n",
       "</div>"
      ],
      "text/plain": [
       "   BITSTAMP     GDAX   GEMINI  KRAKEN   OKCOIN\n",
       "0   6569.77  6580.01  6542.30  6560.0  6644.67\n",
       "1   6584.99  6585.00  6551.19  6556.1  6699.59\n",
       "2   6584.12  6609.99  6551.41  6559.3  6700.00\n",
       "3   6584.00  6610.00  6558.54  6560.0  6715.86\n",
       "4   6599.99  6620.00  6585.32  6569.0  6715.86"
      ]
     },
     "execution_count": 65,
     "metadata": {},
     "output_type": "execute_result"
    }
   ],
   "source": [
    "btc_usd_datasets.head()"
   ]
  },
  {
   "cell_type": "code",
   "execution_count": 67,
   "metadata": {},
   "outputs": [],
   "source": [
    "# Add DateTime Column\n",
    "btc_usd_datasets[\"DATE\"] = exchange_data['KRAKEN']['time']"
   ]
  },
  {
   "cell_type": "code",
   "execution_count": 68,
   "metadata": {
    "collapsed": true
   },
   "outputs": [],
   "source": [
    "# Calculating difference series price data\n",
    "sum = 0;\n",
    "for exchange in exchanges:\n",
    "    sum = sum+btc_usd_datasets[exchange]\n"
   ]
  },
  {
   "cell_type": "code",
   "execution_count": 69,
   "metadata": {
    "collapsed": true
   },
   "outputs": [],
   "source": [
    "# Calculating difference series price data\n",
    "sum = 0;\n",
    "for exchange in exchanges:\n",
    "    sum = sum+btc_usd_datasets[exchange]\n"
   ]
  },
  {
   "cell_type": "code",
   "execution_count": 70,
   "metadata": {},
   "outputs": [
    {
     "data": {
      "text/html": [
       "<div>\n",
       "<style>\n",
       "    .dataframe thead tr:only-child th {\n",
       "        text-align: right;\n",
       "    }\n",
       "\n",
       "    .dataframe thead th {\n",
       "        text-align: left;\n",
       "    }\n",
       "\n",
       "    .dataframe tbody tr th {\n",
       "        vertical-align: top;\n",
       "    }\n",
       "</style>\n",
       "<table border=\"1\" class=\"dataframe\">\n",
       "  <thead>\n",
       "    <tr style=\"text-align: right;\">\n",
       "      <th></th>\n",
       "      <th>BITSTAMP</th>\n",
       "      <th>GDAX</th>\n",
       "      <th>GEMINI</th>\n",
       "      <th>KRAKEN</th>\n",
       "      <th>OKCOIN</th>\n",
       "      <th>DATE</th>\n",
       "    </tr>\n",
       "  </thead>\n",
       "  <tbody>\n",
       "    <tr>\n",
       "      <th>0</th>\n",
       "      <td>6569.77</td>\n",
       "      <td>6580.01</td>\n",
       "      <td>6542.30</td>\n",
       "      <td>6560.0</td>\n",
       "      <td>6644.67</td>\n",
       "      <td>2017-11-13 15:21:00</td>\n",
       "    </tr>\n",
       "    <tr>\n",
       "      <th>1</th>\n",
       "      <td>6584.99</td>\n",
       "      <td>6585.00</td>\n",
       "      <td>6551.19</td>\n",
       "      <td>6556.1</td>\n",
       "      <td>6699.59</td>\n",
       "      <td>2017-11-13 15:22:00</td>\n",
       "    </tr>\n",
       "    <tr>\n",
       "      <th>2</th>\n",
       "      <td>6584.12</td>\n",
       "      <td>6609.99</td>\n",
       "      <td>6551.41</td>\n",
       "      <td>6559.3</td>\n",
       "      <td>6700.00</td>\n",
       "      <td>2017-11-13 15:23:00</td>\n",
       "    </tr>\n",
       "    <tr>\n",
       "      <th>3</th>\n",
       "      <td>6584.00</td>\n",
       "      <td>6610.00</td>\n",
       "      <td>6558.54</td>\n",
       "      <td>6560.0</td>\n",
       "      <td>6715.86</td>\n",
       "      <td>2017-11-13 15:24:00</td>\n",
       "    </tr>\n",
       "    <tr>\n",
       "      <th>4</th>\n",
       "      <td>6599.99</td>\n",
       "      <td>6620.00</td>\n",
       "      <td>6585.32</td>\n",
       "      <td>6569.0</td>\n",
       "      <td>6715.86</td>\n",
       "      <td>2017-11-13 15:25:00</td>\n",
       "    </tr>\n",
       "  </tbody>\n",
       "</table>\n",
       "</div>"
      ],
      "text/plain": [
       "   BITSTAMP     GDAX   GEMINI  KRAKEN   OKCOIN                DATE\n",
       "0   6569.77  6580.01  6542.30  6560.0  6644.67 2017-11-13 15:21:00\n",
       "1   6584.99  6585.00  6551.19  6556.1  6699.59 2017-11-13 15:22:00\n",
       "2   6584.12  6609.99  6551.41  6559.3  6700.00 2017-11-13 15:23:00\n",
       "3   6584.00  6610.00  6558.54  6560.0  6715.86 2017-11-13 15:24:00\n",
       "4   6599.99  6620.00  6585.32  6569.0  6715.86 2017-11-13 15:25:00"
      ]
     },
     "execution_count": 70,
     "metadata": {},
     "output_type": "execute_result"
    }
   ],
   "source": [
    "dt_new = btc_usd_datasets\n",
    "dt_new['DATE'] = pd.to_datetime(dt_new['DATE'],unit='s')\n",
    "dt_new.head()"
   ]
  },
  {
   "cell_type": "code",
   "execution_count": 71,
   "metadata": {},
   "outputs": [
    {
     "data": {
      "text/html": [
       "<div>\n",
       "<style>\n",
       "    .dataframe thead tr:only-child th {\n",
       "        text-align: right;\n",
       "    }\n",
       "\n",
       "    .dataframe thead th {\n",
       "        text-align: left;\n",
       "    }\n",
       "\n",
       "    .dataframe tbody tr th {\n",
       "        vertical-align: top;\n",
       "    }\n",
       "</style>\n",
       "<table border=\"1\" class=\"dataframe\">\n",
       "  <thead>\n",
       "    <tr style=\"text-align: right;\">\n",
       "      <th></th>\n",
       "      <th>BITSTAMP</th>\n",
       "      <th>GDAX</th>\n",
       "      <th>GEMINI</th>\n",
       "      <th>KRAKEN</th>\n",
       "      <th>OKCOIN</th>\n",
       "      <th>DATE</th>\n",
       "      <th>AVG</th>\n",
       "    </tr>\n",
       "  </thead>\n",
       "  <tbody>\n",
       "    <tr>\n",
       "      <th>1436</th>\n",
       "      <td>6589.00</td>\n",
       "      <td>6610.00</td>\n",
       "      <td>6596.30</td>\n",
       "      <td>6644.0</td>\n",
       "      <td>6700.00</td>\n",
       "      <td>2017-11-14 15:17:00</td>\n",
       "      <td>6627.860</td>\n",
       "    </tr>\n",
       "    <tr>\n",
       "      <th>1437</th>\n",
       "      <td>6589.00</td>\n",
       "      <td>6597.58</td>\n",
       "      <td>6594.84</td>\n",
       "      <td>6643.0</td>\n",
       "      <td>6700.00</td>\n",
       "      <td>2017-11-14 15:18:00</td>\n",
       "      <td>6624.884</td>\n",
       "    </tr>\n",
       "    <tr>\n",
       "      <th>1438</th>\n",
       "      <td>6586.39</td>\n",
       "      <td>6597.59</td>\n",
       "      <td>6594.87</td>\n",
       "      <td>6643.0</td>\n",
       "      <td>6733.41</td>\n",
       "      <td>2017-11-14 15:19:00</td>\n",
       "      <td>6631.052</td>\n",
       "    </tr>\n",
       "    <tr>\n",
       "      <th>1439</th>\n",
       "      <td>6604.29</td>\n",
       "      <td>6597.59</td>\n",
       "      <td>6593.22</td>\n",
       "      <td>6643.0</td>\n",
       "      <td>6730.00</td>\n",
       "      <td>2017-11-14 15:20:00</td>\n",
       "      <td>6633.620</td>\n",
       "    </tr>\n",
       "    <tr>\n",
       "      <th>1440</th>\n",
       "      <td>6586.10</td>\n",
       "      <td>6597.59</td>\n",
       "      <td>6593.14</td>\n",
       "      <td>6643.0</td>\n",
       "      <td>6730.00</td>\n",
       "      <td>2017-11-14 15:21:00</td>\n",
       "      <td>6629.966</td>\n",
       "    </tr>\n",
       "  </tbody>\n",
       "</table>\n",
       "</div>"
      ],
      "text/plain": [
       "      BITSTAMP     GDAX   GEMINI  KRAKEN   OKCOIN                DATE  \\\n",
       "1436   6589.00  6610.00  6596.30  6644.0  6700.00 2017-11-14 15:17:00   \n",
       "1437   6589.00  6597.58  6594.84  6643.0  6700.00 2017-11-14 15:18:00   \n",
       "1438   6586.39  6597.59  6594.87  6643.0  6733.41 2017-11-14 15:19:00   \n",
       "1439   6604.29  6597.59  6593.22  6643.0  6730.00 2017-11-14 15:20:00   \n",
       "1440   6586.10  6597.59  6593.14  6643.0  6730.00 2017-11-14 15:21:00   \n",
       "\n",
       "           AVG  \n",
       "1436  6627.860  \n",
       "1437  6624.884  \n",
       "1438  6631.052  \n",
       "1439  6633.620  \n",
       "1440  6629.966  "
      ]
     },
     "execution_count": 71,
     "metadata": {},
     "output_type": "execute_result"
    }
   ],
   "source": [
    "dt_new['AVG'] = sum/(len(dt_new.columns)-1)\n",
    "dt_new.tail()"
   ]
  },
  {
   "cell_type": "code",
   "execution_count": 72,
   "metadata": {},
   "outputs": [
    {
     "data": {
      "text/plain": [
       "{'BITSTAMP': 2075.5862250270648,\n",
       " 'GDAX': 2000.86476488827,\n",
       " 'GEMINI': 1759.1116044024975,\n",
       " 'KRAKEN': 586.13157700485681,\n",
       " 'OKCOIN': 15729.455290079111}"
      ]
     },
     "execution_count": 72,
     "metadata": {},
     "output_type": "execute_result"
    }
   ],
   "source": [
    "# calculating MSE\n",
    "dict_mse = {}\n",
    "\n",
    "for exchange in exchanges:\n",
    "    dict_mse[exchange] = ((dt_new[exchange] - dt_new['AVG']) ** 2).mean(axis=0)\n",
    "\n",
    "dict_mse"
   ]
  },
  {
   "cell_type": "code",
   "execution_count": 73,
   "metadata": {
    "collapsed": true
   },
   "outputs": [],
   "source": [
    "# MSE Dictionary to Dataframe\n",
    "df_mse = pd.DataFrame.from_dict(dict_mse, orient='index')"
   ]
  },
  {
   "cell_type": "code",
   "execution_count": 74,
   "metadata": {
    "scrolled": true
   },
   "outputs": [
    {
     "data": {
      "text/html": [
       "<div>\n",
       "<style>\n",
       "    .dataframe thead tr:only-child th {\n",
       "        text-align: right;\n",
       "    }\n",
       "\n",
       "    .dataframe thead th {\n",
       "        text-align: left;\n",
       "    }\n",
       "\n",
       "    .dataframe tbody tr th {\n",
       "        vertical-align: top;\n",
       "    }\n",
       "</style>\n",
       "<table border=\"1\" class=\"dataframe\">\n",
       "  <thead>\n",
       "    <tr style=\"text-align: right;\">\n",
       "      <th></th>\n",
       "      <th>error</th>\n",
       "    </tr>\n",
       "  </thead>\n",
       "  <tbody>\n",
       "    <tr>\n",
       "      <th>GDAX</th>\n",
       "      <td>2000.864765</td>\n",
       "    </tr>\n",
       "    <tr>\n",
       "      <th>BITSTAMP</th>\n",
       "      <td>2075.586225</td>\n",
       "    </tr>\n",
       "    <tr>\n",
       "      <th>GEMINI</th>\n",
       "      <td>1759.111604</td>\n",
       "    </tr>\n",
       "    <tr>\n",
       "      <th>OKCOIN</th>\n",
       "      <td>15729.455290</td>\n",
       "    </tr>\n",
       "    <tr>\n",
       "      <th>KRAKEN</th>\n",
       "      <td>586.131577</td>\n",
       "    </tr>\n",
       "  </tbody>\n",
       "</table>\n",
       "</div>"
      ],
      "text/plain": [
       "                 error\n",
       "GDAX       2000.864765\n",
       "BITSTAMP   2075.586225\n",
       "GEMINI     1759.111604\n",
       "OKCOIN    15729.455290\n",
       "KRAKEN      586.131577"
      ]
     },
     "execution_count": 74,
     "metadata": {},
     "output_type": "execute_result"
    }
   ],
   "source": [
    "df_mse.rename(columns={0:'error'})"
   ]
  },
  {
   "cell_type": "code",
   "execution_count": 75,
   "metadata": {
    "scrolled": true
   },
   "outputs": [],
   "source": [
    "df_mse = df_mse.rename(columns={0:'error'})"
   ]
  },
  {
   "cell_type": "code",
   "execution_count": 76,
   "metadata": {
    "collapsed": true
   },
   "outputs": [],
   "source": [
    "#Normalisation\n",
    "\n",
    "max_value = df_mse['error'].max()\n",
    "min_value = df_mse['error'].min()\n",
    "df_mse['normError']=(df_mse['error'] - min_value) / (max_value - min_value)\n"
   ]
  },
  {
   "cell_type": "code",
   "execution_count": 77,
   "metadata": {},
   "outputs": [
    {
     "data": {
      "text/plain": [
       "<matplotlib.collections.PathCollection at 0x20722a29390>"
      ]
     },
     "execution_count": 77,
     "metadata": {},
     "output_type": "execute_result"
    },
    {
     "data": {
      "image/png": "[encoded data removed]",
      "text/plain": [
       "<matplotlib.figure.Figure at 0x20722bc3c50>"
      ]
     },
     "metadata": {},
     "output_type": "display_data"
    }
   ],
   "source": [
    "import matplotlib\n",
    "import matplotlib.pyplot as plt\n",
    "%matplotlib inline\n",
    "\n",
    "matplotlib.rcParams['figure.figsize'] = (12.0, 8.0)\n",
    "\n",
    "plt.scatter(df_mse.index, df_mse['normError'])"
   ]
  },
  {
   "cell_type": "code",
   "execution_count": null,
   "metadata": {
    "collapsed": true
   },
   "outputs": [],
   "source": []
  },
  {
   "cell_type": "code",
   "execution_count": null,
   "metadata": {
    "collapsed": true
   },
   "outputs": [],
   "source": []
  }
 ],
 "metadata": {
  "kernelspec": {
   "display_name": "Python [conda env:cryptocurrency-analysis]",
   "language": "python",
   "name": "conda-env-cryptocurrency-analysis-py"
  },
  "language_info": {
   "codemirror_mode": {
    "name": "ipython",
    "version": 3
   },
   "file_extension": ".py",
   "mimetype": "text/x-python",
   "name": "python",
   "nbconvert_exporter": "python",
   "pygments_lexer": "ipython3",
   "version": "3.6.3"
  }
 },
 "nbformat": 4,
 "nbformat_minor": 2
}
