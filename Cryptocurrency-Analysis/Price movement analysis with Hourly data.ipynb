{
 "cells": [
  {
   "cell_type": "code",
   "execution_count": 9,
   "metadata": {
    "collapsed": true
   },
   "outputs": [],
   "source": [
    "#Import basic libraries\n",
    "import pandas as pd\n",
    "from pandas import Series,DataFrame\n",
    "import matplotlib.pyplot as plt\n",
    "import seaborn as sns\n",
    "import numpy as np\n",
    "import requests\n",
    "import json\n",
    "#from scipy.stats import norm\n",
    "#from sklearn.preprocessing import StandardScaler\n",
    "#from scipy import stats\n",
    "import warnings\n",
    "warnings.filterwarnings('ignore')\n",
    "%matplotlib inline"
   ]
  },
  {
   "cell_type": "code",
   "execution_count": 18,
   "metadata": {
    "collapsed": true
   },
   "outputs": [],
   "source": [
    "# 1. CryptoCompare API call for historical Hours \n",
    "# Function for CryptoCompare HistoMinute API request\n",
    "\n",
    "def get_histohour_data(exchange, fromPair, toPair):\n",
    "    url = 'https://min-api.cryptocompare.com/data/histohour?fsym={}&tsym={}&limit=2000&aggregate=1&e={}'\n",
    "    response = requests.post(url.format(fromPair, toPair, exchange))\n",
    "    data = json.loads(response.content)\n",
    "    df = pd.DataFrame.from_dict(data[\"Data\"], orient=\"columns\")\n",
    "    \n",
    "    return pd.DataFrame(df)"
   ]
  },
  {
   "cell_type": "code",
   "execution_count": 21,
   "metadata": {},
   "outputs": [],
   "source": [
    "# json list to pandas dataframe\n",
    "price_data = {}\n",
    "pairs = ['LTC','BCH','ETC','ETH','LSK','OMG','XMR','XRP','ZEC']\n",
    "for pair in pairs:\n",
    "    price_data[pair] = get_histohour_data('Poloniex', pair, 'BTC')"
   ]
  },
  {
   "cell_type": "code",
   "execution_count": 23,
   "metadata": {},
   "outputs": [
    {
     "data": {
      "text/html": [
       "<div>\n",
       "<style>\n",
       "    .dataframe thead tr:only-child th {\n",
       "        text-align: right;\n",
       "    }\n",
       "\n",
       "    .dataframe thead th {\n",
       "        text-align: left;\n",
       "    }\n",
       "\n",
       "    .dataframe tbody tr th {\n",
       "        vertical-align: top;\n",
       "    }\n",
       "</style>\n",
       "<table border=\"1\" class=\"dataframe\">\n",
       "  <thead>\n",
       "    <tr style=\"text-align: right;\">\n",
       "      <th></th>\n",
       "      <th>close</th>\n",
       "      <th>high</th>\n",
       "      <th>low</th>\n",
       "      <th>open</th>\n",
       "      <th>time</th>\n",
       "      <th>volumefrom</th>\n",
       "      <th>volumeto</th>\n",
       "    </tr>\n",
       "  </thead>\n",
       "  <tbody>\n",
       "    <tr>\n",
       "      <th>0</th>\n",
       "      <td>0.001864</td>\n",
       "      <td>0.001877</td>\n",
       "      <td>0.001844</td>\n",
       "      <td>0.001857</td>\n",
       "      <td>1510120800</td>\n",
       "      <td>20856.19</td>\n",
       "      <td>38.78</td>\n",
       "    </tr>\n",
       "    <tr>\n",
       "      <th>1</th>\n",
       "      <td>0.001871</td>\n",
       "      <td>0.001880</td>\n",
       "      <td>0.001860</td>\n",
       "      <td>0.001864</td>\n",
       "      <td>1510124400</td>\n",
       "      <td>3823.17</td>\n",
       "      <td>7.16</td>\n",
       "    </tr>\n",
       "    <tr>\n",
       "      <th>2</th>\n",
       "      <td>0.001885</td>\n",
       "      <td>0.001894</td>\n",
       "      <td>0.001871</td>\n",
       "      <td>0.001871</td>\n",
       "      <td>1510128000</td>\n",
       "      <td>3996.42</td>\n",
       "      <td>7.54</td>\n",
       "    </tr>\n",
       "    <tr>\n",
       "      <th>3</th>\n",
       "      <td>0.001887</td>\n",
       "      <td>0.001914</td>\n",
       "      <td>0.001876</td>\n",
       "      <td>0.001885</td>\n",
       "      <td>1510131600</td>\n",
       "      <td>22379.73</td>\n",
       "      <td>42.52</td>\n",
       "    </tr>\n",
       "    <tr>\n",
       "      <th>4</th>\n",
       "      <td>0.001875</td>\n",
       "      <td>0.001891</td>\n",
       "      <td>0.001865</td>\n",
       "      <td>0.001887</td>\n",
       "      <td>1510135200</td>\n",
       "      <td>3510.23</td>\n",
       "      <td>6.58</td>\n",
       "    </tr>\n",
       "  </tbody>\n",
       "</table>\n",
       "</div>"
      ],
      "text/plain": [
       "      close      high       low      open        time  volumefrom  volumeto\n",
       "0  0.001864  0.001877  0.001844  0.001857  1510120800    20856.19     38.78\n",
       "1  0.001871  0.001880  0.001860  0.001864  1510124400     3823.17      7.16\n",
       "2  0.001885  0.001894  0.001871  0.001871  1510128000     3996.42      7.54\n",
       "3  0.001887  0.001914  0.001876  0.001885  1510131600    22379.73     42.52\n",
       "4  0.001875  0.001891  0.001865  0.001887  1510135200     3510.23      6.58"
      ]
     },
     "execution_count": 23,
     "metadata": {},
     "output_type": "execute_result"
    }
   ],
   "source": [
    "price_data['ETC'].head()"
   ]
  },
  {
   "cell_type": "markdown",
   "metadata": {},
   "source": [
    "### Function to merge dataframes into a single dataframe\n",
    "* dataframes: multiple dataframe inside of dictionary\n",
    "* labels: dictionary's labels\n",
    "* col: column to merge into a new dataframe\n"
   ]
  },
  {
   "cell_type": "code",
   "execution_count": 31,
   "metadata": {
    "collapsed": true
   },
   "outputs": [],
   "source": [
    "# Function to merge dataframes into a single dataframe\n",
    "def merge_dfs_on_column(dataframes, labels, col): \n",
    "    '''Merge a single column of each dataframe into a new combined dataframe'''\n",
    "    series_dict = {}\n",
    "    for index in range(len(dataframes)): #index = rowIndex\n",
    "        series_dict[labels[index]] = dataframes[index][col]\n",
    "        \n",
    "    return pd.DataFrame(series_dict)"
   ]
  },
  {
   "cell_type": "code",
   "execution_count": 32,
   "metadata": {
    "collapsed": true
   },
   "outputs": [],
   "source": [
    "df = merge_dfs_on_column(list(price_data.values()), list(price_data.keys()), 'close')"
   ]
  },
  {
   "cell_type": "code",
   "execution_count": 34,
   "metadata": {},
   "outputs": [
    {
     "data": {
      "text/plain": [
       "(2001, 9)"
      ]
     },
     "execution_count": 34,
     "metadata": {},
     "output_type": "execute_result"
    }
   ],
   "source": [
    "df.shape"
   ]
  },
  {
   "cell_type": "markdown",
   "metadata": {},
   "source": [
    "### Shift price data and label price movements"
   ]
  },
  {
   "cell_type": "code",
   "execution_count": 35,
   "metadata": {
    "collapsed": true
   },
   "outputs": [],
   "source": [
    "for pair in pairs:\n",
    "    df[pair+\"next\"] = df[pair].shift(-1)"
   ]
  },
  {
   "cell_type": "code",
   "execution_count": 37,
   "metadata": {},
   "outputs": [
    {
     "data": {
      "text/plain": [
       "Index(['BCH', 'ETC', 'ETH', 'LSK', 'LTC', 'OMG', 'XMR', 'XRP', 'ZEC',\n",
       "       'LTCnext', 'BCHnext', 'ETCnext', 'ETHnext', 'LSKnext', 'OMGnext',\n",
       "       'XMRnext', 'XRPnext', 'ZECnext'],\n",
       "      dtype='object')"
      ]
     },
     "execution_count": 37,
     "metadata": {},
     "output_type": "execute_result"
    }
   ],
   "source": [
    "#Confirm if the labels added. \n",
    "df.columns"
   ]
  },
  {
   "cell_type": "code",
   "execution_count": 39,
   "metadata": {
    "collapsed": true
   },
   "outputs": [],
   "source": [
    "# Add next price move columns for each coin\n",
    "for pair in pairs:\n",
    "    df[pair+'move'] = '0'\n",
    "    df.loc[df[pair] < df[pair+'next'], pair+'move'] = '1'\n",
    "    df.loc[df[pair] > df[pair+'next'], pair+'move'] = '-1'\n",
    "    df.loc[df[pair] == df[pair+'next'], pair+'move'] = '0'"
   ]
  },
  {
   "cell_type": "code",
   "execution_count": 40,
   "metadata": {
    "collapsed": true
   },
   "outputs": [],
   "source": [
    "df2 = df[['BCHmove', 'ETCmove', 'ETHmove', 'LSKmove', 'LTCmove', 'OMGmove', 'XMRmove', 'XRPmove', 'ZECmove']].copy()\n",
    "df2 = df2.apply(pd.to_numeric)"
   ]
  },
  {
   "cell_type": "code",
   "execution_count": 41,
   "metadata": {},
   "outputs": [
    {
     "data": {
      "text/html": [
       "<div>\n",
       "<style>\n",
       "    .dataframe thead tr:only-child th {\n",
       "        text-align: right;\n",
       "    }\n",
       "\n",
       "    .dataframe thead th {\n",
       "        text-align: left;\n",
       "    }\n",
       "\n",
       "    .dataframe tbody tr th {\n",
       "        vertical-align: top;\n",
       "    }\n",
       "</style>\n",
       "<table border=\"1\" class=\"dataframe\">\n",
       "  <thead>\n",
       "    <tr style=\"text-align: right;\">\n",
       "      <th></th>\n",
       "      <th>BCHmove</th>\n",
       "      <th>ETCmove</th>\n",
       "      <th>ETHmove</th>\n",
       "      <th>LSKmove</th>\n",
       "      <th>LTCmove</th>\n",
       "      <th>OMGmove</th>\n",
       "      <th>XMRmove</th>\n",
       "      <th>XRPmove</th>\n",
       "      <th>ZECmove</th>\n",
       "    </tr>\n",
       "  </thead>\n",
       "  <tbody>\n",
       "    <tr>\n",
       "      <th>BCHmove</th>\n",
       "      <td>1.000000</td>\n",
       "      <td>0.272106</td>\n",
       "      <td>0.308709</td>\n",
       "      <td>0.107721</td>\n",
       "      <td>0.220194</td>\n",
       "      <td>0.160346</td>\n",
       "      <td>0.182705</td>\n",
       "      <td>0.217194</td>\n",
       "      <td>0.264408</td>\n",
       "    </tr>\n",
       "    <tr>\n",
       "      <th>ETCmove</th>\n",
       "      <td>0.272106</td>\n",
       "      <td>1.000000</td>\n",
       "      <td>0.327053</td>\n",
       "      <td>0.127372</td>\n",
       "      <td>0.232851</td>\n",
       "      <td>0.198335</td>\n",
       "      <td>0.246640</td>\n",
       "      <td>0.243741</td>\n",
       "      <td>0.225424</td>\n",
       "    </tr>\n",
       "    <tr>\n",
       "      <th>ETHmove</th>\n",
       "      <td>0.308709</td>\n",
       "      <td>0.327053</td>\n",
       "      <td>1.000000</td>\n",
       "      <td>0.143433</td>\n",
       "      <td>0.270618</td>\n",
       "      <td>0.234290</td>\n",
       "      <td>0.238268</td>\n",
       "      <td>0.302539</td>\n",
       "      <td>0.277926</td>\n",
       "    </tr>\n",
       "    <tr>\n",
       "      <th>LSKmove</th>\n",
       "      <td>0.107721</td>\n",
       "      <td>0.127372</td>\n",
       "      <td>0.143433</td>\n",
       "      <td>1.000000</td>\n",
       "      <td>0.112828</td>\n",
       "      <td>0.159566</td>\n",
       "      <td>0.138105</td>\n",
       "      <td>0.143353</td>\n",
       "      <td>0.154919</td>\n",
       "    </tr>\n",
       "    <tr>\n",
       "      <th>LTCmove</th>\n",
       "      <td>0.220194</td>\n",
       "      <td>0.232851</td>\n",
       "      <td>0.270618</td>\n",
       "      <td>0.112828</td>\n",
       "      <td>1.000000</td>\n",
       "      <td>0.188108</td>\n",
       "      <td>0.191495</td>\n",
       "      <td>0.212495</td>\n",
       "      <td>0.237615</td>\n",
       "    </tr>\n",
       "    <tr>\n",
       "      <th>OMGmove</th>\n",
       "      <td>0.160346</td>\n",
       "      <td>0.198335</td>\n",
       "      <td>0.234290</td>\n",
       "      <td>0.159566</td>\n",
       "      <td>0.188108</td>\n",
       "      <td>1.000000</td>\n",
       "      <td>0.154045</td>\n",
       "      <td>0.184345</td>\n",
       "      <td>0.170765</td>\n",
       "    </tr>\n",
       "    <tr>\n",
       "      <th>XMRmove</th>\n",
       "      <td>0.182705</td>\n",
       "      <td>0.246640</td>\n",
       "      <td>0.238268</td>\n",
       "      <td>0.138105</td>\n",
       "      <td>0.191495</td>\n",
       "      <td>0.154045</td>\n",
       "      <td>1.000000</td>\n",
       "      <td>0.187253</td>\n",
       "      <td>0.241121</td>\n",
       "    </tr>\n",
       "    <tr>\n",
       "      <th>XRPmove</th>\n",
       "      <td>0.217194</td>\n",
       "      <td>0.243741</td>\n",
       "      <td>0.302539</td>\n",
       "      <td>0.143353</td>\n",
       "      <td>0.212495</td>\n",
       "      <td>0.184345</td>\n",
       "      <td>0.187253</td>\n",
       "      <td>1.000000</td>\n",
       "      <td>0.190956</td>\n",
       "    </tr>\n",
       "    <tr>\n",
       "      <th>ZECmove</th>\n",
       "      <td>0.264408</td>\n",
       "      <td>0.225424</td>\n",
       "      <td>0.277926</td>\n",
       "      <td>0.154919</td>\n",
       "      <td>0.237615</td>\n",
       "      <td>0.170765</td>\n",
       "      <td>0.241121</td>\n",
       "      <td>0.190956</td>\n",
       "      <td>1.000000</td>\n",
       "    </tr>\n",
       "  </tbody>\n",
       "</table>\n",
       "</div>"
      ],
      "text/plain": [
       "          BCHmove   ETCmove   ETHmove   LSKmove   LTCmove   OMGmove   XMRmove  \\\n",
       "BCHmove  1.000000  0.272106  0.308709  0.107721  0.220194  0.160346  0.182705   \n",
       "ETCmove  0.272106  1.000000  0.327053  0.127372  0.232851  0.198335  0.246640   \n",
       "ETHmove  0.308709  0.327053  1.000000  0.143433  0.270618  0.234290  0.238268   \n",
       "LSKmove  0.107721  0.127372  0.143433  1.000000  0.112828  0.159566  0.138105   \n",
       "LTCmove  0.220194  0.232851  0.270618  0.112828  1.000000  0.188108  0.191495   \n",
       "OMGmove  0.160346  0.198335  0.234290  0.159566  0.188108  1.000000  0.154045   \n",
       "XMRmove  0.182705  0.246640  0.238268  0.138105  0.191495  0.154045  1.000000   \n",
       "XRPmove  0.217194  0.243741  0.302539  0.143353  0.212495  0.184345  0.187253   \n",
       "ZECmove  0.264408  0.225424  0.277926  0.154919  0.237615  0.170765  0.241121   \n",
       "\n",
       "          XRPmove   ZECmove  \n",
       "BCHmove  0.217194  0.264408  \n",
       "ETCmove  0.243741  0.225424  \n",
       "ETHmove  0.302539  0.277926  \n",
       "LSKmove  0.143353  0.154919  \n",
       "LTCmove  0.212495  0.237615  \n",
       "OMGmove  0.184345  0.170765  \n",
       "XMRmove  0.187253  0.241121  \n",
       "XRPmove  1.000000  0.190956  \n",
       "ZECmove  0.190956  1.000000  "
      ]
     },
     "execution_count": 41,
     "metadata": {},
     "output_type": "execute_result"
    }
   ],
   "source": [
    "df2.corr()"
   ]
  },
  {
   "cell_type": "code",
   "execution_count": 42,
   "metadata": {},
   "outputs": [
    {
     "data": {
      "image/png": "[encoded data removed]",
      "text/plain": [
       "<matplotlib.figure.Figure at 0x16c04987c50>"
      ]
     },
     "metadata": {},
     "output_type": "display_data"
    }
   ],
   "source": [
    "corrmat = df2.corr()\n",
    "f, ax = plt.subplots(figsize=(12, 9))\n",
    "sns.heatmap(corrmat, vmax=.8, square=True);"
   ]
  },
  {
   "cell_type": "code",
   "execution_count": 49,
   "metadata": {},
   "outputs": [
    {
     "data": {
      "image/png": "[encoded data removed]",
      "text/plain": [
       "<matplotlib.figure.Figure at 0x16c04e0c630>"
      ]
     },
     "metadata": {},
     "output_type": "display_data"
    }
   ],
   "source": [
    "f, ax = plt.subplots(figsize=(7, 3))\n",
    "sns.countplot(y=\"XMRmove\", data=df2, color=\"c\");"
   ]
  },
  {
   "cell_type": "code",
   "execution_count": 50,
   "metadata": {},
   "outputs": [
    {
     "name": "stdout",
     "output_type": "stream",
     "text": [
      "Automatically created module for IPython interactive environment\n"
     ]
    }
   ],
   "source": [
    "from sklearn.utils import class_weight\n",
    "from sklearn.decomposition import PCA\n",
    "from sklearn.preprocessing import StandardScaler, LabelEncoder\n",
    " \n",
    "from sklearn.linear_model import LogisticRegression\n",
    "from sklearn.svm import SVC\n",
    "from sklearn.neighbors import KNeighborsClassifier\n",
    "from sklearn import tree\n",
    "from sklearn.neural_network import MLPClassifier\n",
    "from sklearn.neighbors import KNeighborsClassifier\n",
    "from sklearn.ensemble import GradientBoostingClassifier\n",
    "from sklearn.gaussian_process.kernels import RBF\n",
    "from sklearn.ensemble import RandomForestClassifier\n",
    "from sklearn.naive_bayes import GaussianNB\n",
    "\n",
    "print(__doc__)\n",
    "\n",
    "import itertools\n",
    "from sklearn import svm, datasets\n",
    "from sklearn.model_selection import train_test_split\n",
    "from sklearn.metrics import confusion_matrix"
   ]
  },
  {
   "cell_type": "markdown",
   "metadata": {},
   "source": [
    "### Prepare data sets for training and testing"
   ]
  },
  {
   "cell_type": "code",
   "execution_count": 73,
   "metadata": {
    "collapsed": true
   },
   "outputs": [],
   "source": [
    "dfset = {}"
   ]
  },
  {
   "cell_type": "code",
   "execution_count": 74,
   "metadata": {},
   "outputs": [
    {
     "data": {
      "text/plain": [
       "Index(['BCHmove', 'ETCmove', 'ETHmove', 'LSKmove', 'LTCmove', 'OMGmove',\n",
       "       'XMRmove', 'XRPmove', 'ZECmove', 'LTC1',\n",
       "       ...\n",
       "       'ZEC8', 'LTC9', 'BCH9', 'ETC9', 'ETH9', 'LSK9', 'OMG9', 'XMR9', 'XRP9',\n",
       "       'ZEC9'],\n",
       "      dtype='object', length=198)"
      ]
     },
     "execution_count": 74,
     "metadata": {},
     "output_type": "execute_result"
    }
   ],
   "source": [
    "df2.columns"
   ]
  },
  {
   "cell_type": "code",
   "execution_count": 75,
   "metadata": {},
   "outputs": [],
   "source": [
    "for j in (str(x) for x in range(1,11)):\n",
    "    dfset[j] = pd.DataFrame()\n",
    "    for pair in pairs:\n",
    "        df2[pair+j] = df2[pair+'move'].rolling(min_periods=1,window=int(j)).sum()\n",
    "        dfset[j][pair+j] = df2[pair+j]"
   ]
  },
  {
   "cell_type": "markdown",
   "metadata": {},
   "source": [
    "##### Approach 1"
   ]
  },
  {
   "cell_type": "code",
   "execution_count": 64,
   "metadata": {},
   "outputs": [
    {
     "name": "stdout",
     "output_type": "stream",
     "text": [
      "100 1 73.3333333333\n",
      "100 2 40.0\n",
      "100 3 56.6666666667\n",
      "100 4 60.0\n",
      "100 5 60.0\n",
      "100 6 46.6666666667\n",
      "100 7 63.3333333333\n",
      "100 8 63.3333333333\n",
      "100 9 73.3333333333\n",
      "100 10 50.0\n",
      "200 1 63.3333333333\n",
      "200 2 50.0\n",
      "200 3 46.6666666667\n",
      "200 4 50.0\n",
      "200 5 58.3333333333\n",
      "200 6 45.0\n",
      "200 7 55.0\n",
      "200 8 58.3333333333\n",
      "200 9 60.0\n",
      "200 10 56.6666666667\n",
      "400 1 65.8333333333\n",
      "400 2 58.3333333333\n",
      "400 3 53.3333333333\n",
      "400 4 52.5\n",
      "400 5 53.3333333333\n",
      "400 6 51.6666666667\n",
      "400 7 48.3333333333\n",
      "400 8 45.0\n",
      "400 9 53.3333333333\n",
      "400 10 50.8333333333\n",
      "800 1 66.6666666667\n",
      "800 2 50.8333333333\n",
      "800 3 52.5\n",
      "800 4 45.8333333333\n",
      "800 5 46.6666666667\n",
      "800 6 52.5\n",
      "800 7 50.0\n",
      "800 8 52.0833333333\n",
      "800 9 52.0833333333\n",
      "800 10 45.4166666667\n",
      "1000 1 53.6666666667\n",
      "1000 2 52.3333333333\n",
      "1000 3 55.3333333333\n",
      "1000 4 47.6666666667\n",
      "1000 5 48.3333333333\n",
      "1000 6 52.6666666667\n",
      "1000 7 54.6666666667\n",
      "1000 8 53.6666666667\n",
      "1000 9 49.0\n",
      "1000 10 50.3333333333\n",
      "1200 1 61.9444444444\n",
      "1200 2 55.0\n",
      "1200 3 53.6111111111\n",
      "1200 4 54.4444444444\n",
      "1200 5 49.1666666667\n",
      "1200 6 48.8888888889\n",
      "1200 7 53.3333333333\n",
      "1200 8 49.1666666667\n",
      "1200 9 49.4444444444\n",
      "1200 10 50.5555555556\n",
      "1500 1 64.4444444444\n",
      "1500 2 54.6666666667\n",
      "1500 3 55.3333333333\n",
      "1500 4 54.8888888889\n",
      "1500 5 49.3333333333\n",
      "1500 6 48.4444444444\n",
      "1500 7 52.8888888889\n",
      "1500 8 53.5555555556\n",
      "1500 9 53.7777777778\n",
      "1500 10 48.0\n",
      "2000 1 58.5\n",
      "2000 2 54.1666666667\n",
      "2000 3 52.0\n",
      "2000 4 52.1666666667\n",
      "2000 5 50.0\n",
      "2000 6 48.8333333333\n",
      "2000 7 48.1666666667\n",
      "2000 8 47.8333333333\n",
      "2000 9 45.6666666667\n",
      "2000 10 47.0\n"
     ]
    }
   ],
   "source": [
    "# Making new columns with previous five price move for each pair\n",
    "# acc = pd.DataFrame(columns=('nrows','feeds','rates'))\n",
    "\n",
    "#Model KNN Classifier, the number of neighbors=3\n",
    "knn = KNeighborsClassifier(n_neighbors = 3)\n",
    "\n",
    "rows = []\n",
    "columns = ['nrows','feeds', 'scores']\n",
    "\n",
    "for i in ['100','200','400','800','1000','1200','1500','2000']:\n",
    "    for j in (str(x) for x in range(1,11)):\n",
    "        dfin = dfset[j].head(int(i))\n",
    "        X = dfin.drop('BCH'+j,axis=1)\n",
    "        Y = dfset['1']['BCH1'].head(int(i))\n",
    "        \n",
    "        X_train, X_test, Y_train, Y_test = train_test_split(X, Y, test_size=0.3, random_state=18)#42 #12\n",
    "        \n",
    "        modelV = knn.fit(X_train, Y_train)\n",
    "        Y_pred = modelV.predict(X_test)\n",
    "        score = modelV.score(X_test,Y_test)*100\n",
    "        \n",
    "        print(i,j,score)\n",
    "        row = [i,j,score]\n",
    "        rows.append(row)\n",
    "\n",
    "acc = pd.DataFrame(rows, columns=columns)"
   ]
  },
  {
   "cell_type": "code",
   "execution_count": 68,
   "metadata": {},
   "outputs": [
    {
     "data": {
      "text/html": [
       "<div>\n",
       "<style>\n",
       "    .dataframe thead tr:only-child th {\n",
       "        text-align: right;\n",
       "    }\n",
       "\n",
       "    .dataframe thead th {\n",
       "        text-align: left;\n",
       "    }\n",
       "\n",
       "    .dataframe tbody tr th {\n",
       "        vertical-align: top;\n",
       "    }\n",
       "</style>\n",
       "<table border=\"1\" class=\"dataframe\">\n",
       "  <thead>\n",
       "    <tr style=\"text-align: right;\">\n",
       "      <th></th>\n",
       "      <th>nrows</th>\n",
       "      <th>feeds</th>\n",
       "      <th>scores</th>\n",
       "    </tr>\n",
       "  </thead>\n",
       "  <tbody>\n",
       "    <tr>\n",
       "      <th>0</th>\n",
       "      <td>100</td>\n",
       "      <td>1</td>\n",
       "      <td>73.333333</td>\n",
       "    </tr>\n",
       "    <tr>\n",
       "      <th>1</th>\n",
       "      <td>100</td>\n",
       "      <td>2</td>\n",
       "      <td>40.000000</td>\n",
       "    </tr>\n",
       "    <tr>\n",
       "      <th>2</th>\n",
       "      <td>100</td>\n",
       "      <td>3</td>\n",
       "      <td>56.666667</td>\n",
       "    </tr>\n",
       "    <tr>\n",
       "      <th>3</th>\n",
       "      <td>100</td>\n",
       "      <td>4</td>\n",
       "      <td>60.000000</td>\n",
       "    </tr>\n",
       "    <tr>\n",
       "      <th>4</th>\n",
       "      <td>100</td>\n",
       "      <td>5</td>\n",
       "      <td>60.000000</td>\n",
       "    </tr>\n",
       "  </tbody>\n",
       "</table>\n",
       "</div>"
      ],
      "text/plain": [
       "  nrows  feeds     scores\n",
       "0   100      1  73.333333\n",
       "1   100      2  40.000000\n",
       "2   100      3  56.666667\n",
       "3   100      4  60.000000\n",
       "4   100      5  60.000000"
      ]
     },
     "execution_count": 68,
     "metadata": {},
     "output_type": "execute_result"
    }
   ],
   "source": [
    "acc.head()"
   ]
  },
  {
   "cell_type": "code",
   "execution_count": 65,
   "metadata": {
    "collapsed": true
   },
   "outputs": [],
   "source": [
    "acc['feeds'] = pd.to_numeric(acc['feeds'])"
   ]
  },
  {
   "cell_type": "code",
   "execution_count": 69,
   "metadata": {},
   "outputs": [
    {
     "data": {
      "text/plain": [
       "<matplotlib.legend.Legend at 0x16c057007f0>"
      ]
     },
     "execution_count": 69,
     "metadata": {},
     "output_type": "execute_result"
    },
    {
     "data": {
      "image/png": "[encoded data removed]",
      "text/plain": [
       "<matplotlib.figure.Figure at 0x16c0560ea90>"
      ]
     },
     "metadata": {},
     "output_type": "display_data"
    }
   ],
   "source": [
    "fig,ax = plt.subplots()\n",
    "\n",
    "for nrow in ['100','200','400','800','1000','1200','1500','2000']:\n",
    "    ax.plot(acc[acc.nrows==nrow].feeds,acc[acc.nrows==nrow].scores,label=nrow)\n",
    "\n",
    "ax.set_xlabel(\"feed\")\n",
    "ax.set_ylabel(\"classification rate(%)\")\n",
    "ax.legend(loc='best')"
   ]
  },
  {
   "cell_type": "markdown",
   "metadata": {},
   "source": [
    "##### Approach 2: Train a model with 90K, 60K, 30K then apply them to recent 10K records as a test set"
   ]
  },
  {
   "cell_type": "code",
   "execution_count": 79,
   "metadata": {},
   "outputs": [
    {
     "data": {
      "text/html": [
       "<div>\n",
       "<style>\n",
       "    .dataframe thead tr:only-child th {\n",
       "        text-align: right;\n",
       "    }\n",
       "\n",
       "    .dataframe thead th {\n",
       "        text-align: left;\n",
       "    }\n",
       "\n",
       "    .dataframe tbody tr th {\n",
       "        vertical-align: top;\n",
       "    }\n",
       "</style>\n",
       "<table border=\"1\" class=\"dataframe\">\n",
       "  <thead>\n",
       "    <tr style=\"text-align: right;\">\n",
       "      <th></th>\n",
       "      <th>LTC1</th>\n",
       "      <th>BCH1</th>\n",
       "      <th>ETC1</th>\n",
       "      <th>ETH1</th>\n",
       "      <th>LSK1</th>\n",
       "      <th>OMG1</th>\n",
       "      <th>XMR1</th>\n",
       "      <th>XRP1</th>\n",
       "      <th>ZEC1</th>\n",
       "    </tr>\n",
       "  </thead>\n",
       "  <tbody>\n",
       "    <tr>\n",
       "      <th>0</th>\n",
       "      <td>1.0</td>\n",
       "      <td>1.0</td>\n",
       "      <td>1.0</td>\n",
       "      <td>1.0</td>\n",
       "      <td>1.0</td>\n",
       "      <td>1.0</td>\n",
       "      <td>1.0</td>\n",
       "      <td>1.0</td>\n",
       "      <td>1.0</td>\n",
       "    </tr>\n",
       "    <tr>\n",
       "      <th>1</th>\n",
       "      <td>-1.0</td>\n",
       "      <td>-1.0</td>\n",
       "      <td>1.0</td>\n",
       "      <td>1.0</td>\n",
       "      <td>-1.0</td>\n",
       "      <td>-1.0</td>\n",
       "      <td>-1.0</td>\n",
       "      <td>1.0</td>\n",
       "      <td>1.0</td>\n",
       "    </tr>\n",
       "    <tr>\n",
       "      <th>2</th>\n",
       "      <td>-1.0</td>\n",
       "      <td>-1.0</td>\n",
       "      <td>1.0</td>\n",
       "      <td>1.0</td>\n",
       "      <td>1.0</td>\n",
       "      <td>1.0</td>\n",
       "      <td>1.0</td>\n",
       "      <td>1.0</td>\n",
       "      <td>1.0</td>\n",
       "    </tr>\n",
       "    <tr>\n",
       "      <th>3</th>\n",
       "      <td>1.0</td>\n",
       "      <td>-1.0</td>\n",
       "      <td>-1.0</td>\n",
       "      <td>1.0</td>\n",
       "      <td>1.0</td>\n",
       "      <td>1.0</td>\n",
       "      <td>1.0</td>\n",
       "      <td>-1.0</td>\n",
       "      <td>-1.0</td>\n",
       "    </tr>\n",
       "    <tr>\n",
       "      <th>4</th>\n",
       "      <td>-1.0</td>\n",
       "      <td>-1.0</td>\n",
       "      <td>-1.0</td>\n",
       "      <td>-1.0</td>\n",
       "      <td>-1.0</td>\n",
       "      <td>-1.0</td>\n",
       "      <td>-1.0</td>\n",
       "      <td>-1.0</td>\n",
       "      <td>-1.0</td>\n",
       "    </tr>\n",
       "  </tbody>\n",
       "</table>\n",
       "</div>"
      ],
      "text/plain": [
       "   LTC1  BCH1  ETC1  ETH1  LSK1  OMG1  XMR1  XRP1  ZEC1\n",
       "0   1.0   1.0   1.0   1.0   1.0   1.0   1.0   1.0   1.0\n",
       "1  -1.0  -1.0   1.0   1.0  -1.0  -1.0  -1.0   1.0   1.0\n",
       "2  -1.0  -1.0   1.0   1.0   1.0   1.0   1.0   1.0   1.0\n",
       "3   1.0  -1.0  -1.0   1.0   1.0   1.0   1.0  -1.0  -1.0\n",
       "4  -1.0  -1.0  -1.0  -1.0  -1.0  -1.0  -1.0  -1.0  -1.0"
      ]
     },
     "execution_count": 79,
     "metadata": {},
     "output_type": "execute_result"
    }
   ],
   "source": [
    "dfset['1'].iloc[0:]"
   ]
  },
  {
   "cell_type": "code",
   "execution_count": 92,
   "metadata": {},
   "outputs": [],
   "source": [
    "# Making new columns with previous five price move for each pair\n",
    "# acc = pd.DataFrame(columns=('nrows','feeds','rates'))\n",
    "\n",
    "#knn = KNeighborsClassifier(n_neighbors = 3)\n",
    "forest = RandomForestClassifier(n_estimators = 18)\n",
    "#boost = GradientBoostingClassifier()\n",
    "\n",
    "rows = []\n",
    "columns = ['nrows','feeds', 'scores']\n",
    "\n",
    "for i in ['100','200','400','800','1000','1200','1500','2000']:\n",
    "    for j in (str(x) for x in range(1,11)):\n",
    "        toIdx = int(i)\n",
    "        #fromIdx = toIdx-10000\n",
    "        \n",
    "        X_train = dfset[j].iloc[0:toIdx,1:9]\n",
    "        y_train = dfset['1']['BCH1'].iloc[0:toIdx]\n",
    "        \n",
    "        model = forest.fit(X_train,y_train)\n",
    "        \n",
    "        dfin = dfset[j].iloc[0:10000,:]\n",
    "        \n",
    "        X_test = dfin.drop('BCH'+j,axis=1)\n",
    "        y_test = dfset['1']['BCH1'].iloc[0:10000]\n",
    "        \n",
    "        Y_pred = model.predict(X_test)\n",
    "        score = model.score(X_test,y_test)*100 \n",
    "    \n",
    "        row = [i,j,score]\n",
    "        rows.append(row)\n",
    "\n",
    "acc = pd.DataFrame(rows, columns=columns)"
   ]
  },
  {
   "cell_type": "markdown",
   "metadata": {},
   "source": [
    "##### 1.KNN result"
   ]
  },
  {
   "cell_type": "code",
   "execution_count": 82,
   "metadata": {},
   "outputs": [
    {
     "data": {
      "text/plain": [
       "<matplotlib.legend.Legend at 0x16c069f8ba8>"
      ]
     },
     "execution_count": 82,
     "metadata": {},
     "output_type": "execute_result"
    },
    {
     "data": {
      "image/png": "[encoded data removed]",
      "text/plain": [
       "<matplotlib.figure.Figure at 0x16c04e63be0>"
      ]
     },
     "metadata": {},
     "output_type": "display_data"
    }
   ],
   "source": [
    "acc['feeds'] = pd.to_numeric(acc['feeds'])\n",
    "\n",
    "fig,ax = plt.subplots()\n",
    "\n",
    "for nrow in ['100','200','400','800','1000','1200','1500','2000']:\n",
    "    ax.plot(acc[acc.nrows==nrow].feeds,acc[acc.nrows==nrow].scores,label=nrow)\n",
    "\n",
    "ax.set_xlabel(\"feed\")\n",
    "ax.set_ylabel(\"classification rate(%)\")\n",
    "ax.legend(loc='best')\n"
   ]
  },
  {
   "cell_type": "markdown",
   "metadata": {},
   "source": [
    "### Test to draw confusion matrix"
   ]
  },
  {
   "cell_type": "code",
   "execution_count": 89,
   "metadata": {},
   "outputs": [],
   "source": [
    "X_train = dfset['4'].iloc[0:2000,1:9]\n",
    "y_train = dfset['1']['BCH1'].iloc[0:2000]\n",
    "        \n",
    "dfin = dfset['4'].iloc[0:2000,:]\n",
    "        \n",
    "X_test = dfin.drop('BCH'+'4',axis=1)\n",
    "y_test = dfset['1']['BCH1'].iloc[0:2000]"
   ]
  },
  {
   "cell_type": "code",
   "execution_count": 90,
   "metadata": {},
   "outputs": [
    {
     "name": "stdout",
     "output_type": "stream",
     "text": [
      "67.25\n"
     ]
    }
   ],
   "source": [
    "model =KNeighborsClassifier(n_neighbors = 3)\n",
    "modelV = model.fit(X_train, y_train)\n",
    "Y_pred = modelV.predict(X_test)\n",
    "print(round(modelV.score(X_test,y_test)*100,3))\n"
   ]
  },
  {
   "cell_type": "code",
   "execution_count": 91,
   "metadata": {},
   "outputs": [
    {
     "name": "stdout",
     "output_type": "stream",
     "text": [
      "Confusion matrix, without normalization\n",
      "[[711   0 329]\n",
      " [ 31   3  13]\n",
      " [280   2 631]]\n",
      "Normalized confusion matrix\n",
      "[[ 0.68  0.    0.32]\n",
      " [ 0.66  0.06  0.28]\n",
      " [ 0.31  0.    0.69]]\n"
     ]
    },
    {
     "data": {
      "image/png": "[encoded data removed]",
      "text/plain": [
       "<matplotlib.figure.Figure at 0x16c0565be48>"
      ]
     },
     "metadata": {},
     "output_type": "display_data"
    },
    {
     "data": {
      "image/png": "[encoded data removed]",
      "text/plain": [
       "<matplotlib.figure.Figure at 0x16c06bc1208>"
      ]
     },
     "metadata": {},
     "output_type": "display_data"
    }
   ],
   "source": [
    "# Plot fonfusion matrix\n",
    "def plot_confusion_matrix(cm, classes,\n",
    "                          normalize=False,\n",
    "                          title='Confusion matrix',\n",
    "                          cmap=plt.cm.Blues):\n",
    "    \"\"\"\n",
    "    This function prints and plots the confusion matrix.\n",
    "    Normalization can be applied by setting `normalize=True`.\n",
    "    \"\"\"\n",
    "    if normalize:\n",
    "        cm = cm.astype('float') / cm.sum(axis=1)[:, np.newaxis]\n",
    "        print(\"Normalized confusion matrix\")\n",
    "    else:\n",
    "        print('Confusion matrix, without normalization')\n",
    "\n",
    "    print(cm)\n",
    "\n",
    "    plt.imshow(cm, interpolation='nearest', cmap=cmap)\n",
    "    plt.title(title)\n",
    "    plt.colorbar()\n",
    "    tick_marks = np.arange(len(classes))\n",
    "    plt.xticks(tick_marks, classes, rotation=45)\n",
    "    plt.yticks(tick_marks, classes)\n",
    "\n",
    "    fmt = '.2f' if normalize else 'd'\n",
    "    thresh = cm.max() / 2.\n",
    "    for i, j in itertools.product(range(cm.shape[0]), range(cm.shape[1])):\n",
    "        plt.text(j, i, format(cm[i, j], fmt),\n",
    "                 horizontalalignment=\"center\",\n",
    "                 color=\"white\" if cm[i, j] > thresh else \"black\")\n",
    "\n",
    "    plt.tight_layout()\n",
    "    plt.ylabel('True label')\n",
    "    plt.xlabel('Predicted label')\n",
    "\n",
    "# Compute confusion matrix\n",
    "cnf_matrix = confusion_matrix(y_test, Y_pred)\n",
    "np.set_printoptions(precision=2)\n",
    "\n",
    "# Plot non-normalized confusion matrix\n",
    "plt.figure()\n",
    "plot_confusion_matrix(cnf_matrix, classes=[-1,0,1],\n",
    "                      title='Confusion matrix, without normalization')\n",
    "\n",
    "# Plot normalized confusion matrix\n",
    "plt.figure()\n",
    "plot_confusion_matrix(cnf_matrix, classes=[-1,0,1], normalize=True,\n",
    "                      title='Normalized confusion matrix')\n",
    "\n",
    "plt.show()"
   ]
  },
  {
   "cell_type": "markdown",
   "metadata": {},
   "source": [
    "##### 2.Random Forest"
   ]
  },
  {
   "cell_type": "code",
   "execution_count": 93,
   "metadata": {},
   "outputs": [
    {
     "data": {
      "text/plain": [
       "<matplotlib.legend.Legend at 0x16c06d50908>"
      ]
     },
     "execution_count": 93,
     "metadata": {},
     "output_type": "execute_result"
    },
    {
     "data": {
      "image/png": "[encoded data removed]",
      "text/plain": [
       "<matplotlib.figure.Figure at 0x16c06bbf0b8>"
      ]
     },
     "metadata": {},
     "output_type": "display_data"
    }
   ],
   "source": [
    "acc['feeds'] = pd.to_numeric(acc['feeds'])\n",
    "\n",
    "fig,ax = plt.subplots()\n",
    "\n",
    "for nrow in ['100','200','400','800','1000','1200','1500','2000']:\n",
    "    ax.plot(acc[acc.nrows==nrow].feeds,acc[acc.nrows==nrow].scores,label=nrow)\n",
    "\n",
    "ax.set_xlabel(\"feed\")\n",
    "ax.set_ylabel(\"classification rate(%)\")\n",
    "ax.legend(loc='best')\n"
   ]
  },
  {
   "cell_type": "markdown",
   "metadata": {},
   "source": [
    "### Test to draw confusion matrix"
   ]
  },
  {
   "cell_type": "code",
   "execution_count": 98,
   "metadata": {
    "collapsed": true
   },
   "outputs": [],
   "source": [
    "X_train = dfset['8'].iloc[0:2000,1:9]\n",
    "y_train = dfset['1']['BCH1'].iloc[0:2000]\n",
    "        \n",
    "dfin = dfset['8'].iloc[0:2000,:]\n",
    "        \n",
    "X_test = dfin.drop('BCH'+'8',axis=1)\n",
    "y_test = dfset['1']['BCH1'].iloc[0:2000]"
   ]
  },
  {
   "cell_type": "code",
   "execution_count": 99,
   "metadata": {},
   "outputs": [
    {
     "name": "stdout",
     "output_type": "stream",
     "text": [
      "70.3\n"
     ]
    }
   ],
   "source": [
    "model = RandomForestClassifier(n_estimators = 18)\n",
    "modelV = model.fit(X_train, y_train)\n",
    "Y_pred = modelV.predict(X_test)\n",
    "print(round(modelV.score(X_test,y_test)*100,3))\n"
   ]
  },
  {
   "cell_type": "code",
   "execution_count": 100,
   "metadata": {},
   "outputs": [
    {
     "name": "stdout",
     "output_type": "stream",
     "text": [
      "Confusion matrix, without normalization\n",
      "[[782   0 258]\n",
      " [ 26   7  14]\n",
      " [296   0 617]]\n",
      "Normalized confusion matrix\n",
      "[[ 0.75  0.    0.25]\n",
      " [ 0.55  0.15  0.3 ]\n",
      " [ 0.32  0.    0.68]]\n"
     ]
    },
    {
     "data": {
      "image/png": "[encoded data removed]",
      "text/plain": [
       "<matplotlib.figure.Figure at 0x16c06d8d860>"
      ]
     },
     "metadata": {},
     "output_type": "display_data"
    },
    {
     "data": {
      "image/png": "[encoded data removed]",
      "text/plain": [
       "<matplotlib.figure.Figure at 0x16c06ef5048>"
      ]
     },
     "metadata": {},
     "output_type": "display_data"
    }
   ],
   "source": [
    "# Plot fonfusion matrix\n",
    "def plot_confusion_matrix(cm, classes,\n",
    "                          normalize=False,\n",
    "                          title='Confusion matrix',\n",
    "                          cmap=plt.cm.Blues):\n",
    "    \"\"\"\n",
    "    This function prints and plots the confusion matrix.\n",
    "    Normalization can be applied by setting `normalize=True`.\n",
    "    \"\"\"\n",
    "    if normalize:\n",
    "        cm = cm.astype('float') / cm.sum(axis=1)[:, np.newaxis]\n",
    "        print(\"Normalized confusion matrix\")\n",
    "    else:\n",
    "        print('Confusion matrix, without normalization')\n",
    "\n",
    "    print(cm)\n",
    "\n",
    "    plt.imshow(cm, interpolation='nearest', cmap=cmap)\n",
    "    plt.title(title)\n",
    "    plt.colorbar()\n",
    "    tick_marks = np.arange(len(classes))\n",
    "    plt.xticks(tick_marks, classes, rotation=45)\n",
    "    plt.yticks(tick_marks, classes)\n",
    "\n",
    "    fmt = '.2f' if normalize else 'd'\n",
    "    thresh = cm.max() / 2.\n",
    "    for i, j in itertools.product(range(cm.shape[0]), range(cm.shape[1])):\n",
    "        plt.text(j, i, format(cm[i, j], fmt),\n",
    "                 horizontalalignment=\"center\",\n",
    "                 color=\"white\" if cm[i, j] > thresh else \"black\")\n",
    "\n",
    "    plt.tight_layout()\n",
    "    plt.ylabel('True label')\n",
    "    plt.xlabel('Predicted label')\n",
    "\n",
    "# Compute confusion matrix\n",
    "cnf_matrix = confusion_matrix(y_test, Y_pred)\n",
    "np.set_printoptions(precision=2)\n",
    "\n",
    "# Plot non-normalized confusion matrix\n",
    "plt.figure()\n",
    "plot_confusion_matrix(cnf_matrix, classes=[-1,0,1],\n",
    "                      title='Confusion matrix, without normalization')\n",
    "\n",
    "# Plot normalized confusion matrix\n",
    "plt.figure()\n",
    "plot_confusion_matrix(cnf_matrix, classes=[-1,0,1], normalize=True,\n",
    "                      title='Normalized confusion matrix')\n",
    "\n",
    "plt.show()"
   ]
  },
  {
   "cell_type": "code",
   "execution_count": null,
   "metadata": {
    "collapsed": true
   },
   "outputs": [],
   "source": []
  }
 ],
 "metadata": {
  "kernelspec": {
   "display_name": "Python [conda env:cryptocurrency-analysis]",
   "language": "python",
   "name": "conda-env-cryptocurrency-analysis-py"
  },
  "language_info": {
   "codemirror_mode": {
    "name": "ipython",
    "version": 3
   },
   "file_extension": ".py",
   "mimetype": "text/x-python",
   "name": "python",
   "nbconvert_exporter": "python",
   "pygments_lexer": "ipython3",
   "version": "3.6.3"
  }
 },
 "nbformat": 4,
 "nbformat_minor": 2
}
