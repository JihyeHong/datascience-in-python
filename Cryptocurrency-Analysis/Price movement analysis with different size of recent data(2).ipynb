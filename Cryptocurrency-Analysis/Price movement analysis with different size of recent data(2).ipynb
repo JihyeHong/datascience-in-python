{
 "cells": [
  {
   "cell_type": "code",
   "execution_count": 1,
   "metadata": {
    "collapsed": true
   },
   "outputs": [],
   "source": [
    "#invite people for the Kaggle party\n",
    "import pandas as pd\n",
    "from pandas import Series,DataFrame\n",
    "import matplotlib.pyplot as plt\n",
    "import seaborn as sns\n",
    "import numpy as np\n",
    "#from scipy.stats import norm\n",
    "#from sklearn.preprocessing import StandardScaler\n",
    "#from scipy import stats\n",
    "import warnings\n",
    "warnings.filterwarnings('ignore')\n",
    "%matplotlib inline"
   ]
  },
  {
   "cell_type": "markdown",
   "metadata": {},
   "source": [
    "### Import Data"
   ]
  },
  {
   "cell_type": "code",
   "execution_count": 179,
   "metadata": {
    "collapsed": true
   },
   "outputs": [],
   "source": [
    "#data import\n",
    "price_data = {}\n",
    "#pairs = ['LTC', 'ETH', 'ZEC', 'ETC', 'XMR', 'BCH', 'LSK', 'ZRX','GNT','GAS','XRP','REP']\n",
    "pairs = ['LTC','BCH','ETC','ETH','LSK','OMG','XMR','XRP','ZEC']\n",
    "\n",
    "for pair in pairs:\n",
    "    #price_data[pair] = pd.read_csv(('D:/export/BTC{0}_PLN_24Jan18.csv').format(pair), nrows=100000)\n",
    "    price_data[pair] = pd.read_csv(('D:/export/150118_BTC{0}_PLN.csv').format(pair), nrows=100000)\n",
    "    "
   ]
  },
  {
   "cell_type": "code",
   "execution_count": 180,
   "metadata": {},
   "outputs": [
    {
     "data": {
      "text/plain": [
       "((100000, 5), (100000, 5))"
      ]
     },
     "execution_count": 180,
     "metadata": {},
     "output_type": "execute_result"
    }
   ],
   "source": [
    "price_data['LTC'].shape, price_data['ZEC'].shape"
   ]
  },
  {
   "cell_type": "markdown",
   "metadata": {},
   "source": [
    "### Merge data from different pairs' data"
   ]
  },
  {
   "cell_type": "code",
   "execution_count": 4,
   "metadata": {
    "collapsed": true
   },
   "outputs": [],
   "source": [
    "# Function to merge dataframes into a single dataframe\n",
    "def merge_dfs_on_column(dataframes, labels, col):\n",
    "    '''Merge a single column of each dataframe into a new combined dataframe'''\n",
    "    series_dict = {}\n",
    "    for index in range(len(dataframes)):\n",
    "        series_dict[labels[index]] = dataframes[index][col]\n",
    "        \n",
    "    return pd.DataFrame(series_dict)"
   ]
  },
  {
   "cell_type": "code",
   "execution_count": 181,
   "metadata": {
    "collapsed": true
   },
   "outputs": [],
   "source": [
    "# Merge data\n",
    "df = merge_dfs_on_column(list(price_data.values()), list(price_data.keys()), 'bestAsk')"
   ]
  },
  {
   "cell_type": "markdown",
   "metadata": {},
   "source": [
    "### Shift price data to catch price movements"
   ]
  },
  {
   "cell_type": "code",
   "execution_count": 182,
   "metadata": {
    "collapsed": true
   },
   "outputs": [],
   "source": [
    "for pair in pairs:\n",
    "    df[pair+\"next\"] = df[pair].shift(-1)"
   ]
  },
  {
   "cell_type": "markdown",
   "metadata": {},
   "source": [
    "### Label price move into 1, -1, 0"
   ]
  },
  {
   "cell_type": "code",
   "execution_count": 183,
   "metadata": {
    "collapsed": true
   },
   "outputs": [],
   "source": [
    "# Add next price move columns for each coin\n",
    "for pair in pairs:\n",
    "    df[pair+'move'] = '0'\n",
    "    df.loc[df[pair] < df[pair+'next'], pair+'move'] = '1'\n",
    "    df.loc[df[pair] > df[pair+'next'], pair+'move'] = '-1'\n",
    "    df.loc[df[pair] == df[pair+'next'], pair+'move'] = '0'"
   ]
  },
  {
   "cell_type": "code",
   "execution_count": 184,
   "metadata": {
    "collapsed": true
   },
   "outputs": [],
   "source": [
    "df2 = df"
   ]
  },
  {
   "cell_type": "code",
   "execution_count": 10,
   "metadata": {
    "collapsed": true
   },
   "outputs": [],
   "source": [
    "# Making new columns with previous five price move for each pair\n",
    "for pair in pairs:\n",
    "    df2[pair+'lastfive'] = df2[pair+'move'].rolling(min_periods=1,window=5).sum()"
   ]
  },
  {
   "cell_type": "code",
   "execution_count": 11,
   "metadata": {
    "collapsed": true
   },
   "outputs": [],
   "source": [
    "# Making new columns with previous five price move for each pair\n",
    "for pair in pairs:\n",
    "    df2[pair+'lastten'] = df2[pair+'move'].rolling(min_periods=1,window=10).sum()"
   ]
  },
  {
   "cell_type": "code",
   "execution_count": 12,
   "metadata": {
    "collapsed": true
   },
   "outputs": [],
   "source": [
    "# Making new columns with previous five price move for each pair\n",
    "for pair in pairs:\n",
    "    df2[pair+'lastfifteen'] = df2[pair+'move'].rolling(min_periods=1,window=15).sum()"
   ]
  },
  {
   "cell_type": "code",
   "execution_count": 13,
   "metadata": {
    "collapsed": true
   },
   "outputs": [],
   "source": [
    "# Making new columns with previous five price move for each pair\n",
    "for pair in pairs:\n",
    "    df2[pair+'lasttwenty'] = df2[pair+'move'].rolling(min_periods=1,window=20).sum()"
   ]
  },
  {
   "cell_type": "code",
   "execution_count": 30,
   "metadata": {
    "collapsed": true
   },
   "outputs": [],
   "source": [
    "# Making new columns with previous five price move for each pair\n",
    "for pair in pairs:\n",
    "    df2[pair+'lastthirty'] = df2[pair+'move'].rolling(min_periods=1,window=30).sum()"
   ]
  },
  {
   "cell_type": "code",
   "execution_count": 35,
   "metadata": {
    "collapsed": true
   },
   "outputs": [],
   "source": [
    "# Making new columns with previous five price move for each pair\n",
    "for pair in pairs:\n",
    "    df2[pair+'lastfourty'] = df2[pair+'move'].rolling(min_periods=1,window=40).sum()"
   ]
  },
  {
   "cell_type": "code",
   "execution_count": 41,
   "metadata": {
    "collapsed": true
   },
   "outputs": [],
   "source": [
    "# Making new columns with previous five price move for each pair\n",
    "for pair in pairs:\n",
    "    df2[pair+'lastfifty'] = df2[pair+'move'].rolling(min_periods=1,window=50).sum()"
   ]
  },
  {
   "cell_type": "code",
   "execution_count": 45,
   "metadata": {
    "collapsed": true
   },
   "outputs": [],
   "source": [
    "# Making new columns with previous five price move for each pair\n",
    "for pair in pairs:\n",
    "    df2[pair+'lastsixty'] = df2[pair+'move'].rolling(min_periods=1,window=60).sum()"
   ]
  },
  {
   "cell_type": "code",
   "execution_count": 14,
   "metadata": {
    "collapsed": true
   },
   "outputs": [],
   "source": [
    "# Define a new data frame for last five price move\n",
    "df5 = pd.DataFrame()\n",
    "for pair in pairs:\n",
    "    df5[pair+'lastfive'] = df2[pair+'lastfive']"
   ]
  },
  {
   "cell_type": "code",
   "execution_count": 15,
   "metadata": {
    "collapsed": true
   },
   "outputs": [],
   "source": [
    "# Define a new data frame for last five price move\n",
    "df10 = pd.DataFrame()\n",
    "for pair in pairs:\n",
    "    df10[pair+'lastten'] = df2[pair+'lastten']"
   ]
  },
  {
   "cell_type": "code",
   "execution_count": 16,
   "metadata": {
    "collapsed": true
   },
   "outputs": [],
   "source": [
    "# Define a new data frame for last five price move\n",
    "df15 = pd.DataFrame()\n",
    "for pair in pairs:\n",
    "    df15[pair+'lastfifteen'] = df2[pair+'lastfifteen']"
   ]
  },
  {
   "cell_type": "code",
   "execution_count": 17,
   "metadata": {
    "collapsed": true
   },
   "outputs": [],
   "source": [
    "# Define a new data frame for last five price move\n",
    "df20 = pd.DataFrame()\n",
    "for pair in pairs:\n",
    "    df20[pair+'lasttwenty'] = df2[pair+'lasttwenty']"
   ]
  },
  {
   "cell_type": "code",
   "execution_count": 31,
   "metadata": {
    "collapsed": true
   },
   "outputs": [],
   "source": [
    "# Define a new data frame for last five price move\n",
    "df30 = pd.DataFrame()\n",
    "for pair in pairs:\n",
    "    df30[pair+'lastthirty'] = df2[pair+'lastthirty']"
   ]
  },
  {
   "cell_type": "code",
   "execution_count": 38,
   "metadata": {
    "collapsed": true
   },
   "outputs": [],
   "source": [
    "# Define a new data frame for last five price move\n",
    "df40 = pd.DataFrame()\n",
    "for pair in pairs:\n",
    "    df40[pair+'lastfourty'] = df2[pair+'lastfourty']"
   ]
  },
  {
   "cell_type": "code",
   "execution_count": 42,
   "metadata": {
    "collapsed": true
   },
   "outputs": [],
   "source": [
    "# Define a new data frame for last five price move\n",
    "df50 = pd.DataFrame()\n",
    "for pair in pairs:\n",
    "    df50[pair+'lastfifty'] = df2[pair+'lastfifty']"
   ]
  },
  {
   "cell_type": "code",
   "execution_count": 48,
   "metadata": {
    "collapsed": true
   },
   "outputs": [],
   "source": [
    "# Define a new data frame for last five price move\n",
    "df60 = pd.DataFrame()\n",
    "for pair in pairs:\n",
    "    df60[pair+'lastsixty'] = df2[pair+'lastsixty']"
   ]
  },
  {
   "cell_type": "code",
   "execution_count": 18,
   "metadata": {},
   "outputs": [
    {
     "data": {
      "text/plain": [
       "((60000, 63), (60000, 63), (60000, 9), (60000, 9), (60000, 9), (60000, 9))"
      ]
     },
     "execution_count": 18,
     "metadata": {},
     "output_type": "execute_result"
    }
   ],
   "source": [
    "df.shape, df2.shape, df5.shape, df10.shape, df15.shape, df20.shape"
   ]
  },
  {
   "cell_type": "code",
   "execution_count": 19,
   "metadata": {
    "collapsed": true
   },
   "outputs": [],
   "source": [
    "df2 = df[['BCHmove', 'ETCmove', 'ETHmove', 'LSKmove', 'LTCmove', 'OMGmove', 'XMRmove', 'XRPmove', 'ZECmove']]\n",
    "df2 = df2.apply(pd.to_numeric)"
   ]
  },
  {
   "cell_type": "code",
   "execution_count": 20,
   "metadata": {},
   "outputs": [
    {
     "data": {
      "text/html": [
       "<div>\n",
       "<style>\n",
       "    .dataframe thead tr:only-child th {\n",
       "        text-align: right;\n",
       "    }\n",
       "\n",
       "    .dataframe thead th {\n",
       "        text-align: left;\n",
       "    }\n",
       "\n",
       "    .dataframe tbody tr th {\n",
       "        vertical-align: top;\n",
       "    }\n",
       "</style>\n",
       "<table border=\"1\" class=\"dataframe\">\n",
       "  <thead>\n",
       "    <tr style=\"text-align: right;\">\n",
       "      <th></th>\n",
       "      <th>BCHmove</th>\n",
       "      <th>ETCmove</th>\n",
       "      <th>ETHmove</th>\n",
       "      <th>LSKmove</th>\n",
       "      <th>LTCmove</th>\n",
       "      <th>OMGmove</th>\n",
       "      <th>XMRmove</th>\n",
       "      <th>XRPmove</th>\n",
       "      <th>ZECmove</th>\n",
       "    </tr>\n",
       "  </thead>\n",
       "  <tbody>\n",
       "    <tr>\n",
       "      <th>BCHmove</th>\n",
       "      <td>1.000000</td>\n",
       "      <td>-0.001339</td>\n",
       "      <td>0.003761</td>\n",
       "      <td>-0.016069</td>\n",
       "      <td>-0.016032</td>\n",
       "      <td>-0.011257</td>\n",
       "      <td>0.002991</td>\n",
       "      <td>0.007891</td>\n",
       "      <td>0.001987</td>\n",
       "    </tr>\n",
       "    <tr>\n",
       "      <th>ETCmove</th>\n",
       "      <td>-0.001339</td>\n",
       "      <td>1.000000</td>\n",
       "      <td>0.001006</td>\n",
       "      <td>0.002575</td>\n",
       "      <td>0.004272</td>\n",
       "      <td>0.002050</td>\n",
       "      <td>0.001853</td>\n",
       "      <td>0.005472</td>\n",
       "      <td>-0.009977</td>\n",
       "    </tr>\n",
       "    <tr>\n",
       "      <th>ETHmove</th>\n",
       "      <td>0.003761</td>\n",
       "      <td>0.001006</td>\n",
       "      <td>1.000000</td>\n",
       "      <td>-0.005055</td>\n",
       "      <td>-0.000622</td>\n",
       "      <td>0.016860</td>\n",
       "      <td>-0.011569</td>\n",
       "      <td>-0.002966</td>\n",
       "      <td>-0.001432</td>\n",
       "    </tr>\n",
       "    <tr>\n",
       "      <th>LSKmove</th>\n",
       "      <td>-0.016069</td>\n",
       "      <td>0.002575</td>\n",
       "      <td>-0.005055</td>\n",
       "      <td>1.000000</td>\n",
       "      <td>0.006896</td>\n",
       "      <td>-0.011018</td>\n",
       "      <td>0.001331</td>\n",
       "      <td>0.007326</td>\n",
       "      <td>0.004958</td>\n",
       "    </tr>\n",
       "    <tr>\n",
       "      <th>LTCmove</th>\n",
       "      <td>-0.016032</td>\n",
       "      <td>0.004272</td>\n",
       "      <td>-0.000622</td>\n",
       "      <td>0.006896</td>\n",
       "      <td>1.000000</td>\n",
       "      <td>0.001123</td>\n",
       "      <td>0.002057</td>\n",
       "      <td>0.000330</td>\n",
       "      <td>0.010742</td>\n",
       "    </tr>\n",
       "    <tr>\n",
       "      <th>OMGmove</th>\n",
       "      <td>-0.011257</td>\n",
       "      <td>0.002050</td>\n",
       "      <td>0.016860</td>\n",
       "      <td>-0.011018</td>\n",
       "      <td>0.001123</td>\n",
       "      <td>1.000000</td>\n",
       "      <td>0.018415</td>\n",
       "      <td>0.005669</td>\n",
       "      <td>0.002463</td>\n",
       "    </tr>\n",
       "    <tr>\n",
       "      <th>XMRmove</th>\n",
       "      <td>0.002991</td>\n",
       "      <td>0.001853</td>\n",
       "      <td>-0.011569</td>\n",
       "      <td>0.001331</td>\n",
       "      <td>0.002057</td>\n",
       "      <td>0.018415</td>\n",
       "      <td>1.000000</td>\n",
       "      <td>0.002225</td>\n",
       "      <td>-0.001765</td>\n",
       "    </tr>\n",
       "    <tr>\n",
       "      <th>XRPmove</th>\n",
       "      <td>0.007891</td>\n",
       "      <td>0.005472</td>\n",
       "      <td>-0.002966</td>\n",
       "      <td>0.007326</td>\n",
       "      <td>0.000330</td>\n",
       "      <td>0.005669</td>\n",
       "      <td>0.002225</td>\n",
       "      <td>1.000000</td>\n",
       "      <td>-0.002510</td>\n",
       "    </tr>\n",
       "    <tr>\n",
       "      <th>ZECmove</th>\n",
       "      <td>0.001987</td>\n",
       "      <td>-0.009977</td>\n",
       "      <td>-0.001432</td>\n",
       "      <td>0.004958</td>\n",
       "      <td>0.010742</td>\n",
       "      <td>0.002463</td>\n",
       "      <td>-0.001765</td>\n",
       "      <td>-0.002510</td>\n",
       "      <td>1.000000</td>\n",
       "    </tr>\n",
       "  </tbody>\n",
       "</table>\n",
       "</div>"
      ],
      "text/plain": [
       "          BCHmove   ETCmove   ETHmove   LSKmove   LTCmove   OMGmove   XMRmove  \\\n",
       "BCHmove  1.000000 -0.001339  0.003761 -0.016069 -0.016032 -0.011257  0.002991   \n",
       "ETCmove -0.001339  1.000000  0.001006  0.002575  0.004272  0.002050  0.001853   \n",
       "ETHmove  0.003761  0.001006  1.000000 -0.005055 -0.000622  0.016860 -0.011569   \n",
       "LSKmove -0.016069  0.002575 -0.005055  1.000000  0.006896 -0.011018  0.001331   \n",
       "LTCmove -0.016032  0.004272 -0.000622  0.006896  1.000000  0.001123  0.002057   \n",
       "OMGmove -0.011257  0.002050  0.016860 -0.011018  0.001123  1.000000  0.018415   \n",
       "XMRmove  0.002991  0.001853 -0.011569  0.001331  0.002057  0.018415  1.000000   \n",
       "XRPmove  0.007891  0.005472 -0.002966  0.007326  0.000330  0.005669  0.002225   \n",
       "ZECmove  0.001987 -0.009977 -0.001432  0.004958  0.010742  0.002463 -0.001765   \n",
       "\n",
       "          XRPmove   ZECmove  \n",
       "BCHmove  0.007891  0.001987  \n",
       "ETCmove  0.005472 -0.009977  \n",
       "ETHmove -0.002966 -0.001432  \n",
       "LSKmove  0.007326  0.004958  \n",
       "LTCmove  0.000330  0.010742  \n",
       "OMGmove  0.005669  0.002463  \n",
       "XMRmove  0.002225 -0.001765  \n",
       "XRPmove  1.000000 -0.002510  \n",
       "ZECmove -0.002510  1.000000  "
      ]
     },
     "execution_count": 20,
     "metadata": {},
     "output_type": "execute_result"
    }
   ],
   "source": [
    "df2.corr()"
   ]
  },
  {
   "cell_type": "code",
   "execution_count": 177,
   "metadata": {},
   "outputs": [
    {
     "data": {
      "image/png": "[encoded data removed]",
      "text/plain": [
       "<matplotlib.figure.Figure at 0x1561e42a160>"
      ]
     },
     "metadata": {},
     "output_type": "display_data"
    }
   ],
   "source": [
    "corrmat = df2.corr()\n",
    "f, ax = plt.subplots(figsize=(12, 9))\n",
    "sns.heatmap(corrmat, vmax=.8, square=True);"
   ]
  },
  {
   "cell_type": "code",
   "execution_count": 178,
   "metadata": {
    "scrolled": true
   },
   "outputs": [
    {
     "data": {
      "image/png": "[encoded data removed]",
      "text/plain": [
       "<matplotlib.figure.Figure at 0x15619338a58>"
      ]
     },
     "metadata": {},
     "output_type": "display_data"
    }
   ],
   "source": [
    "temp = df2.head(1000)\n",
    "f, ax = plt.subplots(figsize=(7, 3))\n",
    "sns.countplot(y=\"BCHmove\", data=temp, color=\"c\");"
   ]
  },
  {
   "cell_type": "markdown",
   "metadata": {},
   "source": [
    "### import libraries for machine learning algorithms"
   ]
  },
  {
   "cell_type": "code",
   "execution_count": 21,
   "metadata": {
    "collapsed": true
   },
   "outputs": [],
   "source": [
    "from sklearn.utils import class_weight\n",
    "from sklearn.decomposition import PCA\n",
    "from sklearn.preprocessing import StandardScaler, LabelEncoder\n",
    " \n",
    "from sklearn.linear_model import LogisticRegression\n",
    "from sklearn.svm import SVC\n",
    "from sklearn.neighbors import KNeighborsClassifier\n",
    "from sklearn import tree\n",
    "from sklearn.neural_network import MLPClassifier\n",
    "from sklearn.neighbors import KNeighborsClassifier\n",
    "from sklearn.ensemble import GradientBoostingClassifier\n",
    "from sklearn.gaussian_process.kernels import RBF\n",
    "from sklearn.ensemble import RandomForestClassifier\n",
    "from sklearn.naive_bayes import GaussianNB"
   ]
  },
  {
   "cell_type": "code",
   "execution_count": 22,
   "metadata": {},
   "outputs": [
    {
     "name": "stdout",
     "output_type": "stream",
     "text": [
      "Automatically created module for IPython interactive environment\n"
     ]
    }
   ],
   "source": [
    "print(__doc__)\n",
    "\n",
    "import itertools\n",
    "from sklearn import svm, datasets\n",
    "from sklearn.model_selection import train_test_split\n",
    "from sklearn.metrics import confusion_matrix"
   ]
  },
  {
   "cell_type": "markdown",
   "metadata": {},
   "source": [
    "### Prepare data sets for training and testing"
   ]
  },
  {
   "cell_type": "code",
   "execution_count": 23,
   "metadata": {
    "collapsed": true
   },
   "outputs": [],
   "source": [
    "df1 = df2[['BCHmove','ETCmove','ETHmove','LSKmove','LTCmove','OMGmove','XMRmove','XRPmove','ZECmove']]"
   ]
  },
  {
   "cell_type": "code",
   "execution_count": 185,
   "metadata": {
    "collapsed": true
   },
   "outputs": [],
   "source": [
    "# Define X, Y for previous ten price move data set\n",
    "X = df10.drop('BCHlastten',axis=1)\n",
    "Y = df2['BCHmove']"
   ]
  },
  {
   "cell_type": "code",
   "execution_count": 183,
   "metadata": {
    "collapsed": true
   },
   "outputs": [],
   "source": [
    "# Define X, Y for previous five price move data set\n",
    "X = df5.drop('BCHlastfive',axis=1)\n",
    "Y = df2['BCHmove']"
   ]
  },
  {
   "cell_type": "code",
   "execution_count": 180,
   "metadata": {
    "collapsed": true
   },
   "outputs": [],
   "source": [
    "# Define X, Y for last price move data set \n",
    "X = df1.drop('BCHmove',axis=1)\n",
    "Y = df1['BCHmove']"
   ]
  },
  {
   "cell_type": "code",
   "execution_count": 24,
   "metadata": {
    "collapsed": true
   },
   "outputs": [],
   "source": [
    "# Define X, Y for last price move data set \n",
    "X = df15.drop('BCHlastfifteen',axis=1)\n",
    "Y = df1['BCHmove']"
   ]
  },
  {
   "cell_type": "code",
   "execution_count": 28,
   "metadata": {
    "collapsed": true
   },
   "outputs": [],
   "source": [
    "# Define X, Y for last price move data set \n",
    "X = df20.drop('BCHlasttwenty',axis=1)\n",
    "Y = df1['BCHmove']"
   ]
  },
  {
   "cell_type": "code",
   "execution_count": 32,
   "metadata": {
    "collapsed": true
   },
   "outputs": [],
   "source": [
    "# Define X, Y for last price move data set \n",
    "X = df30.drop('BCHlastthirty',axis=1)\n",
    "Y = df1['BCHmove']"
   ]
  },
  {
   "cell_type": "code",
   "execution_count": 39,
   "metadata": {
    "collapsed": true
   },
   "outputs": [],
   "source": [
    "# Define X, Y for last price move data set \n",
    "X = df40.drop('BCHlastfourty',axis=1)\n",
    "Y = df1['BCHmove']"
   ]
  },
  {
   "cell_type": "code",
   "execution_count": 51,
   "metadata": {
    "collapsed": true
   },
   "outputs": [],
   "source": [
    "# Define X, Y for last price move data set \n",
    "X = df50.drop('BCHlastfifty',axis=1)\n",
    "Y = df1['BCHmove']"
   ]
  },
  {
   "cell_type": "code",
   "execution_count": 82,
   "metadata": {
    "collapsed": true
   },
   "outputs": [],
   "source": [
    "# Define X, Y for last price move data set \n",
    "X = df60.drop('BCHlastsixty',axis=1)\n",
    "Y = df1['BCHmove']"
   ]
  },
  {
   "cell_type": "code",
   "execution_count": 33,
   "metadata": {},
   "outputs": [
    {
     "data": {
      "text/plain": [
       "((60000, 8), (60000,))"
      ]
     },
     "execution_count": 33,
     "metadata": {},
     "output_type": "execute_result"
    }
   ],
   "source": [
    "X.shape, Y.shape"
   ]
  },
  {
   "cell_type": "code",
   "execution_count": 25,
   "metadata": {},
   "outputs": [
    {
     "data": {
      "text/plain": [
       "array([-1,  1,  0], dtype=int64)"
      ]
     },
     "execution_count": 25,
     "metadata": {},
     "output_type": "execute_result"
    }
   ],
   "source": [
    "# categories existing in the data set\n",
    "pd.unique(Y)"
   ]
  },
  {
   "cell_type": "markdown",
   "metadata": {},
   "source": [
    "### Testing Models"
   ]
  },
  {
   "cell_type": "markdown",
   "metadata": {},
   "source": [
    "##### Automatically Growing size of historical feeds"
   ]
  },
  {
   "cell_type": "code",
   "execution_count": 185,
   "metadata": {
    "collapsed": true
   },
   "outputs": [],
   "source": [
    "dfset = {}\n",
    "dfset1 = {}"
   ]
  },
  {
   "cell_type": "code",
   "execution_count": 186,
   "metadata": {
    "collapsed": true
   },
   "outputs": [],
   "source": [
    "for j in ['1','5','10','15','20','25','30','40','50','60','70','80','90','100']:\n",
    "    dfset[j] = pd.DataFrame()\n",
    "    dfset1[j] = pd.DataFrame()"
   ]
  },
  {
   "cell_type": "code",
   "execution_count": 187,
   "metadata": {
    "collapsed": true
   },
   "outputs": [],
   "source": [
    "for j in ['1','5','10','15','20','25','30','40','50','60','70','80','90','100']:\n",
    "    for pair in pairs:\n",
    "        df2[pair+j] = df2[pair+'move'].rolling(min_periods=1,window=int(j)).sum()\n",
    "        dfset[j][pair+j] = df2[pair+j]"
   ]
  },
  {
   "cell_type": "code",
   "execution_count": 188,
   "metadata": {
    "collapsed": true
   },
   "outputs": [],
   "source": [
    "\n",
    "for i in ['1000','10000','30000','60000','100000']:\n",
    "    for j in ['1','5','10','15','20','25','30','40','50','60','70','80','90','100']:\n",
    "        dfset1[j] = dfset[j].head(int(i))"
   ]
  },
  {
   "cell_type": "code",
   "execution_count": 192,
   "metadata": {
    "scrolled": false
   },
   "outputs": [
    {
     "name": "stdout",
     "output_type": "stream",
     "text": [
      "1000 1 51.3333333333\n",
      "1000 5 57.6666666667\n",
      "1000 10 55.6666666667\n",
      "1000 15 59.6666666667\n",
      "1000 20 58.0\n",
      "1000 25 59.3333333333\n",
      "1000 30 57.6666666667\n",
      "1000 40 60.0\n",
      "1000 50 60.0\n",
      "1000 60 58.6666666667\n",
      "1000 70 58.0\n",
      "1000 80 60.0\n",
      "1000 90 62.0\n",
      "1000 100 57.6666666667\n",
      "10000 1 42.7666666667\n",
      "10000 5 49.2333333333\n",
      "10000 10 58.4\n",
      "10000 15 61.3333333333\n",
      "10000 20 61.9\n",
      "10000 25 62.3333333333\n",
      "10000 30 63.3\n",
      "10000 40 63.1333333333\n",
      "10000 50 63.6\n",
      "10000 60 62.9333333333\n",
      "10000 70 62.6333333333\n",
      "10000 80 63.3333333333\n",
      "10000 90 62.1\n",
      "10000 100 62.9666666667\n",
      "30000 1 43.0\n",
      "30000 5 46.4777777778\n",
      "30000 10 53.3\n",
      "30000 15 56.4888888889\n",
      "30000 20 57.2111111111\n",
      "30000 25 58.0666666667\n",
      "30000 30 58.1777777778\n",
      "30000 40 58.3444444444\n",
      "30000 50 58.0888888889\n",
      "30000 60 58.1444444444\n",
      "30000 70 58.3111111111\n",
      "30000 80 58.1888888889\n",
      "30000 90 58.0\n",
      "30000 100 58.3777777778\n",
      "60000 1 42.3333333333\n",
      "60000 5 44.7055555556\n",
      "60000 10 51.0944444444\n",
      "60000 15 55.1111111111\n",
      "60000 20 55.8055555556\n",
      "60000 25 56.3611111111\n",
      "60000 30 56.6722222222\n",
      "60000 40 56.9444444444\n",
      "60000 50 57.0888888889\n",
      "60000 60 56.7833333333\n",
      "60000 70 57.1611111111\n",
      "60000 80 56.9722222222\n",
      "60000 90 56.9166666667\n",
      "60000 100 57.1722222222\n",
      "100000 1 45.1133333333\n",
      "100000 5 47.19\n",
      "100000 10 53.9133333333\n",
      "100000 15 57.9766666667\n",
      "100000 20 59.9166666667\n",
      "100000 25 60.4066666667\n",
      "100000 30 60.7333333333\n",
      "100000 40 60.9366666667\n",
      "100000 50 60.9333333333\n",
      "100000 60 61.02\n",
      "100000 70 61.0666666667\n",
      "100000 80 61.01\n",
      "100000 90 60.9033333333\n",
      "100000 100 60.8966666667\n"
     ]
    }
   ],
   "source": [
    "# Making new columns with previous five price move for each pair\n",
    "\n",
    "#acc = pd.DataFrame(columns=('nrows','feeds','rates'))\n",
    "\n",
    "knn = KNeighborsClassifier(n_neighbors = 3)\n",
    "\n",
    "rows = []\n",
    "columns = ['nrows','feeds', 'scores']\n",
    "\n",
    "for i in ['1000','10000','30000','60000','100000']:\n",
    "    for j in ['1','5','10','15','20','25','30','40','50','60','70','80','90','100']:\n",
    "        dfin = dfset1[j].head(int(i))\n",
    "        X = dfin.drop('BCH'+j,axis=1)\n",
    "        Y = dfset['1']['BCH1'].head(int(i))\n",
    "        \n",
    "        X_train, X_test, Y_train, Y_test = train_test_split(X, Y, test_size=0.3, random_state=18)#42 #12\n",
    "        \n",
    "        modelV = knn.fit(X_train, Y_train)\n",
    "        Y_pred = modelV.predict(X_test)\n",
    "        score = modelV.score(X_test,Y_test)*100\n",
    "        \n",
    "        print(i,j,score)\n",
    "        row = [i,j,score]\n",
    "        rows.append(row)\n",
    "\n",
    "acc = pd.DataFrame(rows, columns=columns)"
   ]
  },
  {
   "cell_type": "code",
   "execution_count": 193,
   "metadata": {
    "collapsed": true
   },
   "outputs": [],
   "source": [
    "acc['feeds'] = pd.to_numeric(acc['feeds'])"
   ]
  },
  {
   "cell_type": "code",
   "execution_count": 194,
   "metadata": {
    "scrolled": true
   },
   "outputs": [
    {
     "data": {
      "text/plain": [
       "<matplotlib.legend.Legend at 0x20a430505f8>"
      ]
     },
     "execution_count": 194,
     "metadata": {},
     "output_type": "execute_result"
    },
    {
     "data": {
      "image/png": "[encoded data removed]",
      "text/plain": [
       "<matplotlib.figure.Figure at 0x20a42da89b0>"
      ]
     },
     "metadata": {},
     "output_type": "display_data"
    }
   ],
   "source": [
    "fig,ax = plt.subplots()\n",
    "\n",
    "for nrow in ['1000','10000','30000','60000','100000']:\n",
    "    ax.plot(acc[acc.nrows==nrow].feeds,acc[acc.nrows==nrow].scores,label=nrow)\n",
    "\n",
    "ax.set_xlabel(\"feed\")\n",
    "ax.set_ylabel(\"classification rate(%)\")\n",
    "ax.legend(loc='best')"
   ]
  },
  {
   "cell_type": "code",
   "execution_count": 52,
   "metadata": {
    "scrolled": true
   },
   "outputs": [
    {
     "data": {
      "text/html": [
       "<div>\n",
       "<style>\n",
       "    .dataframe thead tr:only-child th {\n",
       "        text-align: right;\n",
       "    }\n",
       "\n",
       "    .dataframe thead th {\n",
       "        text-align: left;\n",
       "    }\n",
       "\n",
       "    .dataframe tbody tr th {\n",
       "        vertical-align: top;\n",
       "    }\n",
       "</style>\n",
       "<table border=\"1\" class=\"dataframe\">\n",
       "  <thead>\n",
       "    <tr style=\"text-align: right;\">\n",
       "      <th></th>\n",
       "      <th>Model</th>\n",
       "      <th>Score</th>\n",
       "    </tr>\n",
       "  </thead>\n",
       "  <tbody>\n",
       "    <tr>\n",
       "      <th>0</th>\n",
       "      <td>Random Forest</td>\n",
       "      <td>62.922</td>\n",
       "    </tr>\n",
       "    <tr>\n",
       "      <th>5</th>\n",
       "      <td>Gradient Boosting</td>\n",
       "      <td>61.517</td>\n",
       "    </tr>\n",
       "    <tr>\n",
       "      <th>1</th>\n",
       "      <td>KNN</td>\n",
       "      <td>61.228</td>\n",
       "    </tr>\n",
       "    <tr>\n",
       "      <th>3</th>\n",
       "      <td>Logistic Regression</td>\n",
       "      <td>60.439</td>\n",
       "    </tr>\n",
       "    <tr>\n",
       "      <th>2</th>\n",
       "      <td>Naive Bayes</td>\n",
       "      <td>60.222</td>\n",
       "    </tr>\n",
       "    <tr>\n",
       "      <th>4</th>\n",
       "      <td>Decision Tree</td>\n",
       "      <td>56.744</td>\n",
       "    </tr>\n",
       "  </tbody>\n",
       "</table>\n",
       "</div>"
      ],
      "text/plain": [
       "                 Model   Score\n",
       "0        Random Forest  62.922\n",
       "5    Gradient Boosting  61.517\n",
       "1                  KNN  61.228\n",
       "3  Logistic Regression  60.439\n",
       "2          Naive Bayes  60.222\n",
       "4        Decision Tree  56.744"
      ]
     },
     "execution_count": 52,
     "metadata": {},
     "output_type": "execute_result"
    }
   ],
   "source": [
    "# Validation Set approach\n",
    "from sklearn.model_selection import train_test_split\n",
    "X_train, X_test, Y_train, Y_test = train_test_split(X, Y, test_size=0.3, random_state=42)\n",
    "\n",
    "accuracyList = {}\n",
    "\n",
    "clf = tree.DecisionTreeClassifier(class_weight=\"balanced\")\n",
    "gaussian = GaussianNB()\n",
    "logreg = LogisticRegression(class_weight=\"balanced\")\n",
    "boost = GradientBoostingClassifier()\n",
    "knn = KNeighborsClassifier(n_neighbors = 3)\n",
    "forest = RandomForestClassifier(n_estimators = 18)\n",
    "\n",
    "models = [clf,gaussian,logreg,boost,knn,forest]\n",
    "\n",
    "for model in models:\n",
    "    accuracyList[model] = 0\n",
    "    \n",
    "for model in models:\n",
    "    modelV = model.fit(X_train, Y_train)\n",
    "    Y_pred = modelV.predict(X_test)\n",
    "    accuracyList[model] = round(modelV.score(X_test,Y_test)*100,3)\n",
    "\n",
    "#models = [clf,gaussian,logreg,boost,knn,forest]\n",
    "accResult = pd.DataFrame({\n",
    "    'Model': ['Random Forest', 'KNN', 'Naive Bayes', \n",
    "              'Logistic Regression', 'Decision Tree', 'Gradient Boosting'],\n",
    "    'Score': [accuracyList[forest], accuracyList[knn], accuracyList[gaussian], \n",
    "              accuracyList[logreg], accuracyList[clf], accuracyList[boost]]})\n",
    "accResult.sort_values(by='Score', ascending=False)"
   ]
  },
  {
   "cell_type": "markdown",
   "metadata": {},
   "source": [
    "### Test to draw confusion matrix"
   ]
  },
  {
   "cell_type": "code",
   "execution_count": 83,
   "metadata": {},
   "outputs": [
    {
     "name": "stdout",
     "output_type": "stream",
     "text": [
      "62.767\n"
     ]
    }
   ],
   "source": [
    "forest = RandomForestClassifier(n_estimators = 18)\n",
    "modelV = model.fit(X_train, Y_train)\n",
    "Y_pred = modelV.predict(X_test)\n",
    "print(round(modelV.score(X_test,Y_test)*100,3))"
   ]
  },
  {
   "cell_type": "code",
   "execution_count": 84,
   "metadata": {},
   "outputs": [
    {
     "name": "stdout",
     "output_type": "stream",
     "text": [
      "Confusion matrix, without normalization\n",
      "[[ 105  791  836]\n",
      " [ 340 4163 2293]\n",
      " [ 396 2046 7030]]\n",
      "Normalized confusion matrix\n",
      "[[ 0.06  0.46  0.48]\n",
      " [ 0.05  0.61  0.34]\n",
      " [ 0.04  0.22  0.74]]\n"
     ]
    },
    {
     "data": {
      "image/png": "[encoded data removed]",
      "text/plain": [
       "<matplotlib.figure.Figure at 0x20a47b7bb70>"
      ]
     },
     "metadata": {},
     "output_type": "display_data"
    },
    {
     "data": {
      "image/png": "[encoded data removed]",
      "text/plain": [
       "<matplotlib.figure.Figure at 0x20a47af2c18>"
      ]
     },
     "metadata": {},
     "output_type": "display_data"
    }
   ],
   "source": [
    "# Plot fonfusion matrix\n",
    "def plot_confusion_matrix(cm, classes,\n",
    "                          normalize=False,\n",
    "                          title='Confusion matrix',\n",
    "                          cmap=plt.cm.Blues):\n",
    "    \"\"\"\n",
    "    This function prints and plots the confusion matrix.\n",
    "    Normalization can be applied by setting `normalize=True`.\n",
    "    \"\"\"\n",
    "    if normalize:\n",
    "        cm = cm.astype('float') / cm.sum(axis=1)[:, np.newaxis]\n",
    "        print(\"Normalized confusion matrix\")\n",
    "    else:\n",
    "        print('Confusion matrix, without normalization')\n",
    "\n",
    "    print(cm)\n",
    "\n",
    "    plt.imshow(cm, interpolation='nearest', cmap=cmap)\n",
    "    plt.title(title)\n",
    "    plt.colorbar()\n",
    "    tick_marks = np.arange(len(classes))\n",
    "    plt.xticks(tick_marks, classes, rotation=45)\n",
    "    plt.yticks(tick_marks, classes)\n",
    "\n",
    "    fmt = '.2f' if normalize else 'd'\n",
    "    thresh = cm.max() / 2.\n",
    "    for i, j in itertools.product(range(cm.shape[0]), range(cm.shape[1])):\n",
    "        plt.text(j, i, format(cm[i, j], fmt),\n",
    "                 horizontalalignment=\"center\",\n",
    "                 color=\"white\" if cm[i, j] > thresh else \"black\")\n",
    "\n",
    "    plt.tight_layout()\n",
    "    plt.ylabel('True label')\n",
    "    plt.xlabel('Predicted label')\n",
    "\n",
    "# Compute confusion matrix\n",
    "cnf_matrix = confusion_matrix(Y_test, Y_pred)\n",
    "np.set_printoptions(precision=2)\n",
    "\n",
    "# Plot non-normalized confusion matrix\n",
    "plt.figure()\n",
    "plot_confusion_matrix(cnf_matrix, classes=[-1,0,1],\n",
    "                      title='Confusion matrix, without normalization')\n",
    "\n",
    "# Plot normalized confusion matrix\n",
    "plt.figure()\n",
    "plot_confusion_matrix(cnf_matrix, classes=[-1,0,1], normalize=True,\n",
    "                      title='Normalized confusion matrix')\n",
    "\n",
    "plt.show()"
   ]
  }
 ],
 "metadata": {
  "kernelspec": {
   "display_name": "Python [conda env:cryptocurrency-analysis]",
   "language": "python",
   "name": "conda-env-cryptocurrency-analysis-py"
  },
  "language_info": {
   "codemirror_mode": {
    "name": "ipython",
    "version": 3
   },
   "file_extension": ".py",
   "mimetype": "text/x-python",
   "name": "python",
   "nbconvert_exporter": "python",
   "pygments_lexer": "ipython3",
   "version": "3.6.3"
  }
 },
 "nbformat": 4,
 "nbformat_minor": 2
}
